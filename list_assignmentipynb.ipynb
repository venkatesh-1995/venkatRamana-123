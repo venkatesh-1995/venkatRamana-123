{
  "nbformat": 4,
  "nbformat_minor": 0,
  "metadata": {
    "colab": {
      "provenance": []
    },
    "kernelspec": {
      "name": "python3",
      "display_name": "Python 3"
    },
    "language_info": {
      "name": "python"
    }
  },
  "cells": [
    {
      "cell_type": "markdown",
      "source": [
        "# Question 1: Create a list of first 10 square numbers\n"
      ],
      "metadata": {
        "id": "bDo6s5VApNTR"
      }
    },
    {
      "cell_type": "code",
      "execution_count": 1,
      "metadata": {
        "id": "cf6hQt0jz86e",
        "colab": {
          "base_uri": "https://localhost:8080/"
        },
        "outputId": "f9fc13c7-79a5-40b5-c7fc-df48039b7418"
      },
      "outputs": [
        {
          "output_type": "stream",
          "name": "stdout",
          "text": [
            "[1, 2, 3, 4, 5, 6, 7, 8, 9, 10]\n"
          ]
        }
      ],
      "source": [
        "l=list(range(1,11))\n",
        "\n",
        "print(l)"
      ]
    },
    {
      "cell_type": "markdown",
      "source": [
        "# Question 2: Find the sum of all even numbers in [1, 2, 3, 4, 5, 6, 7, 8, 9, 10]\n"
      ],
      "metadata": {
        "id": "lGx4wTfppdO1"
      }
    },
    {
      "cell_type": "code",
      "source": [
        "l=[1, 2, 3, 4, 5, 6, 7, 8, 9, 10]\n",
        "sum_even=0\n",
        "for i in l:\n",
        "  if i%2==0:\n",
        "    sum_even=sum_even+i\n",
        "\n",
        "print(sum_even)"
      ],
      "metadata": {
        "colab": {
          "base_uri": "https://localhost:8080/"
        },
        "id": "TpuuPxbwpi0o",
        "outputId": "3c7fe795-baf2-4e63-8238-27558cedf530"
      },
      "execution_count": 3,
      "outputs": [
        {
          "output_type": "stream",
          "name": "stdout",
          "text": [
            "30\n"
          ]
        }
      ]
    },
    {
      "cell_type": "markdown",
      "source": [
        "# Question 3: Remove duplicates from [1, 2, 2, 3, 4, 4, 5, 6, 6, 7]\n"
      ],
      "metadata": {
        "id": "mRB-xcn_p7Ps"
      }
    },
    {
      "cell_type": "code",
      "source": [
        "l=[1, 2, 2, 3, 4, 4, 5, 6, 6, 7]\n",
        "\n",
        "print(set(l))"
      ],
      "metadata": {
        "colab": {
          "base_uri": "https://localhost:8080/"
        },
        "id": "lv9KJvDAqAew",
        "outputId": "5f100ce2-b0cf-42f1-e6cf-aa659f327d9b"
      },
      "execution_count": 4,
      "outputs": [
        {
          "output_type": "stream",
          "name": "stdout",
          "text": [
            "{1, 2, 3, 4, 5, 6, 7}\n"
          ]
        }
      ]
    },
    {
      "cell_type": "markdown",
      "source": [
        "# Question 4: Sort the list [64, 34, 25, 12, 22, 11, 90] in descending order\n"
      ],
      "metadata": {
        "id": "wibVIdusqImu"
      }
    },
    {
      "cell_type": "code",
      "source": [
        "numbers = [64, 34, 25, 12, 22, 11, 90]\n",
        "numbers.sort(reverse=True)\n",
        "print(numbers)\n",
        "# Output: [90, 64, 34, 25, 22, 12, 11]\n"
      ],
      "metadata": {
        "colab": {
          "base_uri": "https://localhost:8080/"
        },
        "id": "tnomYNKSqKas",
        "outputId": "72e998e2-72f7-4b72-b8df-9aa1d2cacb4b"
      },
      "execution_count": 6,
      "outputs": [
        {
          "output_type": "stream",
          "name": "stdout",
          "text": [
            "[90, 64, 34, 25, 22, 12, 11]\n"
          ]
        }
      ]
    },
    {
      "cell_type": "markdown",
      "source": [
        "# Question 5: Find the average of numbers in [15, 23, 31, 42, 56, 78, 91]\n"
      ],
      "metadata": {
        "id": "Nh5_AXWHarDK"
      }
    },
    {
      "cell_type": "code",
      "source": [
        "num=[15, 23, 31, 42, 56, 78, 91]\n",
        "\n",
        "avg=sum(num)/len(num)\n",
        "\n",
        "print(avg)"
      ],
      "metadata": {
        "colab": {
          "base_uri": "https://localhost:8080/"
        },
        "id": "duYOdx0_auXa",
        "outputId": "25ab1de6-e874-40d3-ce9e-4c93400e9d0a"
      },
      "execution_count": 1,
      "outputs": [
        {
          "output_type": "stream",
          "name": "stdout",
          "text": [
            "48.0\n"
          ]
        }
      ]
    },
    {
      "cell_type": "markdown",
      "source": [
        "# Question 6: Create a list of first 15 Fibonacci numbers\n"
      ],
      "metadata": {
        "id": "q2JXmt6UbGCl"
      }
    },
    {
      "cell_type": "code",
      "source": [
        "fib=[0,1]\n",
        "\n",
        "for _ in range(13):\n",
        "\n",
        "    fib.append(fib[-1]+fib[-2])\n",
        "\n",
        "print(fib)"
      ],
      "metadata": {
        "colab": {
          "base_uri": "https://localhost:8080/"
        },
        "id": "-1jwDCBXbJ2i",
        "outputId": "1658ec6b-85ae-46ed-eb86-f7cedd92bc55"
      },
      "execution_count": 5,
      "outputs": [
        {
          "output_type": "stream",
          "name": "stdout",
          "text": [
            "[0, 1, 1, 2, 3, 5, 8, 13, 21, 34, 55, 89, 144, 233, 377]\n"
          ]
        }
      ]
    },
    {
      "cell_type": "markdown",
      "source": [
        "# Question 7: Find the second largest number in [45, 67, 23, 89, 12, 34, 78]\n"
      ],
      "metadata": {
        "id": "H3jSTBhCc0HI"
      }
    },
    {
      "cell_type": "code",
      "source": [
        "mylist=[45, 67, 23, 89, 12, 34, 78]\n",
        "mylist.sort(reverse=True)\n",
        "\n",
        "print(mylist[1])"
      ],
      "metadata": {
        "colab": {
          "base_uri": "https://localhost:8080/"
        },
        "id": "daTjWEFLc4yv",
        "outputId": "505fc05f-68b5-449c-874b-a25c9837d0e1"
      },
      "execution_count": 6,
      "outputs": [
        {
          "output_type": "stream",
          "name": "stdout",
          "text": [
            "78\n"
          ]
        }
      ]
    },
    {
      "cell_type": "markdown",
      "source": [
        "# Question 8: Reverse the list [1, 2, 3, 4, 5, 6, 7, 8, 9, 10]\n"
      ],
      "metadata": {
        "id": "XqpfQLBPdQDz"
      }
    },
    {
      "cell_type": "code",
      "source": [
        "l=[1, 2, 3, 4, 5, 6, 7, 8, 9, 10]\n",
        "l.reverse()\n",
        "print(l)"
      ],
      "metadata": {
        "colab": {
          "base_uri": "https://localhost:8080/"
        },
        "id": "is9BxtokdVS_",
        "outputId": "396b81e5-efe5-4482-92c9-1dfc89761ee7"
      },
      "execution_count": 8,
      "outputs": [
        {
          "output_type": "stream",
          "name": "stdout",
          "text": [
            "[10, 9, 8, 7, 6, 5, 4, 3, 2, 1]\n"
          ]
        }
      ]
    },
    {
      "cell_type": "markdown",
      "source": [
        "# Question 9: Count how many times 5 appears in [1, 5, 2, 5, 3, 5, 4, 5, 6]\n"
      ],
      "metadata": {
        "id": "Fn-QQSfjdcVw"
      }
    },
    {
      "cell_type": "code",
      "source": [
        "l=[1, 5, 2, 5, 3, 5, 4, 5, 6]\n",
        "print(l.count(5))"
      ],
      "metadata": {
        "colab": {
          "base_uri": "https://localhost:8080/"
        },
        "id": "ucKKWlQ1dg5-",
        "outputId": "6980526c-76ef-4a77-a588-020815cb42dc"
      },
      "execution_count": 12,
      "outputs": [
        {
          "output_type": "stream",
          "name": "stdout",
          "text": [
            "4\n"
          ]
        }
      ]
    },
    {
      "cell_type": "markdown",
      "source": [
        "# Question 10: Create a list of prime numbers between 1 and 50\n"
      ],
      "metadata": {
        "id": "knPtdbcYjSL1"
      }
    },
    {
      "cell_type": "code",
      "source": [
        "primes = []\n",
        "\n",
        "for num in range(2, 51):  # Start from 2 because 1 is not prime\n",
        "    for i in range(2, int(num ** 0.5) + 1):\n",
        "        if num % i == 0:\n",
        "            break\n",
        "    else:\n",
        "        primes.append(num)\n",
        "\n",
        "print(primes)\n",
        "# Output: [2, 3, 5, 7, 11, 13, 17, 19, 23, 29, 31, 37, 41, 43, 47]\n"
      ],
      "metadata": {
        "id": "jAyk2XxOjTYI"
      },
      "execution_count": null,
      "outputs": []
    },
    {
      "cell_type": "markdown",
      "source": [
        "# Question 11: Flatten nested list [[1, 2, 3], [4, 5, 6], [7, 8, 9]]\n",
        "\n"
      ],
      "metadata": {
        "id": "I9A8M1JusnVk"
      }
    },
    {
      "cell_type": "code",
      "source": [
        "l=[[1, 2, 3], [4, 5, 6], [7, 8, 9]]\n",
        "\n",
        "flatten=[]\n",
        "\n",
        "for i in l:\n",
        "  for j in i:\n",
        "    flatten.append(j)\n",
        "\n",
        "\n",
        "print(flatten)"
      ],
      "metadata": {
        "colab": {
          "base_uri": "https://localhost:8080/"
        },
        "id": "dizXxVuVsYhp",
        "outputId": "8c51358b-a988-448e-875b-d4464d109071"
      },
      "execution_count": 14,
      "outputs": [
        {
          "output_type": "stream",
          "name": "stdout",
          "text": [
            "[1, 2, 3, 4, 5, 6, 7, 8, 9]\n"
          ]
        }
      ]
    },
    {
      "cell_type": "markdown",
      "source": [
        "# Question 12: Find common elements between [1, 2, 3, 4, 5] and [4, 5, 6, 7, 8]\n"
      ],
      "metadata": {
        "id": "aF_E-LZTtqxH"
      }
    },
    {
      "cell_type": "code",
      "source": [
        "l1,l2=[1, 2, 3, 4, 5],[4, 5, 6, 7, 8]\n",
        "\n",
        "common=list(set(l1) & set(l2))\n",
        "\n",
        "print(common)"
      ],
      "metadata": {
        "colab": {
          "base_uri": "https://localhost:8080/"
        },
        "id": "a2URELADtvOF",
        "outputId": "b390a58f-a876-42cd-b698-2a336f017721"
      },
      "execution_count": 16,
      "outputs": [
        {
          "output_type": "stream",
          "name": "stdout",
          "text": [
            "[4, 5]\n"
          ]
        }
      ]
    },
    {
      "cell_type": "markdown",
      "source": [
        "# Question 13: Create a list of lists: [[1, 2], [3, 4], [5, 6]]\n"
      ],
      "metadata": {
        "id": "BjYCuo9JuFM9"
      }
    },
    {
      "cell_type": "code",
      "source": [
        "nested_list = [[1, 2], [3, 4], [5, 6]]\n",
        "\n",
        "\n",
        "print(nested_list)\n",
        "# Output: [[1, 2], [3, 4], [5, 6]]\n"
      ],
      "metadata": {
        "colab": {
          "base_uri": "https://localhost:8080/"
        },
        "id": "2G7VukxiusqW",
        "outputId": "cae2e7c7-6125-44fe-ecba-fbe0c839a3d6"
      },
      "execution_count": 17,
      "outputs": [
        {
          "output_type": "stream",
          "name": "stdout",
          "text": [
            "[[1, 2], [3, 4], [5, 6]]\n"
          ]
        }
      ]
    },
    {
      "cell_type": "code",
      "source": [
        "del sum"
      ],
      "metadata": {
        "id": "p49bD5oVwu_X"
      },
      "execution_count": 20,
      "outputs": []
    },
    {
      "cell_type": "markdown",
      "source": [
        "# Question 14: Find the sum of each sublist in [[1, 2, 3], [4, 5, 6], [7, 8, 9]]\n"
      ],
      "metadata": {
        "id": "lMsij_X4u5sN"
      }
    },
    {
      "cell_type": "code",
      "source": [
        "l=[[1, 2, 3], [4, 5, 6], [7, 8, 9]]\n",
        "sums=[]\n",
        "for sublist in l:\n",
        "  sums.append(sum(sublist))\n",
        "\n",
        "\n",
        "print(sums)"
      ],
      "metadata": {
        "colab": {
          "base_uri": "https://localhost:8080/"
        },
        "id": "WrMn8r6fu8IU",
        "outputId": "cbfe0e42-82e4-489c-8c9a-88a16b390e27"
      },
      "execution_count": 21,
      "outputs": [
        {
          "output_type": "stream",
          "name": "stdout",
          "text": [
            "[6, 15, 24]\n"
          ]
        }
      ]
    },
    {
      "cell_type": "markdown",
      "source": [
        "# Question 15: Transpose the matrix [[1, 2, 3], [4, 5, 6], [7, 8, 9]]\n"
      ],
      "metadata": {
        "id": "xTLzWVfHw4ad"
      }
    },
    {
      "cell_type": "code",
      "source": [],
      "metadata": {
        "id": "U1Svk5alw6Vc"
      },
      "execution_count": null,
      "outputs": []
    },
    {
      "cell_type": "markdown",
      "source": [
        "# Question 16: Find the maximum value in each sublist of [[1, 5, 3], [9, 2, 7], [4, 8, 6]]\n"
      ],
      "metadata": {
        "id": "ONbO5T2Lw6_f"
      }
    },
    {
      "cell_type": "code",
      "source": [
        "l=[[1, 5, 3], [9, 2, 7], [4, 8, 6]]\n",
        "\n",
        "maxs=[]\n",
        "for sublist in l:\n",
        "  maxs.append(max(sublist))\n",
        "\n",
        "\n",
        "print(maxs)"
      ],
      "metadata": {
        "colab": {
          "base_uri": "https://localhost:8080/"
        },
        "id": "nMttsNFexDvL",
        "outputId": "de45c805-a23e-4265-c5b5-af1cecb81ffa"
      },
      "execution_count": 22,
      "outputs": [
        {
          "output_type": "stream",
          "name": "stdout",
          "text": [
            "[5, 9, 8]\n"
          ]
        }
      ]
    },
    {
      "cell_type": "markdown",
      "source": [
        "# Question 17: Create a 3D list: [[[1, 2], [3, 4]], [[5, 6], [7, 8]]]\n"
      ],
      "metadata": {
        "id": "4hV3OcGRxTTf"
      }
    },
    {
      "cell_type": "code",
      "source": [
        "l=[[[1, 2], [3, 4]], [[5, 6], [7, 8]]]\n",
        "\n",
        "print(l)"
      ],
      "metadata": {
        "colab": {
          "base_uri": "https://localhost:8080/"
        },
        "id": "3WsmQ0DrxeCi",
        "outputId": "6fec8404-9c28-4385-f0d5-1668318c35e9"
      },
      "execution_count": 23,
      "outputs": [
        {
          "output_type": "stream",
          "name": "stdout",
          "text": [
            "[[[1, 2], [3, 4]], [[5, 6], [7, 8]]]\n"
          ]
        }
      ]
    },
    {
      "cell_type": "markdown",
      "source": [
        "# Question 18: Find the sum of all elements in 3D list [[[1, 2], [3, 4]], [[5, 6], [7, 8]]]\n"
      ],
      "metadata": {
        "id": "frBykM0Txxou"
      }
    },
    {
      "cell_type": "code",
      "source": [
        "l=[[[1, 2], [3, 4]], [[5, 6], [7, 8]]]\n",
        "total_sum=0\n",
        "\n",
        "for sublist in l:\n",
        "  for j in sublist:\n",
        "    for z in j:\n",
        "      total_sum+=z\n",
        "print(total_sum)"
      ],
      "metadata": {
        "colab": {
          "base_uri": "https://localhost:8080/"
        },
        "id": "eDuJWBgix0Up",
        "outputId": "db1e894f-a436-490d-bee3-430c9fac2d16"
      },
      "execution_count": 24,
      "outputs": [
        {
          "output_type": "stream",
          "name": "stdout",
          "text": [
            "36\n"
          ]
        }
      ]
    },
    {
      "cell_type": "markdown",
      "source": [
        "# Question 19: Extract all even numbers from nested list [[1, 2, 3], [4, 5, 6], [7, 8, 9]]\n"
      ],
      "metadata": {
        "id": "d9QumymTyjCN"
      }
    },
    {
      "cell_type": "code",
      "source": [
        "k = [[1, 2, 3], [4, 5, 6], [7, 8, 9]]\n",
        "\n",
        "for sublist in k:      # sublist is [1, 2, 3], etc.\n",
        "    for j in sublist:  # j is an integer here\n",
        "        if j % 2 == 0: # ✅ works fine because j is a number\n",
        "            print(j,end=\",\")\n"
      ],
      "metadata": {
        "colab": {
          "base_uri": "https://localhost:8080/"
        },
        "id": "7zbZVxFUz3L8",
        "outputId": "d5b86b92-4d1b-406d-f055-f19117963970"
      },
      "execution_count": 31,
      "outputs": [
        {
          "output_type": "stream",
          "name": "stdout",
          "text": [
            "2,4,6,8,"
          ]
        }
      ]
    },
    {
      "cell_type": "markdown",
      "source": [
        "# Question 20: Create a list of mixed data types: [1, \"hello\", 3.14, True, [1, 2, 3]]\n"
      ],
      "metadata": {
        "id": "weZDkmu90Dzr"
      }
    },
    {
      "cell_type": "code",
      "source": [
        "h=[1, \"hello\", 3.14, True, [1, 2, 3]]\n",
        "print(h)\n"
      ],
      "metadata": {
        "colab": {
          "base_uri": "https://localhost:8080/"
        },
        "id": "6WmBJW0V0JXm",
        "outputId": "fab2758a-85aa-4b8b-b5cf-27ac109b8f41"
      },
      "execution_count": 32,
      "outputs": [
        {
          "output_type": "stream",
          "name": "stdout",
          "text": [
            "[1, 'hello', 3.14, True, [1, 2, 3]]\n"
          ]
        }
      ]
    },
    {
      "cell_type": "markdown",
      "source": [
        "# Question 21: Find the length of each string in [\"apple\", \"banana\", \"cherry\", \"date\"]\n"
      ],
      "metadata": {
        "id": "HTswZdqm0SbI"
      }
    },
    {
      "cell_type": "code",
      "source": [
        "sr=[\"apple\", \"banana\", \"cherry\", \"date\"]\n",
        "\n",
        "for i in sr:\n",
        "  print(f\"length of each string {i} :{len(i)}\")"
      ],
      "metadata": {
        "colab": {
          "base_uri": "https://localhost:8080/"
        },
        "id": "AmhRioSq0Xmi",
        "outputId": "bbb8ed46-a80f-4533-8aac-d29430bd351f"
      },
      "execution_count": 36,
      "outputs": [
        {
          "output_type": "stream",
          "name": "stdout",
          "text": [
            "length of each string apple :5\n",
            "length of each string banana :6\n",
            "length of each string cherry :6\n",
            "length of each string date :4\n"
          ]
        }
      ]
    },
    {
      "cell_type": "markdown",
      "source": [
        "# Question 22: Create a list of tuples: [(1, 'a'), (2, 'b'), (3, 'c')]\n"
      ],
      "metadata": {
        "id": "8K3TK1Rc02hy"
      }
    },
    {
      "cell_type": "code",
      "source": [
        "l = [(1, 'a'), (2, 'b'), (3, 'c')]\n",
        "print(l)\n"
      ],
      "metadata": {
        "colab": {
          "base_uri": "https://localhost:8080/"
        },
        "id": "ZMpaRDXY1C4P",
        "outputId": "f14bb869-1a4f-4a4c-ae8e-9f2650d1ae02"
      },
      "execution_count": 37,
      "outputs": [
        {
          "output_type": "stream",
          "name": "stdout",
          "text": [
            "[(1, 'a'), (2, 'b'), (3, 'c')]\n"
          ]
        }
      ]
    },
    {
      "cell_type": "markdown",
      "source": [
        "# Question 23: Extract first element from each tuple in [(1, 'a'), (2, 'b'), (3, 'c')]\n"
      ],
      "metadata": {
        "id": "iS05WDCx1Enm"
      }
    },
    {
      "cell_type": "code",
      "source": [
        "l = [(1, 'a'), (2, 'b'), (3, 'c')]\n",
        "\n",
        "for i in l:\n",
        "  print(i[0],end=\",\")"
      ],
      "metadata": {
        "colab": {
          "base_uri": "https://localhost:8080/"
        },
        "id": "_ke7aQm01MsK",
        "outputId": "0cd6cae9-3726-4463-9120-4637710af3c4"
      },
      "execution_count": 39,
      "outputs": [
        {
          "output_type": "stream",
          "name": "stdout",
          "text": [
            "1,2,3,"
          ]
        }
      ]
    },
    {
      "cell_type": "markdown",
      "source": [
        "# Question 24: Create a list of dictionaries: [{'name': 'Alice', 'age': 25}, {'name': 'Bob', 'age': 30}]\n"
      ],
      "metadata": {
        "id": "RyVHgHNi1dbI"
      }
    },
    {
      "cell_type": "code",
      "source": [
        "d=[{'name': 'Alice', 'age': 25}, {'name': 'Bob', 'age': 30}]\n",
        "print(d)"
      ],
      "metadata": {
        "colab": {
          "base_uri": "https://localhost:8080/"
        },
        "id": "DjRiWd1k1jFC",
        "outputId": "c5e7a27e-9076-4bd6-a5fb-17fdea3b9dc5"
      },
      "execution_count": 40,
      "outputs": [
        {
          "output_type": "stream",
          "name": "stdout",
          "text": [
            "[{'name': 'Alice', 'age': 25}, {'name': 'Bob', 'age': 30}]\n"
          ]
        }
      ]
    },
    {
      "cell_type": "markdown",
      "source": [
        "# Question 25: Extract all 'name' values from list of dictionaries\n"
      ],
      "metadata": {
        "id": "gBSyjDfu1nJP"
      }
    },
    {
      "cell_type": "code",
      "source": [
        "d=[{'name': 'Alice', 'age': 25}, {'name': 'Bob', 'age': 30}]\n",
        "for i in d:\n",
        "  print(i[\"name\"])"
      ],
      "metadata": {
        "colab": {
          "base_uri": "https://localhost:8080/"
        },
        "id": "v1sJC7Wl1t5F",
        "outputId": "05793b8e-c056-43c7-da10-bd671b4c842a"
      },
      "execution_count": 43,
      "outputs": [
        {
          "output_type": "stream",
          "name": "stdout",
          "text": [
            "Alice\n",
            "Bob\n"
          ]
        }
      ]
    },
    {
      "cell_type": "markdown",
      "source": [
        "# Question 26: Find the person with maximum age in list of dictionaries\n"
      ],
      "metadata": {
        "id": "5YxXIDvM2Baz"
      }
    },
    {
      "cell_type": "code",
      "source": [
        "d = [{'name': 'Alice', 'age': 25}, {'name': 'Bob', 'age': 30}]\n",
        "print(max([i['age'] for i in d]))\n",
        "\n",
        "\n",
        "\n",
        "\n"
      ],
      "metadata": {
        "colab": {
          "base_uri": "https://localhost:8080/"
        },
        "id": "Ejxj_R4u2Ik_",
        "outputId": "1fb24bf7-a015-478b-e6c8-bcb52819cff7"
      },
      "execution_count": 52,
      "outputs": [
        {
          "output_type": "stream",
          "name": "stdout",
          "text": [
            "30\n"
          ]
        }
      ]
    },
    {
      "cell_type": "markdown",
      "source": [
        "# Question 27: Create a 4D list: [[[[1, 2], [3, 4]], [[5, 6], [7, 8]]], [[[9, 10], [11, 12]], [[13, 14], [15, 16]]]]\n"
      ],
      "metadata": {
        "id": "QwSsnaFCE7_m"
      }
    },
    {
      "cell_type": "code",
      "source": [
        "u= [[[[1, 2], [3, 4]], [[5, 6], [7, 8]]], [[[9, 10], [11, 12]], [[13, 14], [15, 16]]]]\n",
        "print(u)\n"
      ],
      "metadata": {
        "colab": {
          "base_uri": "https://localhost:8080/"
        },
        "id": "4eExC0slE67p",
        "outputId": "4e00a908-cb0b-4967-cab9-d4aaf886fa1b"
      },
      "execution_count": 53,
      "outputs": [
        {
          "output_type": "stream",
          "name": "stdout",
          "text": [
            "[[[[1, 2], [3, 4]], [[5, 6], [7, 8]]], [[[9, 10], [11, 12]], [[13, 14], [15, 16]]]]\n"
          ]
        }
      ]
    },
    {
      "cell_type": "markdown",
      "source": [
        "# Question 28: Find the maximum value in 4D list\n"
      ],
      "metadata": {
        "id": "ZwjLFr4m23J8"
      }
    },
    {
      "cell_type": "code",
      "source": [
        "u= [[[[1, 2], [3, 4]], [[5, 6], [7, 8]]], [[[9, 10], [11, 12]], [[13, 14], [15, 16]]]]\n",
        "print(max(num for block in u for subblock in block for row in subblock for num in row))\n",
        "\n"
      ],
      "metadata": {
        "colab": {
          "base_uri": "https://localhost:8080/"
        },
        "id": "UZiongc0FME6",
        "outputId": "6af59051-f88b-4b85-a798-c0d3b8d37629"
      },
      "execution_count": 56,
      "outputs": [
        {
          "output_type": "stream",
          "name": "stdout",
          "text": [
            "16\n"
          ]
        }
      ]
    },
    {
      "cell_type": "markdown",
      "source": [
        "# Question 29: Create a list of sets: [{1, 2, 3}, {4, 5, 6}, {7, 8, 9}]\n"
      ],
      "metadata": {
        "id": "-QFIBQSBGuxW"
      }
    },
    {
      "cell_type": "code",
      "source": [
        "f=[{1, 2, 3}, {4, 5, 6}, {7, 8, 9}]\n",
        "print(f)"
      ],
      "metadata": {
        "colab": {
          "base_uri": "https://localhost:8080/"
        },
        "id": "GN8jQWpxG2UI",
        "outputId": "14836532-8871-43ac-c9e2-9a2a7f4c1847"
      },
      "execution_count": 57,
      "outputs": [
        {
          "output_type": "stream",
          "name": "stdout",
          "text": [
            "[{1, 2, 3}, {4, 5, 6}, {8, 9, 7}]\n"
          ]
        }
      ]
    },
    {
      "cell_type": "markdown",
      "source": [
        "# Question 30: Find the union of all sets in list of sets\n"
      ],
      "metadata": {
        "id": "7zsruh0zG7at"
      }
    },
    {
      "cell_type": "code",
      "source": [
        "sets_list = [{1, 2}, {2, 3}, {4, 5}]\n",
        "result = set().union(*sets_list) # *sets_list unpacks the list into individual,set().union() takes the union of all sets at once.\n",
        "print(result)\n"
      ],
      "metadata": {
        "colab": {
          "base_uri": "https://localhost:8080/"
        },
        "id": "d-ngRgAAHKFe",
        "outputId": "67aeb9d1-2dfd-44a4-83cb-17d40ffe781d"
      },
      "execution_count": 58,
      "outputs": [
        {
          "output_type": "stream",
          "name": "stdout",
          "text": [
            "{1, 2, 3, 4, 5}\n"
          ]
        }
      ]
    },
    {
      "cell_type": "markdown",
      "source": [
        "# Question 31: Create a list of complex numbers: [1+2j, 3+4j, 5+6j]\n"
      ],
      "metadata": {
        "id": "xr93rnUTH3aU"
      }
    },
    {
      "cell_type": "code",
      "source": [
        "s= [1+2j, 3+4j, 5+6j]\n",
        "print(s)"
      ],
      "metadata": {
        "colab": {
          "base_uri": "https://localhost:8080/"
        },
        "id": "H9kL3QXhH4BW",
        "outputId": "e28e5444-240d-442f-dbd3-04767b51e9af"
      },
      "execution_count": 59,
      "outputs": [
        {
          "output_type": "stream",
          "name": "stdout",
          "text": [
            "[(1+2j), (3+4j), (5+6j)]\n"
          ]
        }
      ]
    },
    {
      "cell_type": "markdown",
      "source": [
        "# Question 32: Find the magnitude of each complex number in list\n"
      ],
      "metadata": {
        "id": "TTFoWQnPICHr"
      }
    },
    {
      "cell_type": "code",
      "source": [
        "s= [1+2j, 3+4j, 5+6j]\n",
        "\n",
        "for i in s:\n",
        "  magntude=abs(i)\n",
        "\n",
        "print(magntude)"
      ],
      "metadata": {
        "colab": {
          "base_uri": "https://localhost:8080/"
        },
        "id": "k0zjVwZIIK0-",
        "outputId": "63016698-6d08-440c-ebe6-afd6412382ae"
      },
      "execution_count": 60,
      "outputs": [
        {
          "output_type": "stream",
          "name": "stdout",
          "text": [
            "7.810249675906654\n"
          ]
        }
      ]
    },
    {
      "cell_type": "markdown",
      "source": [
        "# Question 33: Create a nested list with different levels: [1, [2, 3], [4, [5, 6]], 7]\n"
      ],
      "metadata": {
        "id": "_t1JUUVKIbrI"
      }
    },
    {
      "cell_type": "code",
      "source": [
        "nested_list = [1, [2, 3], [4, [5, 6]], 7]\n",
        "\n",
        "print(nested_list)\n"
      ],
      "metadata": {
        "colab": {
          "base_uri": "https://localhost:8080/"
        },
        "id": "UtUbSUhkIhf5",
        "outputId": "a91b10c6-3b1d-41b1-c07f-e068d9497c06"
      },
      "execution_count": 61,
      "outputs": [
        {
          "output_type": "stream",
          "name": "stdout",
          "text": [
            "[1, [2, 3], [4, [5, 6]], 7]\n"
          ]
        }
      ]
    },
    {
      "cell_type": "markdown",
      "source": [
        "# Question 34: Count the depth of nesting in [1, [2, 3], [4, [5, 6]], 7]\n"
      ],
      "metadata": {
        "id": "GGPv4UerIl3T"
      }
    },
    {
      "cell_type": "code",
      "source": [],
      "metadata": {
        "id": "TBT8doTyI5Q1"
      },
      "execution_count": null,
      "outputs": []
    },
    {
      "cell_type": "markdown",
      "source": [
        "# Question 35: Create a list of functions: [len, str, int, float]\n"
      ],
      "metadata": {
        "id": "UJHFWoOxI7Ex"
      }
    },
    {
      "cell_type": "code",
      "source": [
        "funcs = [len, str, int, float]\n",
        "\n",
        "print(funcs)\n"
      ],
      "metadata": {
        "colab": {
          "base_uri": "https://localhost:8080/"
        },
        "id": "kGO1_wMIJDzp",
        "outputId": "0d594d23-9798-480b-e0e1-97342121bea8"
      },
      "execution_count": 62,
      "outputs": [
        {
          "output_type": "stream",
          "name": "stdout",
          "text": [
            "[<built-in function len>, <class 'str'>, <class 'int'>, <class 'float'>]\n"
          ]
        }
      ]
    },
    {
      "cell_type": "markdown",
      "source": [
        "# Question 36: Apply each function in list to string \"123\"\n"
      ],
      "metadata": {
        "id": "8M_vxcZAJL-Q"
      }
    },
    {
      "cell_type": "code",
      "source": [
        "funcs = [len, str, int, float]\n",
        "value = \"123\"\n",
        "\n",
        "for f in funcs:\n",
        "    print(f(value))\n"
      ],
      "metadata": {
        "colab": {
          "base_uri": "https://localhost:8080/"
        },
        "id": "nuNEeDr2JYy6",
        "outputId": "39f8655e-e9e6-4f6f-e701-956d09655f7d"
      },
      "execution_count": 63,
      "outputs": [
        {
          "output_type": "stream",
          "name": "stdout",
          "text": [
            "3\n",
            "123\n",
            "123\n",
            "123.0\n"
          ]
        }
      ]
    },
    {
      "cell_type": "markdown",
      "source": [
        "# Question 37: Create a list of lambda functions: [lambda x: x*2, lambda x: x**2, lambda x: x+1]\n"
      ],
      "metadata": {
        "id": "XjQdmDrrJgMG"
      }
    },
    {
      "cell_type": "code",
      "source": [
        "y=[lambda x: x*2, lambda x: x**2, lambda x: x+1]\n",
        "print(y)\n"
      ],
      "metadata": {
        "colab": {
          "base_uri": "https://localhost:8080/"
        },
        "id": "XetiwI_QJjap",
        "outputId": "8ee2ab7c-2f84-405e-9aa2-9b1222d13f2b"
      },
      "execution_count": 64,
      "outputs": [
        {
          "output_type": "stream",
          "name": "stdout",
          "text": [
            "[<function <lambda> at 0x7e7058ffa660>, <function <lambda> at 0x7e7058ffa020>, <function <lambda> at 0x7e7058ffa980>]\n"
          ]
        }
      ]
    },
    {
      "cell_type": "markdown",
      "source": [
        "# Question 38: Apply each lambda function to 5\n"
      ],
      "metadata": {
        "id": "rJpL703XJrFI"
      }
    },
    {
      "cell_type": "code",
      "source": [
        "y=[lambda x: x*2, lambda x: x**2, lambda x: x+1]\n",
        "value=5\n",
        "\n",
        "for f in y:\n",
        "  print(f(value))"
      ],
      "metadata": {
        "colab": {
          "base_uri": "https://localhost:8080/"
        },
        "id": "KngQck3vJub8",
        "outputId": "8331862d-56bb-4167-d531-f8cf71eb33a8"
      },
      "execution_count": 65,
      "outputs": [
        {
          "output_type": "stream",
          "name": "stdout",
          "text": [
            "10\n",
            "25\n",
            "6\n"
          ]
        }
      ]
    },
    {
      "cell_type": "markdown",
      "source": [
        "# Question 39: Create a list of classes: [list, dict, set, tuple]\n"
      ],
      "metadata": {
        "id": "cSF7_U87J8ro"
      }
    },
    {
      "cell_type": "code",
      "source": [
        "s=[list, dict, set, tuple]\n",
        "print(s)\n"
      ],
      "metadata": {
        "colab": {
          "base_uri": "https://localhost:8080/"
        },
        "id": "nVuvijufJ_en",
        "outputId": "0b989312-e6af-4d37-a7ac-6b95b60fdfe1"
      },
      "execution_count": 66,
      "outputs": [
        {
          "output_type": "stream",
          "name": "stdout",
          "text": [
            "[<class 'list'>, <class 'dict'>, <class 'set'>, <class 'tuple'>]\n"
          ]
        }
      ]
    },
    {
      "cell_type": "markdown",
      "source": [
        "# Question 40: Create instances of each class in list\n"
      ],
      "metadata": {
        "id": "yqKUlToFKHkm"
      }
    },
    {
      "cell_type": "code",
      "source": [
        "classes = [list, dict, set, tuple]\n",
        "\n",
        "instances = []\n",
        "for cls in classes:\n",
        "    instances.append(cls())\n",
        "\n",
        "print(instances)\n"
      ],
      "metadata": {
        "colab": {
          "base_uri": "https://localhost:8080/"
        },
        "id": "NVGdqGzTKGom",
        "outputId": "19839fb6-b1c9-488e-a6b8-d2655960a784"
      },
      "execution_count": 71,
      "outputs": [
        {
          "output_type": "stream",
          "name": "stdout",
          "text": [
            "[[], {}, set(), ()]\n"
          ]
        }
      ]
    },
    {
      "cell_type": "markdown",
      "source": [
        "# Question 41: Create a list of None values: [None, None, None, None]\n"
      ],
      "metadata": {
        "id": "Y8CAuY1HK9Kf"
      }
    },
    {
      "cell_type": "code",
      "source": [
        "n=[None, None, None, None]\n",
        "print(n)"
      ],
      "metadata": {
        "colab": {
          "base_uri": "https://localhost:8080/"
        },
        "id": "Fk87pEKCLC6t",
        "outputId": "e9668c75-6260-4548-c5e6-2618f2ba0dad"
      },
      "execution_count": 72,
      "outputs": [
        {
          "output_type": "stream",
          "name": "stdout",
          "text": [
            "[None, None, None, None]\n"
          ]
        }
      ]
    },
    {
      "cell_type": "markdown",
      "source": [
        "# Question 42: Replace all None values with 0 in list\n",
        "\n"
      ],
      "metadata": {
        "id": "rLDRQP8QG0j0"
      }
    },
    {
      "cell_type": "code",
      "source": [
        "data = [1, None, 3, None, 5]\n",
        "\n",
        "for i in range(len(data)):\n",
        "    if data[i] is None:\n",
        "        data[i] = 0\n",
        "\n",
        "print(data)\n"
      ],
      "metadata": {
        "colab": {
          "base_uri": "https://localhost:8080/"
        },
        "id": "Vmu-cEviLh91",
        "outputId": "f6707cac-c583-4acb-ed7a-817aa500425e"
      },
      "execution_count": 73,
      "outputs": [
        {
          "output_type": "stream",
          "name": "stdout",
          "text": [
            "[1, 0, 3, 0, 5]\n"
          ]
        }
      ]
    },
    {
      "cell_type": "markdown",
      "source": [
        "# Question 43: Create a list of boolean values: [True, False, True, False]\n"
      ],
      "metadata": {
        "id": "KTIrOuWRLm6K"
      }
    },
    {
      "cell_type": "code",
      "source": [
        "bolean=[True, False, True, False]\n",
        "print(bolean)\n"
      ],
      "metadata": {
        "colab": {
          "base_uri": "https://localhost:8080/"
        },
        "id": "Q0YLo4lVLppy",
        "outputId": "48aefd42-2b5c-4c8a-b919-a85b49c8b16f"
      },
      "execution_count": 74,
      "outputs": [
        {
          "output_type": "stream",
          "name": "stdout",
          "text": [
            "[True, False, True, False]\n"
          ]
        }
      ]
    },
    {
      "cell_type": "markdown",
      "source": [
        "# Question 44: Count True values in boolean list\n"
      ],
      "metadata": {
        "id": "g5eF7jffLysg"
      }
    },
    {
      "cell_type": "code",
      "source": [
        "\n",
        "count=0\n",
        "for i in bolean:\n",
        "  if i==True:\n",
        "    count+=i\n",
        "\n",
        "\n",
        "print(count)"
      ],
      "metadata": {
        "colab": {
          "base_uri": "https://localhost:8080/"
        },
        "id": "ndk-A7w8L169",
        "outputId": "3a9a93e0-4fb9-4d71-f8ea-b0a12498573b"
      },
      "execution_count": 77,
      "outputs": [
        {
          "output_type": "stream",
          "name": "stdout",
          "text": [
            "2\n"
          ]
        }
      ]
    },
    {
      "cell_type": "markdown",
      "source": [
        "# Question 45: Create a list of ranges: [range(3), range(5), range(2)]\n"
      ],
      "metadata": {
        "id": "yXEfuI5lMYQ3"
      }
    },
    {
      "cell_type": "code",
      "source": [
        "r= [range(3), range(5), range(2)]\n",
        "print(r)\n"
      ],
      "metadata": {
        "colab": {
          "base_uri": "https://localhost:8080/"
        },
        "id": "ldkL2is6Masu",
        "outputId": "041fa00a-6df0-4b67-d01f-532e8bc681dc"
      },
      "execution_count": 78,
      "outputs": [
        {
          "output_type": "stream",
          "name": "stdout",
          "text": [
            "[range(0, 3), range(0, 5), range(0, 2)]\n"
          ]
        }
      ]
    },
    {
      "cell_type": "markdown",
      "source": [
        "# Question 46: Convert each range to list\n"
      ],
      "metadata": {
        "id": "Tn2Hd4WOMgdu"
      }
    },
    {
      "cell_type": "code",
      "source": [
        "ranges = [range(5), range(2, 6), range(1, 10, 2)]\n",
        "lists = []\n",
        "for r in ranges:\n",
        "  lists.append(list(r))\n",
        "print(lists)\n"
      ],
      "metadata": {
        "colab": {
          "base_uri": "https://localhost:8080/"
        },
        "id": "p_MFLXGCMgwk",
        "outputId": "c0be1175-4145-4c4c-dadb-d7def4745665"
      },
      "execution_count": 82,
      "outputs": [
        {
          "output_type": "stream",
          "name": "stdout",
          "text": [
            "[[0, 1, 2, 3, 4], [2, 3, 4, 5], [1, 3, 5, 7, 9]]\n"
          ]
        }
      ]
    },
    {
      "cell_type": "markdown",
      "source": [
        "# Question 47: Create a list of generators: [(x for x in range(3)), (x for x in range(5))]\n"
      ],
      "metadata": {
        "id": "4WtlV4RDMhGW"
      }
    },
    {
      "cell_type": "code",
      "source": [
        "generators= [(x for x in range(3)), (x for x in range(5))]\n",
        "for g in generators:\n",
        "    print(list(g))\n"
      ],
      "metadata": {
        "colab": {
          "base_uri": "https://localhost:8080/"
        },
        "id": "vPCkmTCmMhVe",
        "outputId": "3a5c5ccf-ed74-4372-ed69-2398ffafd5e6"
      },
      "execution_count": 83,
      "outputs": [
        {
          "output_type": "stream",
          "name": "stdout",
          "text": [
            "[0, 1, 2]\n",
            "[0, 1, 2, 3, 4]\n"
          ]
        }
      ]
    },
    {
      "cell_type": "markdown",
      "source": [
        "# Question 48: Convert each generator to list\n"
      ],
      "metadata": {
        "id": "sjz2oMB_MhkK"
      }
    },
    {
      "cell_type": "code",
      "source": [
        "generators = [(x for x in range(3)), (x for x in range(5))]\n",
        "lists = [list(g) for g in generators]\n",
        "print(lists)\n"
      ],
      "metadata": {
        "colab": {
          "base_uri": "https://localhost:8080/"
        },
        "id": "Qc01-AaxMhyX",
        "outputId": "ff64a2ca-d62d-4a0a-c9ea-9abfd7b2b4c9"
      },
      "execution_count": 84,
      "outputs": [
        {
          "output_type": "stream",
          "name": "stdout",
          "text": [
            "[[0, 1, 2], [0, 1, 2, 3, 4]]\n"
          ]
        }
      ]
    },
    {
      "cell_type": "markdown",
      "source": [
        "# Question 49: Create a list of iterators: [iter([1, 2, 3]), iter([4, 5, 6])]\n"
      ],
      "metadata": {
        "id": "2MYlWUcwOPpn"
      }
    },
    {
      "cell_type": "code",
      "source": [
        "iterators = [iter([1, 2, 3]), iter([4, 5, 6])]\n",
        "lists = []\n",
        "for it in iterators:\n",
        "  lists.append(list(it))\n",
        "print(lists)\n"
      ],
      "metadata": {
        "colab": {
          "base_uri": "https://localhost:8080/"
        },
        "id": "eJ7gecbwOUDw",
        "outputId": "5c6794c4-27b7-4421-f43a-fd5ba8ecf2ed"
      },
      "execution_count": 85,
      "outputs": [
        {
          "output_type": "stream",
          "name": "stdout",
          "text": [
            "[[1, 2, 3], [4, 5, 6]]\n"
          ]
        }
      ]
    },
    {
      "cell_type": "markdown",
      "source": [
        "# Question 50: Extract all elements from each iterator\n"
      ],
      "metadata": {
        "id": "SCTMwPztOShh"
      }
    },
    {
      "cell_type": "code",
      "source": [
        "iterators = [iter([1, 2, 3]), iter([4, 5, 6])]\n",
        "all_elements = []\n",
        "\n",
        "# Extract and flatten\n",
        "for it in iterators:\n",
        "  for x in it:\n",
        "    all_elements.append(x)\n",
        "\n",
        "print(all_elements)\n"
      ],
      "metadata": {
        "colab": {
          "base_uri": "https://localhost:8080/"
        },
        "id": "ZrqgIJLTOS_B",
        "outputId": "7458db59-ee66-418c-b9e7-c6cd198e86cc"
      },
      "execution_count": 88,
      "outputs": [
        {
          "output_type": "stream",
          "name": "stdout",
          "text": [
            "[1, 2, 3, 4, 5, 6]\n"
          ]
        }
      ]
    }
  ]
}