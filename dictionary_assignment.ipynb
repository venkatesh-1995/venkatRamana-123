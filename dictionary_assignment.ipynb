{
  "nbformat": 4,
  "nbformat_minor": 0,
  "metadata": {
    "colab": {
      "provenance": [],
      "gpuType": "T4"
    },
    "kernelspec": {
      "name": "python3",
      "display_name": "Python 3"
    },
    "language_info": {
      "name": "python"
    },
    "accelerator": "GPU"
  },
  "cells": [
    {
      "cell_type": "markdown",
      "source": [
        "# Question 1: Create a dictionary of student names and their ages\n"
      ],
      "metadata": {
        "id": "DmLU9SXSkg8F"
      }
    },
    {
      "cell_type": "code",
      "execution_count": 1,
      "metadata": {
        "colab": {
          "base_uri": "https://localhost:8080/"
        },
        "id": "pXi2DcuvkW-e",
        "outputId": "7232fd11-e16c-4b2e-9a1f-7c338a1787a4"
      },
      "outputs": [
        {
          "output_type": "stream",
          "name": "stdout",
          "text": [
            "{'venkat': 20, 'ramana': 22, 'prabhas': 18, 'David': 21}\n"
          ]
        }
      ],
      "source": [
        "students = {\n",
        "    \"venkat\": 20,\n",
        "    \"ramana\": 22,\n",
        "    \"prabhas\": 18,\n",
        "    \"David\": 21\n",
        "}\n",
        "\n",
        "print(students)\n"
      ]
    },
    {
      "cell_type": "markdown",
      "source": [
        "# Question 2: Add a new key-value pair to dictionary {'a': 1, 'b': 2, 'c': 3}\n"
      ],
      "metadata": {
        "id": "jwsiwjxdk6sK"
      }
    },
    {
      "cell_type": "code",
      "source": [
        "dict_n={'a': 1, 'b': 2, 'c': 3}\n",
        "\n",
        "dict_n.update({'d':4})\n",
        "\n",
        "print(dict_n)\n"
      ],
      "metadata": {
        "colab": {
          "base_uri": "https://localhost:8080/"
        },
        "id": "PBlCFgsqlBds",
        "outputId": "6862f949-67b5-48fa-af20-82e29d7ae83d"
      },
      "execution_count": 2,
      "outputs": [
        {
          "output_type": "stream",
          "name": "stdout",
          "text": [
            "{'a': 1, 'b': 2, 'c': 3, 'd': 4}\n"
          ]
        }
      ]
    },
    {
      "cell_type": "markdown",
      "source": [
        "# Question 3: Get all keys from dictionary {'name': 'John', 'age': 25, 'city': 'New York'}\n"
      ],
      "metadata": {
        "id": "_jwyx8C7mSWW"
      }
    },
    {
      "cell_type": "code",
      "source": [
        "d={'name': 'John', 'age': 25, 'city': 'New York'}\n",
        "print(d.keys())"
      ],
      "metadata": {
        "colab": {
          "base_uri": "https://localhost:8080/"
        },
        "id": "dhQ7aolAmVnj",
        "outputId": "7828dd05-534e-4b00-ea82-6060f3ea562a"
      },
      "execution_count": 3,
      "outputs": [
        {
          "output_type": "stream",
          "name": "stdout",
          "text": [
            "dict_keys(['name', 'age', 'city'])\n"
          ]
        }
      ]
    },
    {
      "cell_type": "markdown",
      "source": [
        "# Question 4: Get all values from dictionary {'python': 3, 'java': 2, 'c++': 1}\n"
      ],
      "metadata": {
        "id": "Wud7xI4gmcYV"
      }
    },
    {
      "cell_type": "code",
      "source": [
        "d= {'python': 3, 'java': 2, 'c++': 1}\n",
        "print(d.values())"
      ],
      "metadata": {
        "colab": {
          "base_uri": "https://localhost:8080/"
        },
        "id": "fvZaBz5fmRLb",
        "outputId": "c73dc04b-e4a0-47d8-8d52-055c35b89c61"
      },
      "execution_count": 4,
      "outputs": [
        {
          "output_type": "stream",
          "name": "stdout",
          "text": [
            "dict_values([3, 2, 1])\n"
          ]
        }
      ]
    },
    {
      "cell_type": "markdown",
      "source": [
        "# Question 5: Check if key 'age' exists in {'name': 'Alice', 'age': 30, 'city': 'London'}\n"
      ],
      "metadata": {
        "id": "eZI9dASdmtJ3"
      }
    },
    {
      "cell_type": "code",
      "source": [
        "dict_o={'name': 'Alice', 'age': 30, 'city': 'London'}\n",
        "\n",
        "if 'age' in dict_o:\n",
        "  print(\"age key exists in dict\")\n",
        "\n",
        "else:\n",
        "  print(\"age key not exists in dict\")"
      ],
      "metadata": {
        "colab": {
          "base_uri": "https://localhost:8080/"
        },
        "id": "TdtXKqo-muUD",
        "outputId": "ff39c363-6421-4864-ed81-54b640f308c2"
      },
      "execution_count": 5,
      "outputs": [
        {
          "output_type": "stream",
          "name": "stdout",
          "text": [
            "age key exists in dict\n"
          ]
        }
      ]
    },
    {
      "cell_type": "markdown",
      "source": [
        "# Question 6: Remove key 'temp' from {'a': 1, 'b': 2, 'temp': 3, 'c': 4}\n"
      ],
      "metadata": {
        "id": "IGdAM3YHnSii"
      }
    },
    {
      "cell_type": "code",
      "source": [
        "f= {'a': 1, 'b': 2, 'temp': 3, 'c': 4}\n",
        "f.pop(\"temp\")\n",
        "\n",
        "print(f)"
      ],
      "metadata": {
        "colab": {
          "base_uri": "https://localhost:8080/"
        },
        "id": "nuP4Lx0Pnlgh",
        "outputId": "4b48c01f-0c4c-4391-a00f-da1d169d6449"
      },
      "execution_count": 6,
      "outputs": [
        {
          "output_type": "stream",
          "name": "stdout",
          "text": [
            "{'a': 1, 'b': 2, 'c': 4}\n"
          ]
        }
      ]
    },
    {
      "cell_type": "markdown",
      "source": [
        "# Question 7: Find the sum of all values in {'math': 85, 'science': 92, 'english': 78}\n"
      ],
      "metadata": {
        "id": "M7oewaWZn1uz"
      }
    },
    {
      "cell_type": "code",
      "source": [
        "dict_g= {'math': 85, 'science': 92, 'english': 78}\n",
        "sums=0\n",
        "for i in dict_g.values():\n",
        "  sums=sums+i\n",
        "\n",
        "print(sums)"
      ],
      "metadata": {
        "colab": {
          "base_uri": "https://localhost:8080/"
        },
        "id": "rVgcKkMUn6C5",
        "outputId": "a8fc4cca-d819-455c-f734-e4cf280c4d15"
      },
      "execution_count": 7,
      "outputs": [
        {
          "output_type": "stream",
          "name": "stdout",
          "text": [
            "255\n"
          ]
        }
      ]
    },
    {
      "cell_type": "markdown",
      "source": [
        "# Question 8: Create a dictionary with squares of numbers 1 to 5\n"
      ],
      "metadata": {
        "id": "5LQzo_vNoV10"
      }
    },
    {
      "cell_type": "code",
      "source": [
        "squares={}\n",
        "for i in range(1,6):\n",
        "  squares[i]=i**2\n",
        "print(squares)\n"
      ],
      "metadata": {
        "colab": {
          "base_uri": "https://localhost:8080/"
        },
        "id": "V9KsYk3OodGu",
        "outputId": "e64d2fda-6fae-47b7-f99a-abc673869014"
      },
      "execution_count": 8,
      "outputs": [
        {
          "output_type": "stream",
          "name": "stdout",
          "text": [
            "{1: 1, 2: 4, 3: 9, 4: 16, 5: 25}\n"
          ]
        }
      ]
    },
    {
      "cell_type": "markdown",
      "source": [
        "# Question 9: Count frequency of each character in string \"hello\"\n"
      ],
      "metadata": {
        "id": "KdeNnlygpXBR"
      }
    },
    {
      "cell_type": "code",
      "source": [
        "s=\"hello\"\n",
        "freq={}\n",
        "for i in s:\n",
        "  freq[i]=freq.get(i,0)+1   # If the character exists, get its current count, otherwise start from 0.Then + 1 updates the count for that character\n",
        "print(freq)"
      ],
      "metadata": {
        "colab": {
          "base_uri": "https://localhost:8080/"
        },
        "id": "USCnN-6wpYYo",
        "outputId": "abfea25a-f207-40f9-8b0c-5a8471b665a6"
      },
      "execution_count": 9,
      "outputs": [
        {
          "output_type": "stream",
          "name": "stdout",
          "text": [
            "{'h': 1, 'e': 1, 'l': 2, 'o': 1}\n"
          ]
        }
      ]
    },
    {
      "cell_type": "markdown",
      "source": [
        "# Question 10: Merge two dictionaries {'a': 1, 'b': 2} and {'c': 3, 'd': 4}\n"
      ],
      "metadata": {
        "id": "rzDotg5MqeLt"
      }
    },
    {
      "cell_type": "code",
      "source": [
        "dict1 = {'a': 1, 'b': 2}\n",
        "dict2 = {'c': 3, 'd': 4}\n",
        "\n",
        "merged = dict1 | dict2  # The | operator creates a new dictionary containing all keys and values from both dictionaries.\n",
        "print(merged)\n"
      ],
      "metadata": {
        "colab": {
          "base_uri": "https://localhost:8080/"
        },
        "id": "EPAqpJh0q-zb",
        "outputId": "ec281c5d-09ba-4afe-cca7-c96064afbbcd"
      },
      "execution_count": 10,
      "outputs": [
        {
          "output_type": "stream",
          "name": "stdout",
          "text": [
            "{'a': 1, 'b': 2, 'c': 3, 'd': 4}\n"
          ]
        }
      ]
    },
    {
      "cell_type": "markdown",
      "source": [
        "# Question 11: Create a nested dictionary: {'person': {'name': 'Alice', 'age': 25}}\n"
      ],
      "metadata": {
        "id": "ZlrTR-sbrV1Q"
      }
    },
    {
      "cell_type": "code",
      "source": [
        "dictionary={'person': {'name': 'Alice', 'age': 25}}\n",
        "print(dictionary)"
      ],
      "metadata": {
        "colab": {
          "base_uri": "https://localhost:8080/"
        },
        "id": "QvI5_hT9rZJ3",
        "outputId": "bc09eea3-8878-4cb4-e5c2-c45c879eae9b"
      },
      "execution_count": 11,
      "outputs": [
        {
          "output_type": "stream",
          "name": "stdout",
          "text": [
            "{'person': {'name': 'Alice', 'age': 25}}\n"
          ]
        }
      ]
    },
    {
      "cell_type": "markdown",
      "source": [
        "# Question 12: Access nested value 'name' from {'person': {'name': 'Alice', 'age': 25}}\n"
      ],
      "metadata": {
        "id": "E-xOtjzmr3Kx"
      }
    },
    {
      "cell_type": "code",
      "source": [
        "dict_p= {'person': {'name': 'Alice', 'age': 25}}\n",
        "print(dict_p['person']['name'])"
      ],
      "metadata": {
        "colab": {
          "base_uri": "https://localhost:8080/"
        },
        "id": "GEVPS3Kxr75p",
        "outputId": "7cf8dda5-c563-46a1-d935-c02b9b2e82ee"
      },
      "execution_count": 12,
      "outputs": [
        {
          "output_type": "stream",
          "name": "stdout",
          "text": [
            "Alice\n"
          ]
        }
      ]
    },
    {
      "cell_type": "markdown",
      "source": [
        "# Question 13: Create a dictionary with list values: {'fruits': ['apple', 'banana'], 'colors': ['red', 'blue']}\n"
      ],
      "metadata": {
        "id": "ktKQS9w6sO6X"
      }
    },
    {
      "cell_type": "code",
      "source": [
        "d={'fruits': ['apple', 'banana'], 'colors': ['red', 'blue']}\n",
        "print(d)"
      ],
      "metadata": {
        "colab": {
          "base_uri": "https://localhost:8080/"
        },
        "id": "eDsjg3pIsTEk",
        "outputId": "a23445eb-417d-43b6-9ed6-a3a56fb42c02"
      },
      "execution_count": 13,
      "outputs": [
        {
          "output_type": "stream",
          "name": "stdout",
          "text": [
            "{'fruits': ['apple', 'banana'], 'colors': ['red', 'blue']}\n"
          ]
        }
      ]
    },
    {
      "cell_type": "markdown",
      "source": [
        "# Question 14: Add 'orange' to the 'fruits' list in nested dictionary\n"
      ],
      "metadata": {
        "id": "U7zw-9_VsaiL"
      }
    },
    {
      "cell_type": "code",
      "source": [
        "d={'fruits': ['apple', 'banana'], 'colors': ['red', 'blue']}\n",
        "d['fruits'].append('orange')\n",
        "print(d)"
      ],
      "metadata": {
        "colab": {
          "base_uri": "https://localhost:8080/"
        },
        "id": "R4UleBAHseBY",
        "outputId": "f6db8346-81d9-47dc-d986-f311ec350dc6"
      },
      "execution_count": 14,
      "outputs": [
        {
          "output_type": "stream",
          "name": "stdout",
          "text": [
            "{'fruits': ['apple', 'banana', 'orange'], 'colors': ['red', 'blue']}\n"
          ]
        }
      ]
    },
    {
      "cell_type": "markdown",
      "source": [
        "# Question 15: Create a dictionary with tuple values: {'coordinates': (10, 20), 'rgb': (255, 0, 0)}\n"
      ],
      "metadata": {
        "id": "kzfkz6d5tKi5"
      }
    },
    {
      "cell_type": "code",
      "source": [
        "di={'coordinates': (10, 20), 'rgb': (255, 0, 0)}\n",
        "print(di)"
      ],
      "metadata": {
        "colab": {
          "base_uri": "https://localhost:8080/"
        },
        "id": "-CbL4f-FtNvn",
        "outputId": "50113f38-4d33-4fd8-9362-37ef2a7df8c5"
      },
      "execution_count": 15,
      "outputs": [
        {
          "output_type": "stream",
          "name": "stdout",
          "text": [
            "{'coordinates': (10, 20), 'rgb': (255, 0, 0)}\n"
          ]
        }
      ]
    },
    {
      "cell_type": "markdown",
      "source": [
        "# Question 16: Extract first coordinate from nested tuple\n"
      ],
      "metadata": {
        "id": "ZPmBAgRDtWy0"
      }
    },
    {
      "cell_type": "code",
      "source": [
        "di={'coordinates': (10, 20), 'rgb': (255, 0, 0)}\n",
        "print(di['coordinates'][0])"
      ],
      "metadata": {
        "colab": {
          "base_uri": "https://localhost:8080/"
        },
        "id": "DfaIcoDitacB",
        "outputId": "34217dc9-b6a5-4c72-ea09-3bb13f3ed5c1"
      },
      "execution_count": 16,
      "outputs": [
        {
          "output_type": "stream",
          "name": "stdout",
          "text": [
            "10\n"
          ]
        }
      ]
    },
    {
      "cell_type": "markdown",
      "source": [
        "# Question 17: Create a dictionary with set values: {'vowels': {'a', 'e', 'i'}, 'consonants': {'b', 'c', 'd'}}\n"
      ],
      "metadata": {
        "id": "noqM1vlOtxeu"
      }
    },
    {
      "cell_type": "code",
      "source": [
        "d_s={'vowels': {'a', 'e', 'i'}, 'consonants': {'b', 'c', 'd'}}\n",
        "print(d_s)"
      ],
      "metadata": {
        "colab": {
          "base_uri": "https://localhost:8080/"
        },
        "id": "xAeSuWIIt3nU",
        "outputId": "d7acf7f2-ffa8-4cbe-b1d4-1d552afff96c"
      },
      "execution_count": 17,
      "outputs": [
        {
          "output_type": "stream",
          "name": "stdout",
          "text": [
            "{'vowels': {'i', 'a', 'e'}, 'consonants': {'d', 'c', 'b'}}\n"
          ]
        }
      ]
    },
    {
      "cell_type": "markdown",
      "source": [
        "# Question 18: Add 'o' to vowels set in nested dictionary\n"
      ],
      "metadata": {
        "id": "3_UmyRlwuDsL"
      }
    },
    {
      "cell_type": "code",
      "source": [
        "d_s={'vowels': {'a', 'e', 'i'}, 'consonants': {'b', 'c', 'd'}}\n",
        "d_s['vowels'].add('o')\n",
        "print(d_s)"
      ],
      "metadata": {
        "colab": {
          "base_uri": "https://localhost:8080/"
        },
        "id": "myoLNSZZuEne",
        "outputId": "2e0f1ee7-9473-4350-9405-23251fd5aa00"
      },
      "execution_count": 18,
      "outputs": [
        {
          "output_type": "stream",
          "name": "stdout",
          "text": [
            "{'vowels': {'i', 'a', 'e', 'o'}, 'consonants': {'d', 'c', 'b'}}\n"
          ]
        }
      ]
    },
    {
      "cell_type": "markdown",
      "source": [
        "# Question 19: Create a 3-level nested dictionary: {'company': {'department': {'employee': {'name': 'John', 'id': 123}}}}\n"
      ],
      "metadata": {
        "id": "wDJvVYZSuxXQ"
      }
    },
    {
      "cell_type": "code",
      "source": [
        "dictionary= {'company': {'department': {'employee': {'name': 'John', 'id': 123}}}}\n",
        "print(dictionary)"
      ],
      "metadata": {
        "colab": {
          "base_uri": "https://localhost:8080/"
        },
        "id": "ATTmbHApuyKJ",
        "outputId": "1ae3c82d-bdf4-4a57-c7d8-8eec2139bb77"
      },
      "execution_count": 19,
      "outputs": [
        {
          "output_type": "stream",
          "name": "stdout",
          "text": [
            "{'company': {'department': {'employee': {'name': 'John', 'id': 123}}}}\n"
          ]
        }
      ]
    },
    {
      "cell_type": "markdown",
      "source": [
        "# Question 20: Access employee name from 3-level nested dictionary\n"
      ],
      "metadata": {
        "id": "G96oifMyu9qV"
      }
    },
    {
      "cell_type": "code",
      "source": [
        "dictionary= {'company': {'department': {'employee': {'name': 'John', 'id': 123}}}}\n",
        "\n",
        "print(dictionary['company']['department']['employee']['name'])"
      ],
      "metadata": {
        "colab": {
          "base_uri": "https://localhost:8080/"
        },
        "id": "UQe6v-B4u-1c",
        "outputId": "42e4d6e0-d9a8-4b50-d502-38cdc780edbd"
      },
      "execution_count": 20,
      "outputs": [
        {
          "output_type": "stream",
          "name": "stdout",
          "text": [
            "John\n"
          ]
        }
      ]
    },
    {
      "cell_type": "markdown",
      "source": [
        "# Question 21: Create a dictionary with mixed data types: {'int': 42, 'float': 3.14, 'str': 'hello', 'bool': True}\n"
      ],
      "metadata": {
        "id": "LWwquYosv8Sr"
      }
    },
    {
      "cell_type": "code",
      "source": [
        "h= {'int': 42, 'float': 3.14, 'str': 'hello', 'bool': True}\n",
        "print(h)"
      ],
      "metadata": {
        "colab": {
          "base_uri": "https://localhost:8080/"
        },
        "id": "AQr6fDe3v-0Z",
        "outputId": "21692a83-ac5a-4760-c07c-3fb00802978d"
      },
      "execution_count": 21,
      "outputs": [
        {
          "output_type": "stream",
          "name": "stdout",
          "text": [
            "{'int': 42, 'float': 3.14, 'str': 'hello', 'bool': True}\n"
          ]
        }
      ]
    },
    {
      "cell_type": "markdown",
      "source": [
        "# Question 22: Check data type of each value in mixed dictionary\n"
      ],
      "metadata": {
        "id": "hjG89-39wI7v"
      }
    },
    {
      "cell_type": "code",
      "source": [
        "h= {'int': 42, 'float': 3.14, 'str': 'hello', 'bool': True}\n",
        "\n",
        "for k,v in h.items():\n",
        "  print(f\"{'k'}:{type(v)}\")"
      ],
      "metadata": {
        "colab": {
          "base_uri": "https://localhost:8080/"
        },
        "id": "GCcJXf5TwMsm",
        "outputId": "0bf9b021-5c05-4122-ea41-5314a77a37c6"
      },
      "execution_count": 22,
      "outputs": [
        {
          "output_type": "stream",
          "name": "stdout",
          "text": [
            "k:<class 'int'>\n",
            "k:<class 'float'>\n",
            "k:<class 'str'>\n",
            "k:<class 'bool'>\n"
          ]
        }
      ]
    },
    {
      "cell_type": "markdown",
      "source": [
        "# Question 23: Create a dictionary with function values: {'len': len, 'str': str, 'int': int}\n"
      ],
      "metadata": {
        "id": "Wg2rqZbhw-eN"
      }
    },
    {
      "cell_type": "code",
      "source": [
        "funcs={'len': len, 'str': str, 'int': int}\n",
        "print(funcs)\n"
      ],
      "metadata": {
        "colab": {
          "base_uri": "https://localhost:8080/"
        },
        "id": "h-DTP0X2w_Wo",
        "outputId": "293c5de9-ccf9-49f4-fc36-b93bef35d881"
      },
      "execution_count": 23,
      "outputs": [
        {
          "output_type": "stream",
          "name": "stdout",
          "text": [
            "{'len': <built-in function len>, 'str': <class 'str'>, 'int': <class 'int'>}\n"
          ]
        }
      ]
    },
    {
      "cell_type": "markdown",
      "source": [
        "# Question 24: Apply each function to \"123\" using dictionary\n"
      ],
      "metadata": {
        "id": "IgG8ckqLxPxD"
      }
    },
    {
      "cell_type": "code",
      "source": [
        "funcs={'len': len, 'str': str, 'int': int}\n",
        "\n",
        "for name,fun in funcs.items():\n",
        "  if fun == len:\n",
        "    t=fun(\"123\")\n",
        "  else:\n",
        "    t=fun(123)\n",
        "  print(f'{name}:{t}')"
      ],
      "metadata": {
        "colab": {
          "base_uri": "https://localhost:8080/"
        },
        "id": "M3lPW2XGxQ8K",
        "outputId": "cc1e33e1-fcdc-45d2-94d2-6c0b26c0f03e"
      },
      "execution_count": 24,
      "outputs": [
        {
          "output_type": "stream",
          "name": "stdout",
          "text": [
            "len:3\n",
            "str:123\n",
            "int:123\n"
          ]
        }
      ]
    },
    {
      "cell_type": "markdown",
      "source": [
        "# Question 25: Create a dictionary with lambda functions: {'double': lambda x: x*2, 'square': lambda x: x**2}\n"
      ],
      "metadata": {
        "id": "fY_oLJ8MzM-R"
      }
    },
    {
      "cell_type": "code",
      "source": [
        "d_l={'double': lambda x: x*2, 'square': lambda x: x**2}\n",
        "print(d_l)\n"
      ],
      "metadata": {
        "colab": {
          "base_uri": "https://localhost:8080/"
        },
        "id": "zf3bAY0CzOTc",
        "outputId": "ec9e8228-bad0-453c-9d31-51f7be71b6af"
      },
      "execution_count": 27,
      "outputs": [
        {
          "output_type": "stream",
          "name": "stdout",
          "text": [
            "{'double': <function <lambda> at 0x7858d334c900>, 'square': <function <lambda> at 0x7858d334c9a0>}\n"
          ]
        }
      ]
    },
    {
      "cell_type": "markdown",
      "source": [
        "# Question 26: Apply each lambda function to 5\n"
      ],
      "metadata": {
        "id": "rSRV-ed_z5o-"
      }
    },
    {
      "cell_type": "code",
      "source": [
        "x=5\n",
        "d_l={'double': lambda x: x*2, 'square': lambda x: x**2}\n",
        "\n",
        "\n",
        "for i in d_l.values():\n",
        "  r=i(5)\n",
        "  print(r)"
      ],
      "metadata": {
        "colab": {
          "base_uri": "https://localhost:8080/"
        },
        "id": "e_TqfV3nz9tE",
        "outputId": "348e72e4-8773-49f3-da30-4503093c5a3b"
      },
      "execution_count": 29,
      "outputs": [
        {
          "output_type": "stream",
          "name": "stdout",
          "text": [
            "10\n",
            "25\n"
          ]
        }
      ]
    },
    {
      "cell_type": "markdown",
      "source": [
        "# Question 27: Create a dictionary with class values: {'list': list, 'dict': dict, 'set': set}\n"
      ],
      "metadata": {
        "id": "_IfOxTCU0YHq"
      }
    },
    {
      "cell_type": "code",
      "source": [
        "a= {'list': list, 'dict': dict, 'set': set}\n",
        "print(a)"
      ],
      "metadata": {
        "colab": {
          "base_uri": "https://localhost:8080/"
        },
        "id": "nhiPE4JL0bok",
        "outputId": "89ca0066-b322-479d-8707-4cea44db8d9e"
      },
      "execution_count": 30,
      "outputs": [
        {
          "output_type": "stream",
          "name": "stdout",
          "text": [
            "{'list': <class 'list'>, 'dict': <class 'dict'>, 'set': <class 'set'>}\n"
          ]
        }
      ]
    },
    {
      "cell_type": "markdown",
      "source": [
        "# Question 28: Create instances using class dictionary\n"
      ],
      "metadata": {
        "id": "TuyDr1xa0hPV"
      }
    },
    {
      "cell_type": "code",
      "source": [
        "a= {'list': list, 'dict': dict, 'set': set}\n",
        "\n",
        "for name, cls in a.items():\n",
        "  instances={name:cls()}\n",
        "  print(instances,end=\" ,\")"
      ],
      "metadata": {
        "colab": {
          "base_uri": "https://localhost:8080/"
        },
        "id": "pAeQm51Q0lKL",
        "outputId": "7630ff9b-a4bd-40d8-8d10-e9a5c53b4421"
      },
      "execution_count": 34,
      "outputs": [
        {
          "output_type": "stream",
          "name": "stdout",
          "text": [
            "{'list': []} ,{'dict': {}} ,{'set': set()} ,"
          ]
        }
      ]
    },
    {
      "cell_type": "markdown",
      "source": [
        "# Question 29: Create a dictionary with None values: {'a': None, 'b': None, 'c': None}\n"
      ],
      "metadata": {
        "id": "j_44gXd71TvY"
      }
    },
    {
      "cell_type": "code",
      "source": [
        "n={'a': None, 'b': None, 'c': None}\n",
        "print(n)"
      ],
      "metadata": {
        "colab": {
          "base_uri": "https://localhost:8080/"
        },
        "id": "4KHwy1T81Upk",
        "outputId": "59c20045-e80b-4184-a377-81480cae53c1"
      },
      "execution_count": 35,
      "outputs": [
        {
          "output_type": "stream",
          "name": "stdout",
          "text": [
            "{'a': None, 'b': None, 'c': None}\n"
          ]
        }
      ]
    },
    {
      "cell_type": "markdown",
      "source": [
        "# Question 30: Replace all None values with 0\n"
      ],
      "metadata": {
        "id": "5gJN5M-F1cFM"
      }
    },
    {
      "cell_type": "code",
      "source": [
        "n={'a': None, 'b': None, 'c': None}\n",
        "\n",
        "for i in n:\n",
        "  if n[i]==None:\n",
        "    n[i]=0\n",
        "\n",
        "print(n)\n"
      ],
      "metadata": {
        "colab": {
          "base_uri": "https://localhost:8080/"
        },
        "id": "BRKiFftu1hhk",
        "outputId": "ee513502-f69f-44bc-8542-a4fdd262c232"
      },
      "execution_count": 36,
      "outputs": [
        {
          "output_type": "stream",
          "name": "stdout",
          "text": [
            "{'a': 0, 'b': 0, 'c': 0}\n"
          ]
        }
      ]
    },
    {
      "cell_type": "markdown",
      "source": [
        "# Question 31: Create a dictionary with boolean values: {'is_active': True, 'is_admin': False}\n"
      ],
      "metadata": {
        "id": "Cd5gJ7cA3A4r"
      }
    },
    {
      "cell_type": "code",
      "source": [
        "e= {'is_active': True, 'is_admin': False}\n",
        "print(e)"
      ],
      "metadata": {
        "colab": {
          "base_uri": "https://localhost:8080/"
        },
        "id": "-YJtJWjJ3DXQ",
        "outputId": "596d7c43-f94a-4840-bcd5-017c557d85a3"
      },
      "execution_count": 37,
      "outputs": [
        {
          "output_type": "stream",
          "name": "stdout",
          "text": [
            "{'is_active': True, 'is_admin': False}\n"
          ]
        }
      ]
    },
    {
      "cell_type": "markdown",
      "source": [
        "# Question 32: Count True values in boolean dictionary\n"
      ],
      "metadata": {
        "id": "sHm3Q-cl3JGn"
      }
    },
    {
      "cell_type": "code",
      "source": [
        "e= {'is_active': True, 'is_admin': False}\n",
        "\n",
        "count_true = 0\n",
        "for i in e:\n",
        "    if e[i]== True:\n",
        "        count_true += 1\n",
        "\n",
        "print(count_true)\n"
      ],
      "metadata": {
        "colab": {
          "base_uri": "https://localhost:8080/"
        },
        "id": "nCuWMAE03Nf9",
        "outputId": "0213ca5f-b0e4-4383-8755-5f478d1a53da"
      },
      "execution_count": 41,
      "outputs": [
        {
          "output_type": "stream",
          "name": "stdout",
          "text": [
            "1\n"
          ]
        }
      ]
    },
    {
      "cell_type": "markdown",
      "source": [
        "# Question 33: Create a dictionary with complex numbers: {'z1': 3+4j, 'z2': 1+2j}\n"
      ],
      "metadata": {
        "id": "Qb23qALs43IL"
      }
    },
    {
      "cell_type": "code",
      "source": [
        "com={'z1': 3+4j, 'z2': 1+2j}\n",
        "print(com)"
      ],
      "metadata": {
        "colab": {
          "base_uri": "https://localhost:8080/"
        },
        "id": "iSUZa6L547YC",
        "outputId": "3bb327e0-38e1-4199-ca0d-2ddcd19bf0ec"
      },
      "execution_count": 42,
      "outputs": [
        {
          "output_type": "stream",
          "name": "stdout",
          "text": [
            "{'z1': (3+4j), 'z2': (1+2j)}\n"
          ]
        }
      ]
    },
    {
      "cell_type": "markdown",
      "source": [
        "# Question 34: Find magnitude of each complex number\n"
      ],
      "metadata": {
        "id": "c7AcJpmf5EO_"
      }
    },
    {
      "cell_type": "code",
      "source": [
        "com={'z1': 3+4j, 'z2': 1+2j}\n",
        "\n",
        "for i in com.values():\n",
        "  magnitude=abs(i)\n",
        "  print(magnitude)"
      ],
      "metadata": {
        "colab": {
          "base_uri": "https://localhost:8080/"
        },
        "id": "p7c5dEma5G_h",
        "outputId": "4718596d-6490-4d4d-f825-a463a77c059e"
      },
      "execution_count": 44,
      "outputs": [
        {
          "output_type": "stream",
          "name": "stdout",
          "text": [
            "5.0\n",
            "2.23606797749979\n"
          ]
        }
      ]
    },
    {
      "cell_type": "markdown",
      "source": [
        "# Question 35: Create a 4-level nested dictionary\n"
      ],
      "metadata": {
        "id": "SwXp9Jj55vxt"
      }
    },
    {
      "cell_type": "code",
      "source": [
        "company = {\n",
        "    'department': {\n",
        "        'team': {\n",
        "            'project': {\n",
        "                'name': 'AI Chatbot',\n",
        "                'status': 'In Progress'\n",
        "            }\n",
        "        }\n",
        "    }\n",
        "}\n",
        "\n",
        "print(company)\n"
      ],
      "metadata": {
        "colab": {
          "base_uri": "https://localhost:8080/"
        },
        "id": "RmyeXwp35wDF",
        "outputId": "f64d1d61-8930-458b-bde8-18b18ae1ad13"
      },
      "execution_count": 45,
      "outputs": [
        {
          "output_type": "stream",
          "name": "stdout",
          "text": [
            "{'department': {'team': {'project': {'name': 'AI Chatbot', 'status': 'In Progress'}}}}\n"
          ]
        }
      ]
    },
    {
      "cell_type": "markdown",
      "source": [
        "# Question 36: Access deepest value in 4-level nested dictionary\n"
      ],
      "metadata": {
        "id": "IrugdHOR6JfX"
      }
    },
    {
      "cell_type": "code",
      "source": [
        "company = {\n",
        "    'department': {\n",
        "        'team': {\n",
        "            'project': {\n",
        "                'name': 'AI Chatbot',\n",
        "                'status': 'In Progress'\n",
        "            }\n",
        "        }\n",
        "    }\n",
        "}\n",
        "deepest_value=company['department']['team']['project']['status']\n",
        "print(deepest_value)\n"
      ],
      "metadata": {
        "colab": {
          "base_uri": "https://localhost:8080/"
        },
        "id": "SPB65BzP6NQG",
        "outputId": "1eac1184-5042-472c-9d4f-54a0de9ab0ae"
      },
      "execution_count": 46,
      "outputs": [
        {
          "output_type": "stream",
          "name": "stdout",
          "text": [
            "In Progress\n"
          ]
        }
      ]
    },
    {
      "cell_type": "markdown",
      "source": [
        "# Question 37: Create a dictionary with range values: {'r1': range(3), 'r2': range(5)}\n"
      ],
      "metadata": {
        "id": "BAndsYsr6pkY"
      }
    },
    {
      "cell_type": "code",
      "source": [
        "ranges= {'r1': range(3), 'r2': range(5)}\n",
        "print(ranges)"
      ],
      "metadata": {
        "colab": {
          "base_uri": "https://localhost:8080/"
        },
        "id": "d5w3J7jk6Jw0",
        "outputId": "eddc5817-c7cb-4008-f9ae-b15be5d2b5c4"
      },
      "execution_count": 47,
      "outputs": [
        {
          "output_type": "stream",
          "name": "stdout",
          "text": [
            "{'r1': range(0, 3), 'r2': range(0, 5)}\n"
          ]
        }
      ]
    },
    {
      "cell_type": "markdown",
      "source": [
        "# Question 38: Convert each range to list\n"
      ],
      "metadata": {
        "id": "2cR-vR3z6zUk"
      }
    },
    {
      "cell_type": "code",
      "source": [
        "ranges = {'r1': range(3), 'r2': range(5)}\n",
        "\n",
        "for k in ranges:\n",
        "    ranges[k] = list(ranges[k])\n",
        "\n",
        "print(ranges)\n"
      ],
      "metadata": {
        "colab": {
          "base_uri": "https://localhost:8080/"
        },
        "id": "vwjkXymz63_V",
        "outputId": "629894db-7aa0-4b73-f87b-707a479cd431"
      },
      "execution_count": 48,
      "outputs": [
        {
          "output_type": "stream",
          "name": "stdout",
          "text": [
            "{'r1': [0, 1, 2], 'r2': [0, 1, 2, 3, 4]}\n"
          ]
        }
      ]
    },
    {
      "cell_type": "markdown",
      "source": [
        "# Question 39: Create a dictionary with generator values\n"
      ],
      "metadata": {
        "id": "LEpuCRuR7746"
      }
    },
    {
      "cell_type": "code",
      "source": [
        "values_1= []\n",
        "values_2=[]\n",
        "\n",
        "for x in range(3):\n",
        "    values_1.append(x)\n",
        "\n",
        "for y in range(0,10,2):\n",
        "    values_2.append(y)\n",
        "gen_dict = {\n",
        "    'first_3': values_1,\n",
        "    'even_nums':values_2\n",
        "}\n",
        "\n",
        "print(list(gen_dict['first_3']))\n",
        "print(list(gen_dict['even_nums']))\n",
        "\n"
      ],
      "metadata": {
        "colab": {
          "base_uri": "https://localhost:8080/"
        },
        "id": "W1Po4D2j8hrO",
        "outputId": "093eaf1d-4cde-47a1-c268-fc249061be1d"
      },
      "execution_count": 2,
      "outputs": [
        {
          "output_type": "stream",
          "name": "stdout",
          "text": [
            "[0, 1, 2]\n",
            "[0, 2, 4, 6, 8]\n"
          ]
        }
      ]
    },
    {
      "cell_type": "markdown",
      "source": [
        "# Question 40: Convert each generator to list\n"
      ],
      "metadata": {
        "id": "ODEB3y0yCNmj"
      }
    },
    {
      "cell_type": "code",
      "source": [
        "gen_dict = {\n",
        "    'first_3': values_1,\n",
        "    'even_nums':values_2\n",
        "}\n",
        "\n",
        "for key in gen_dict:\n",
        "    gen_dict[key] = list(gen_dict[key])\n",
        "\n",
        "print(gen_dict)"
      ],
      "metadata": {
        "colab": {
          "base_uri": "https://localhost:8080/"
        },
        "id": "4dS_IKY_CX4C",
        "outputId": "a3bb1a54-5526-4793-821b-af5345db2bb7"
      },
      "execution_count": 3,
      "outputs": [
        {
          "output_type": "stream",
          "name": "stdout",
          "text": [
            "{'first_3': [0, 1, 2], 'even_nums': [0, 2, 4, 6, 8]}\n"
          ]
        }
      ]
    },
    {
      "cell_type": "markdown",
      "source": [
        "# Question 41: Create a dictionary with iterator values\n"
      ],
      "metadata": {
        "id": "EZeMR8LOCz2M"
      }
    },
    {
      "cell_type": "code",
      "source": [
        "data = {\n",
        "    'first_3': iter([1, 2, 3]),\n",
        "    'letters': iter(['a', 'b', 'c'])\n",
        "}\n",
        "\n",
        "print(data['first_3'])\n"
      ],
      "metadata": {
        "colab": {
          "base_uri": "https://localhost:8080/"
        },
        "id": "21wsNlm2C0qB",
        "outputId": "8b92e7dd-8e55-4275-f033-e1c78cfb6d52"
      },
      "execution_count": 7,
      "outputs": [
        {
          "output_type": "stream",
          "name": "stdout",
          "text": [
            "<list_iterator object at 0x7e5c74e8a860>\n"
          ]
        }
      ]
    },
    {
      "cell_type": "markdown",
      "source": [
        "# Question 42: Extract all elements from each iterator\n",
        "\n"
      ],
      "metadata": {
        "id": "C3gNeVJTC4QS"
      }
    },
    {
      "cell_type": "code",
      "source": [
        "data = {\n",
        "    'first_3': iter([1, 2, 3]),\n",
        "    'letters': iter(['a', 'b', 'c'])\n",
        "}\n",
        "\n",
        "all_elements = {}\n",
        "\n",
        "for key, it in data.items():\n",
        "    all_elements[key] = list(it)  # Convert iterator to list\n",
        "\n",
        "print(all_elements)\n"
      ],
      "metadata": {
        "colab": {
          "base_uri": "https://localhost:8080/"
        },
        "id": "VIAWtveEDFkp",
        "outputId": "ddf7d137-440a-4f5b-cb5c-24980370ad4a"
      },
      "execution_count": 6,
      "outputs": [
        {
          "output_type": "stream",
          "name": "stdout",
          "text": [
            "{'first_3': [1, 2, 3], 'letters': ['a', 'b', 'c']}\n"
          ]
        }
      ]
    },
    {
      "cell_type": "markdown",
      "source": [
        "# Question 43: Create a dictionary with nested lists: {'matrix': [[1, 2], [3, 4]], 'vector': [5, 6, 7]}\n"
      ],
      "metadata": {
        "id": "xgCYm8iNEfFn"
      }
    },
    {
      "cell_type": "code",
      "source": [
        "g= {'matrix': [[1, 2], [3, 4]], 'vector': [5, 6, 7]}\n",
        "print(g)\n"
      ],
      "metadata": {
        "colab": {
          "base_uri": "https://localhost:8080/"
        },
        "id": "LjLbv93OEg1N",
        "outputId": "c45a1c93-ddbc-480e-b1b9-c0b0f05b3ff7"
      },
      "execution_count": 8,
      "outputs": [
        {
          "output_type": "stream",
          "name": "stdout",
          "text": [
            "{'matrix': [[1, 2], [3, 4]], 'vector': [5, 6, 7]}\n"
          ]
        }
      ]
    },
    {
      "cell_type": "markdown",
      "source": [
        "# Question 44: Find sum of each nested list\n"
      ],
      "metadata": {
        "id": "VUkShIB0EtVZ"
      }
    },
    {
      "cell_type": "code",
      "source": [
        "g = {'matrix': [[1, 2], [3, 4]], 'vector': [5, 6, 7]}\n",
        "\n",
        "total = 0\n",
        "for value in g.values():\n",
        "    for item in value:\n",
        "        if isinstance(item, list):   # if it's a list inside (matrix)\n",
        "            total += sum(item)\n",
        "        else:                        # if it's just a number (vector)\n",
        "            total += item\n",
        "\n",
        "print(total)\n"
      ],
      "metadata": {
        "colab": {
          "base_uri": "https://localhost:8080/"
        },
        "id": "jDiJog5XEqHp",
        "outputId": "8ec93ad3-d16c-4244-f432-118b5190a4b2"
      },
      "execution_count": 9,
      "outputs": [
        {
          "output_type": "stream",
          "name": "stdout",
          "text": [
            "28\n"
          ]
        }
      ]
    },
    {
      "cell_type": "markdown",
      "source": [
        "# Question 45: Create a dictionary with nested dictionaries: {'config': {'db': {'host': 'localhost', 'port': 5432}}}\n"
      ],
      "metadata": {
        "id": "53TikIhOHMxX"
      }
    },
    {
      "cell_type": "code",
      "source": [
        "f_t={'config': {'db': {'host': 'localhost', 'port': 5432}}}\n",
        "print(f_t)"
      ],
      "metadata": {
        "colab": {
          "base_uri": "https://localhost:8080/"
        },
        "id": "G4A6HUsQHSLj",
        "outputId": "5b529ce3-9560-423d-9b47-ed65aaf3fb6f"
      },
      "execution_count": 10,
      "outputs": [
        {
          "output_type": "stream",
          "name": "stdout",
          "text": [
            "{'config': {'db': {'host': 'localhost', 'port': 5432}}}\n"
          ]
        }
      ]
    },
    {
      "cell_type": "markdown",
      "source": [
        "# Question 46: Access database port from nested configuration\n"
      ],
      "metadata": {
        "id": "bFKq8BlVHbNI"
      }
    },
    {
      "cell_type": "code",
      "source": [
        "database_port=f_t['config']['db']['port']\n",
        "print(database_port)"
      ],
      "metadata": {
        "colab": {
          "base_uri": "https://localhost:8080/"
        },
        "id": "F7Lc0vsPHhZ5",
        "outputId": "cc1e64bc-ac0f-410f-93b3-f8d335e0cb9d"
      },
      "execution_count": 11,
      "outputs": [
        {
          "output_type": "stream",
          "name": "stdout",
          "text": [
            "5432\n"
          ]
        }
      ]
    },
    {
      "cell_type": "markdown",
      "source": [
        "# Question 47: Create a dictionary with nested tuples: {'points': ((1, 2), (3, 4)), 'rgb': ((255, 0, 0), (0, 255, 0))}\n"
      ],
      "metadata": {
        "id": "zp3LwUAWHyMu"
      }
    },
    {
      "cell_type": "code",
      "source": [
        "nested_tup={'points': ((1, 2), (3, 4)), 'rgb': ((255, 0, 0), (0, 255, 0))}\n",
        "print(nested_tup)"
      ],
      "metadata": {
        "colab": {
          "base_uri": "https://localhost:8080/"
        },
        "id": "y99DtmYNH0s1",
        "outputId": "3d86d660-302f-4271-c9a2-664ec5aab4bb"
      },
      "execution_count": 12,
      "outputs": [
        {
          "output_type": "stream",
          "name": "stdout",
          "text": [
            "{'points': ((1, 2), (3, 4)), 'rgb': ((255, 0, 0), (0, 255, 0))}\n"
          ]
        }
      ]
    },
    {
      "cell_type": "markdown",
      "source": [
        "# Question 48: Extract first point coordinates\n"
      ],
      "metadata": {
        "id": "5aaTiNn6H8rZ"
      }
    },
    {
      "cell_type": "code",
      "source": [
        "nested_tup = {\n",
        "    'points': ((1, 2), (3, 4)),\n",
        "    'rgb': ((255, 0, 0), (0, 255, 0))\n",
        "}\n",
        "\n",
        "first_point = nested_tup['points'][0]\n",
        "print(first_point)\n"
      ],
      "metadata": {
        "colab": {
          "base_uri": "https://localhost:8080/"
        },
        "id": "1GjPgjsKIB8m",
        "outputId": "5c0f44c3-310a-444d-8156-ed94f608ba5f"
      },
      "execution_count": 13,
      "outputs": [
        {
          "output_type": "stream",
          "name": "stdout",
          "text": [
            "(1, 2)\n"
          ]
        }
      ]
    },
    {
      "cell_type": "markdown",
      "source": [
        "# Question 49: Create a dictionary with nested sets: {'groups': {{1, 2, 3}, {4, 5, 6}}, 'categories': {{'a', 'b'}, {'c', 'd'}}}\n"
      ],
      "metadata": {
        "id": "3ALOtkNMIlSN"
      }
    },
    {
      "cell_type": "code",
      "source": [
        "nested_dict = {\n",
        "    'groups': {frozenset({1, 2, 3}), frozenset({4, 5, 6})},\n",
        "    'categories': {frozenset({'a', 'b'}), frozenset({'c', 'd'})}\n",
        "}\n",
        "\n",
        "print(nested_dict)\n"
      ],
      "metadata": {
        "colab": {
          "base_uri": "https://localhost:8080/"
        },
        "id": "6wghunrrIoZ3",
        "outputId": "410f9a6d-bc60-4a20-8ae6-4b2f99fde059"
      },
      "execution_count": 14,
      "outputs": [
        {
          "output_type": "stream",
          "name": "stdout",
          "text": [
            "{'groups': {frozenset({1, 2, 3}), frozenset({4, 5, 6})}, 'categories': {frozenset({'c', 'd'}), frozenset({'b', 'a'})}}\n"
          ]
        }
      ]
    },
    {
      "cell_type": "markdown",
      "source": [
        "# Question 50: Find union of all nested sets\n"
      ],
      "metadata": {
        "id": "hli64SGWI1S_"
      }
    },
    {
      "cell_type": "code",
      "source": [
        "nested_dict = {\n",
        "    'groups': {frozenset({1, 2, 3}), frozenset({4, 5, 6})},\n",
        "    'categories': {frozenset({'a', 'b'}), frozenset({'c', 'd'})}\n",
        "}\n",
        "\n",
        "# Union of all sets\n",
        "union_result = set()\n",
        "for value in nested_dict.values():\n",
        "    for s in value:\n",
        "        union_result |= set(s)  # union operation\n",
        "\n",
        "print(union_result)\n"
      ],
      "metadata": {
        "colab": {
          "base_uri": "https://localhost:8080/"
        },
        "id": "IJXYDzcTI1tA",
        "outputId": "d9512369-955d-43e9-ddb8-6d7700423a23"
      },
      "execution_count": 15,
      "outputs": [
        {
          "output_type": "stream",
          "name": "stdout",
          "text": [
            "{1, 2, 3, 4, 5, 6, 'c', 'd', 'b', 'a'}\n"
          ]
        }
      ]
    }
  ]
}