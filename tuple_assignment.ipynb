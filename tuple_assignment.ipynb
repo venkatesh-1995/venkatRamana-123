{
  "nbformat": 4,
  "nbformat_minor": 0,
  "metadata": {
    "colab": {
      "provenance": []
    },
    "kernelspec": {
      "name": "python3",
      "display_name": "Python 3"
    },
    "language_info": {
      "name": "python"
    }
  },
  "cells": [
    {
      "cell_type": "markdown",
      "source": [
        "# Question 1: Create a tuple of first 10 natural numbers\n"
      ],
      "metadata": {
        "id": "Lp2uOSBR2dwc"
      }
    },
    {
      "cell_type": "code",
      "execution_count": null,
      "metadata": {
        "colab": {
          "base_uri": "https://localhost:8080/"
        },
        "id": "NdrEyePm2UAW",
        "outputId": "649882a2-9597-4471-b3d0-f4b72dcf9707"
      },
      "outputs": [
        {
          "output_type": "stream",
          "name": "stdout",
          "text": [
            "(0, 1, 2, 3, 4, 5, 6, 7, 8, 9, 10)\n"
          ]
        }
      ],
      "source": [
        "t=tuple(range(0,11))\n",
        "\n",
        "print(t)"
      ]
    },
    {
      "cell_type": "markdown",
      "source": [
        "# Question 2: Find the length of tuple (1, 2, 3, 4, 5, 6, 7, 8, 9, 10)\n"
      ],
      "metadata": {
        "id": "itXiSXXk5GSE"
      }
    },
    {
      "cell_type": "code",
      "source": [
        "w=(1, 2, 3, 4, 5, 6, 7, 8, 9, 10)\n",
        "\n",
        "print(len(w))"
      ],
      "metadata": {
        "colab": {
          "base_uri": "https://localhost:8080/"
        },
        "id": "E4v9477c5WnO",
        "outputId": "f6c1fc08-8205-41de-fc1c-7aa00b3625e2"
      },
      "execution_count": null,
      "outputs": [
        {
          "output_type": "stream",
          "name": "stdout",
          "text": [
            "10\n"
          ]
        }
      ]
    },
    {
      "cell_type": "markdown",
      "source": [
        "# Question 3: Access the 3rd element from tuple ('a', 'b', 'c', 'd', 'e')\n"
      ],
      "metadata": {
        "id": "xH5Vflw85vnW"
      }
    },
    {
      "cell_type": "code",
      "source": [
        "# Question 3: Access the 3rd element from tuple ('a', 'b', 'c', 'd', 'e')\n",
        "\n",
        "\n",
        "t=('a', 'b', 'c', 'd', 'e')\n",
        "print(t[2])"
      ],
      "metadata": {
        "colab": {
          "base_uri": "https://localhost:8080/"
        },
        "id": "5YZyexyk5xak",
        "outputId": "cbfb460d-423f-4220-b973-7c86aec48bbe"
      },
      "execution_count": null,
      "outputs": [
        {
          "output_type": "stream",
          "name": "stdout",
          "text": [
            "c\n"
          ]
        }
      ]
    },
    {
      "cell_type": "markdown",
      "source": [
        "# Question 4: Find the maximum value in tuple (23, 45, 12, 67, 34, 89, 56)\n"
      ],
      "metadata": {
        "id": "q0-ViUiU8TQm"
      }
    },
    {
      "cell_type": "code",
      "source": [
        "t=(23, 45, 12, 67, 34, 89, 56)\n",
        "max_value=max(t)\n",
        "\n",
        "print(max_value)"
      ],
      "metadata": {
        "colab": {
          "base_uri": "https://localhost:8080/"
        },
        "id": "OAtHxnwo8Zvk",
        "outputId": "f24e4c73-1b0a-4949-8b72-b47652a6e498"
      },
      "execution_count": null,
      "outputs": [
        {
          "output_type": "stream",
          "name": "stdout",
          "text": [
            "89\n"
          ]
        }
      ]
    },
    {
      "cell_type": "markdown",
      "source": [
        "# Question 5: Count how many times 5 appears in (1, 5, 2, 5, 3, 5, 4, 5, 6)\n"
      ],
      "metadata": {
        "id": "-62BHfzn83r-"
      }
    },
    {
      "cell_type": "code",
      "source": [
        "t=(1, 5, 2, 5, 3, 5, 4, 5, 6)\n",
        "\n",
        "t.count(5)"
      ],
      "metadata": {
        "colab": {
          "base_uri": "https://localhost:8080/"
        },
        "id": "pfH3oAM9895G",
        "outputId": "a3abb05e-da9e-4248-b0de-f52d238bf377"
      },
      "execution_count": null,
      "outputs": [
        {
          "output_type": "execute_result",
          "data": {
            "text/plain": [
              "4"
            ]
          },
          "metadata": {},
          "execution_count": 6
        }
      ]
    },
    {
      "cell_type": "markdown",
      "source": [
        "# Question 6: Create a tuple of mixed data types (integer, float, string, boolean)\n"
      ],
      "metadata": {
        "id": "8UaKgSvQ9T3z"
      }
    },
    {
      "cell_type": "code",
      "source": [
        "mixed_tuple = (10, 3.14, \"hello\", True)\n",
        "print(mixed_tuple)\n"
      ],
      "metadata": {
        "colab": {
          "base_uri": "https://localhost:8080/"
        },
        "id": "oT7kLoXP9ij8",
        "outputId": "74f5e240-b4d2-46b1-b0b4-475671ac4e9c"
      },
      "execution_count": null,
      "outputs": [
        {
          "output_type": "stream",
          "name": "stdout",
          "text": [
            "(10, 3.14, 'hello', True)\n"
          ]
        }
      ]
    },
    {
      "cell_type": "markdown",
      "source": [
        "# Question 7: Find the index of element 'python' in ('java', 'python', 'c++', 'javascript')\n"
      ],
      "metadata": {
        "id": "rIRzsGZM9kj9"
      }
    },
    {
      "cell_type": "code",
      "source": [
        "t=('java', 'python', 'c++', 'javascript')\n",
        "\n",
        "t.index(\"python\")"
      ],
      "metadata": {
        "colab": {
          "base_uri": "https://localhost:8080/"
        },
        "id": "QS-VDbKq9qZr",
        "outputId": "b6780761-c944-4c2e-aa38-0ab517a1be96"
      },
      "execution_count": null,
      "outputs": [
        {
          "output_type": "execute_result",
          "data": {
            "text/plain": [
              "1"
            ]
          },
          "metadata": {},
          "execution_count": 8
        }
      ]
    },
    {
      "cell_type": "markdown",
      "source": [
        "# Question 8: Check if 25 exists in tuple (10, 20, 30, 40, 50)\n"
      ],
      "metadata": {
        "id": "uPTGALBe9z3r"
      }
    },
    {
      "cell_type": "code",
      "source": [
        "t=(10, 20, 30, 40, 50)\n",
        "\n",
        "if 25 in t:\n",
        "  print(\"25 exists in tuple\")\n",
        "\n",
        "else:\n",
        "    print(\"25 not  exists in tuple\")"
      ],
      "metadata": {
        "colab": {
          "base_uri": "https://localhost:8080/"
        },
        "id": "H-1L1a_m-FC7",
        "outputId": "19cc5694-99b3-42c1-c052-bca75b46779c"
      },
      "execution_count": null,
      "outputs": [
        {
          "output_type": "stream",
          "name": "stdout",
          "text": [
            "25 not  exists in tuple\n"
          ]
        }
      ]
    },
    {
      "cell_type": "markdown",
      "source": [
        "# Question 9: Create a tuple of first 5 even numbers\n"
      ],
      "metadata": {
        "id": "PEhvXjr3Svhh"
      }
    },
    {
      "cell_type": "code",
      "source": [
        "t=tuple(range(1,5,2))\n",
        "\n",
        "print(t)"
      ],
      "metadata": {
        "colab": {
          "base_uri": "https://localhost:8080/"
        },
        "id": "bgVE0HZYS-6e",
        "outputId": "b66c8df6-31e3-48bd-867b-825e08ee45de"
      },
      "execution_count": null,
      "outputs": [
        {
          "output_type": "stream",
          "name": "stdout",
          "text": [
            "(1, 3)\n"
          ]
        }
      ]
    },
    {
      "cell_type": "markdown",
      "source": [
        "# Question 10: Find the average of numbers in tuple (15, 23, 31, 42, 56, 78)\n"
      ],
      "metadata": {
        "id": "DVoYxHYLTuoG"
      }
    },
    {
      "cell_type": "code",
      "source": [
        "t=(15, 23, 31, 42, 56, 78)\n",
        "\n",
        "avg=sum(t)/len(t)\n",
        "\n",
        "print(avg)"
      ],
      "metadata": {
        "colab": {
          "base_uri": "https://localhost:8080/"
        },
        "id": "q2DbxkGaTxaA",
        "outputId": "1d5aa70f-732d-4fb1-a390-1684b308d6b4"
      },
      "execution_count": null,
      "outputs": [
        {
          "output_type": "stream",
          "name": "stdout",
          "text": [
            "40.833333333333336\n"
          ]
        }
      ]
    }
  ]
}