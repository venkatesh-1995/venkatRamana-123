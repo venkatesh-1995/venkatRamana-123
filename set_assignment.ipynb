{
  "nbformat": 4,
  "nbformat_minor": 0,
  "metadata": {
    "colab": {
      "provenance": []
    },
    "kernelspec": {
      "name": "python3",
      "display_name": "Python 3"
    },
    "language_info": {
      "name": "python"
    }
  },
  "cells": [
    {
      "cell_type": "markdown",
      "source": [
        "# Question 1: Create a set of first 10 natural numbers\n"
      ],
      "metadata": {
        "id": "u0muZSEGdu8y"
      }
    },
    {
      "cell_type": "code",
      "execution_count": 1,
      "metadata": {
        "colab": {
          "base_uri": "https://localhost:8080/"
        },
        "id": "5U_5nNJ2dqGf",
        "outputId": "9d919727-9119-4a52-bc50-9b16276fb39d"
      },
      "outputs": [
        {
          "output_type": "stream",
          "name": "stdout",
          "text": [
            "{1, 2, 3, 4, 5, 6, 7, 8, 9, 10}\n"
          ]
        }
      ],
      "source": [
        "s=set(range(1,11))\n",
        "\n",
        "\n",
        "print(s)"
      ]
    },
    {
      "cell_type": "markdown",
      "source": [
        "# Question 2: Add element 11 to set {1, 2, 3, 4, 5}\n"
      ],
      "metadata": {
        "id": "8eIpJAaVd6JI"
      }
    },
    {
      "cell_type": "code",
      "source": [
        "s={1, 2, 3, 4, 5}\n",
        "s.add(11)\n",
        "\n",
        "print(s)"
      ],
      "metadata": {
        "colab": {
          "base_uri": "https://localhost:8080/"
        },
        "id": "f25op_mId-5E",
        "outputId": "68749de0-0460-4cf8-8694-f4f33182432d"
      },
      "execution_count": 2,
      "outputs": [
        {
          "output_type": "stream",
          "name": "stdout",
          "text": [
            "{1, 2, 3, 4, 5, 11}\n"
          ]
        }
      ]
    },
    {
      "cell_type": "markdown",
      "source": [
        "# Question 3: Remove element 3 from set {1, 2, 3, 4, 5, 6}\n"
      ],
      "metadata": {
        "id": "vrBU3HVgeKE3"
      }
    },
    {
      "cell_type": "code",
      "source": [
        "s={1, 2, 3, 4, 5, 6}\n",
        "\n",
        "s.remove(3)\n",
        "\n",
        "print(s)"
      ],
      "metadata": {
        "colab": {
          "base_uri": "https://localhost:8080/"
        },
        "id": "8uYNY35BeOEb",
        "outputId": "a2c5917c-6ee6-4b8f-fbe3-7c870ba0339d"
      },
      "execution_count": 3,
      "outputs": [
        {
          "output_type": "stream",
          "name": "stdout",
          "text": [
            "{1, 2, 4, 5, 6}\n"
          ]
        }
      ]
    },
    {
      "cell_type": "markdown",
      "source": [
        "# Question 4: Find the intersection of {1, 2, 3, 4, 5} and {4, 5, 6, 7, 8}\n"
      ],
      "metadata": {
        "id": "YvGa8nageWy9"
      }
    },
    {
      "cell_type": "code",
      "source": [
        "set1 = {1, 2, 3, 4, 5}\n",
        "set2 = {4, 5, 6, 7, 8}\n",
        "\n",
        "intersection = set1 & set2\n",
        "print(intersection)\n"
      ],
      "metadata": {
        "id": "iWz9TSexeXLF"
      },
      "execution_count": null,
      "outputs": []
    },
    {
      "cell_type": "markdown",
      "source": [
        "# Question 5: Find the difference between {1, 2, 3, 4, 5} and {4, 5, 6, 7, 8}\n"
      ],
      "metadata": {
        "id": "msedhCAJeXl-"
      }
    },
    {
      "cell_type": "code",
      "source": [
        "set1 = {1, 2, 3, 4, 5}\n",
        "set2 = {4, 5, 6, 7, 8}\n",
        "\n",
        "difference = set1 - set2\n",
        "print(difference)\n"
      ],
      "metadata": {
        "colab": {
          "base_uri": "https://localhost:8080/"
        },
        "id": "3GhmxL_ReYD0",
        "outputId": "4f5302c3-8efe-4d3d-c82a-5ff1f6ab6dc2"
      },
      "execution_count": 4,
      "outputs": [
        {
          "output_type": "stream",
          "name": "stdout",
          "text": [
            "{1, 2, 3}\n"
          ]
        }
      ]
    },
    {
      "cell_type": "markdown",
      "source": [
        "# Question 6: Check if 5 is in set {1, 2, 3, 4, 6, 7, 8}\n"
      ],
      "metadata": {
        "id": "fiwBNBcWeYYv"
      }
    },
    {
      "cell_type": "code",
      "source": [
        "my_set = {1, 2, 3, 4, 6, 7, 8}\n",
        "\n",
        "if 5 in my_set:\n",
        "    print(\"5 is in the set\")\n",
        "else:\n",
        "    print(\"5 is not in the set\")\n"
      ],
      "metadata": {
        "colab": {
          "base_uri": "https://localhost:8080/"
        },
        "id": "zQlhqCMbeYpW",
        "outputId": "ebd1967e-d6ae-4c49-a888-badb71c2ec6b"
      },
      "execution_count": 1,
      "outputs": [
        {
          "output_type": "stream",
          "name": "stdout",
          "text": [
            "5 is not in the set\n"
          ]
        }
      ]
    },
    {
      "cell_type": "markdown",
      "source": [
        "# Question 7: Find the length of set {'a', 'b', 'c', 'd', 'e'}\n"
      ],
      "metadata": {
        "id": "Ziy3IUnwkugY"
      }
    },
    {
      "cell_type": "code",
      "source": [
        "s={'a', 'b', 'c', 'd', 'e'}\n",
        "\n",
        "print(len(s))"
      ],
      "metadata": {
        "colab": {
          "base_uri": "https://localhost:8080/"
        },
        "id": "sSWfdAysk0zJ",
        "outputId": "f65ee21c-23c4-4aae-a986-261d8cee0aca"
      },
      "execution_count": 2,
      "outputs": [
        {
          "output_type": "stream",
          "name": "stdout",
          "text": [
            "5\n"
          ]
        }
      ]
    },
    {
      "cell_type": "markdown",
      "source": [
        "# Question 8: Create a set of vowels from string \"hello world\"\n"
      ],
      "metadata": {
        "id": "Pa2tYeJAmyje"
      }
    },
    {
      "cell_type": "code",
      "source": [
        "text = \"hello world\"\n",
        "vowels = {'a', 'e', 'i', 'o', 'u'}\n",
        "\n",
        "vowel_set = set()   # We create an empty set\n",
        "\n",
        "\n",
        "for char in text:   # Then go through each character in the string\n",
        "\n",
        "    if char in vowels:\n",
        "        vowel_set.add(char)  # If the character is a vowel, we add it to the set\n",
        "\n",
        "print(vowel_set)"
      ],
      "metadata": {
        "colab": {
          "base_uri": "https://localhost:8080/"
        },
        "id": "q4ZBOyiCmzBQ",
        "outputId": "2fee3c63-ef7f-486f-d8c3-e4ca79982c9b"
      },
      "execution_count": 3,
      "outputs": [
        {
          "output_type": "stream",
          "name": "stdout",
          "text": [
            "{'e', 'o'}\n"
          ]
        }
      ]
    },
    {
      "cell_type": "markdown",
      "source": [
        "# Question 9: Remove duplicates from list [1, 2, 2, 3, 4, 4, 5, 6, 6, 7] using set\n"
      ],
      "metadata": {
        "id": "KVMdgZ43VOvx"
      }
    },
    {
      "cell_type": "code",
      "source": [
        "lis=[1, 2, 2, 3, 4, 4, 5, 6, 6, 7]\n",
        "\n",
        "s=set(lis)\n",
        "\n",
        "print(s)"
      ],
      "metadata": {
        "colab": {
          "base_uri": "https://localhost:8080/"
        },
        "id": "MmuP_URAVVTD",
        "outputId": "15c97f9b-cd4e-4df0-eda6-7f00555332a0"
      },
      "execution_count": 5,
      "outputs": [
        {
          "output_type": "stream",
          "name": "stdout",
          "text": [
            "{1, 2, 3, 4, 5, 6, 7}\n"
          ]
        }
      ]
    },
    {
      "cell_type": "markdown",
      "source": [
        "# Question 10: Check if {1, 2, 3} is a subset of {1, 2, 3, 4, 5, 6}\n"
      ],
      "metadata": {
        "id": "_ypGkEp4Vr2e"
      }
    },
    {
      "cell_type": "code",
      "source": [
        "set1 = {1, 2, 3}\n",
        "set2 = {1, 2, 3, 4, 5, 6}\n",
        "\n",
        "\n",
        "print(set1.issubset(set2))\n"
      ],
      "metadata": {
        "colab": {
          "base_uri": "https://localhost:8080/"
        },
        "id": "KNX_R3-NV4DS",
        "outputId": "667b545f-d999-4472-f961-0af7976bdc56"
      },
      "execution_count": 7,
      "outputs": [
        {
          "output_type": "stream",
          "name": "stdout",
          "text": [
            "True\n"
          ]
        }
      ]
    }
  ]
}