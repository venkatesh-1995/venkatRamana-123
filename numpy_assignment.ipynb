{
  "nbformat": 4,
  "nbformat_minor": 0,
  "metadata": {
    "colab": {
      "provenance": []
    },
    "kernelspec": {
      "name": "python3",
      "display_name": "Python 3"
    },
    "language_info": {
      "name": "python"
    }
  },
  "cells": [
    {
      "cell_type": "markdown",
      "source": [],
      "metadata": {
        "id": "6KRTgDC2ObTF"
      }
    },
    {
      "cell_type": "code",
      "source": [
        "# Retail Data – Business Questions (for `retail_data`)\n",
        "\n",
        "**Assumed columns:** `[StoreID, Sales, Customers, Inventory, Returns]`\n",
        "\n",
        "## Basic Performance Analysis\n",
        "1. What is the **total revenue** generated across all stores?\n",
        "2. Which store recorded the **highest sales**?\n",
        "3. Which store recorded the **lowest sales**?\n",
        "4. What is the **average daily sales** per store?\n",
        "5. How many stores achieved sales **above ₹35,000**?\n",
        "\n",
        "## Customer Insights\n",
        "6. Which store had the **highest customer footfall**?\n",
        "7. What is the **average number of customers** per store?\n",
        "8. How many stores have **more than 450 customers**?\n",
        "9. Which store has the **lowest customer count**?\n",
        "10. Is there any store where **high sales do not correspond to high customers**?\n",
        "\n",
        "## Inventory & Returns Analysis\n",
        "11. What is the **total inventory** across all stores?\n",
        "12. Which store has the **highest inventory stock**?\n",
        "13. How many stores have **inventory less than 1300 units**?\n",
        "14. Which store has the **highest return rate** (returns ÷ inventory)?\n",
        "15. Which stores have **returns greater than 15 units**?\n",
        "\n",
        "## Sales & Customer Correlation\n",
        "16. Is there a **positive correlation** between sales and customers?\n",
        "17. Which store has **high customer visits but low sales**?\n",
        "18. Which store has **low customers but high sales**?\n",
        "19. How many stores have **sales per customer above ₹90**?\n",
        "20. Which stores could **benefit from customer acquisition campaigns** (low customers, high inventory)?\n",
        "\n",
        "## Profitability & Growth\n",
        "21. If profit margin is **20% of sales**, what is the **profit per store**?\n",
        "22. Which store has the **highest profit**?\n",
        "23. Which store has the **lowest profit**?\n",
        "24. If sales increase by **10% next month**, what are the **new sales figures**?\n",
        "25. How will **total profit** change with the 10% sales increase?\n",
        "\n",
        "## Operational Strategy\n",
        "26. Which stores need **inventory restocking** based on sales and current stock?\n",
        "27. Which stores show **high returns percentage** and might require **quality checks**?\n",
        "28. Which store is the **best performer overall** (sales, customers, inventory turnover)?\n",
        "29. Which store is the **worst performer overall**?\n",
        "30. Which stores can be considered for **expansion** based on strong sales and customer metrics?\n"
      ],
      "metadata": {
        "id": "XndYEg3-2m2K",
        "colab": {
          "base_uri": "https://localhost:8080/",
          "height": 106
        },
        "outputId": "3b64f110-a711-4fff-e919-9dd84052b31d"
      },
      "execution_count": 1,
      "outputs": [
        {
          "output_type": "error",
          "ename": "SyntaxError",
          "evalue": "invalid character '÷' (U+00F7) (ipython-input-322322983.py, line 23)",
          "traceback": [
            "\u001b[0;36m  File \u001b[0;32m\"/tmp/ipython-input-322322983.py\"\u001b[0;36m, line \u001b[0;32m23\u001b[0m\n\u001b[0;31m    14. Which store has the **highest return rate** (returns ÷ inventory)?\u001b[0m\n\u001b[0m                                                             ^\u001b[0m\n\u001b[0;31mSyntaxError\u001b[0m\u001b[0;31m:\u001b[0m invalid character '÷' (U+00F7)\n"
          ]
        }
      ]
    },
    {
      "cell_type": "code",
      "execution_count": 3,
      "metadata": {
        "colab": {
          "base_uri": "https://localhost:8080/"
        },
        "id": "_dFTtUlWOYYd",
        "outputId": "f2532f57-819b-41ba-fffb-4f00b409bd49"
      },
      "outputs": [
        {
          "output_type": "stream",
          "name": "stdout",
          "text": [
            "[[    1 25000   300  1200    10]\n",
            " [    2 32000   450  1500    15]\n",
            " [    3 28000   380  1100     8]\n",
            " [    4 41000   500  1600    20]\n",
            " [    5 35000   420  1400    12]\n",
            " [    6 27000   360  1300     9]\n",
            " [    7 39000   480  1700    18]\n",
            " [    8 30000   400  1250    14]\n",
            " [    9 45000   550  1800    25]\n",
            " [   10 33000   410  1450    11]]\n"
          ]
        }
      ],
      "source": [
        "import numpy as np\n",
        "\n",
        "# Manually created array: [Store ID, Sales, Customers, Inventory, Returns]\n",
        "retail_data = np.array([\n",
        "    [1, 25000, 300, 1200, 10],\n",
        "    [2, 32000, 450, 1500, 15],\n",
        "    [3, 28000, 380, 1100, 8],\n",
        "    [4, 41000, 500, 1600, 20],\n",
        "    [5, 35000, 420, 1400, 12],\n",
        "    [6, 27000, 360, 1300, 9],\n",
        "    [7, 39000, 480, 1700, 18],\n",
        "    [8, 30000, 400, 1250, 14],\n",
        "    [9, 45000, 550, 1800, 25],\n",
        "    [10, 33000, 410, 1450, 11]\n",
        "])\n",
        "\n",
        "print(retail_data)\n"
      ]
    },
    {
      "cell_type": "code",
      "source": [
        "retail_data[:,1]"
      ],
      "metadata": {
        "colab": {
          "base_uri": "https://localhost:8080/"
        },
        "id": "W2kvGAgLcUh1",
        "outputId": "9780046a-722e-4fad-fc51-f8c73bb02b96"
      },
      "execution_count": 4,
      "outputs": [
        {
          "output_type": "execute_result",
          "data": {
            "text/plain": [
              "array([25000, 32000, 28000, 41000, 35000, 27000, 39000, 30000, 45000,\n",
              "       33000])"
            ]
          },
          "metadata": {},
          "execution_count": 4
        }
      ]
    },
    {
      "cell_type": "code",
      "source": [
        "# 1. What is the **total revenue** generated across all stores?\n",
        "total_revenue = np.sum(retail_data[:, 1])\n",
        "print(total_revenue)\n"
      ],
      "metadata": {
        "colab": {
          "base_uri": "https://localhost:8080/"
        },
        "id": "oVqlprGQOiim",
        "outputId": "9c956c1a-33fd-4272-c774-ca1121a8494e"
      },
      "execution_count": 6,
      "outputs": [
        {
          "output_type": "stream",
          "name": "stdout",
          "text": [
            "335000\n"
          ]
        }
      ]
    },
    {
      "cell_type": "code",
      "source": [
        "# 2. Which store recorded the **highest sales**?\n",
        "highest_sales=retail_data[:,1].argmax()+1\n",
        "print(highest_sales)"
      ],
      "metadata": {
        "colab": {
          "base_uri": "https://localhost:8080/"
        },
        "id": "DrUmOiYLPO7S",
        "outputId": "d1c0d04a-282c-4318-9962-559324d54b81"
      },
      "execution_count": 7,
      "outputs": [
        {
          "output_type": "stream",
          "name": "stdout",
          "text": [
            "9\n"
          ]
        }
      ]
    },
    {
      "cell_type": "code",
      "source": [
        "# 3. Which store recorded the **lowest sales**?\n",
        "lowest_sales=retail_data[:,1].argmin()+1\n",
        "print(lowest_sales)"
      ],
      "metadata": {
        "colab": {
          "base_uri": "https://localhost:8080/"
        },
        "id": "0paTeK6RPlQm",
        "outputId": "93e148f3-f69f-437a-bcd1-f77eaaf3c60b"
      },
      "execution_count": 8,
      "outputs": [
        {
          "output_type": "stream",
          "name": "stdout",
          "text": [
            "1\n"
          ]
        }
      ]
    },
    {
      "cell_type": "code",
      "source": [
        "# 4. What is the **average daily sales** per store?\n",
        "average_daily_sales=retail_data[:,1].mean()\n",
        "print(average_daily_sales)"
      ],
      "metadata": {
        "colab": {
          "base_uri": "https://localhost:8080/"
        },
        "id": "ZBX1QTnjPqXs",
        "outputId": "df27230f-fd06-4a86-adf0-4214e8e0ba6a"
      },
      "execution_count": 9,
      "outputs": [
        {
          "output_type": "stream",
          "name": "stdout",
          "text": [
            "33500.0\n"
          ]
        }
      ]
    },
    {
      "cell_type": "code",
      "source": [
        "# 5. How many stores achieved sales **above ₹35,000**?\n",
        "sales=retail_data[:,1]\n",
        "\n",
        "count_above_35k=np.sum(sales>35000)\n",
        "print(count_above_35k)"
      ],
      "metadata": {
        "colab": {
          "base_uri": "https://localhost:8080/"
        },
        "id": "o8MPdgb2PqUU",
        "outputId": "b0d456b9-ec0e-4fbc-ff38-d270bf2a1f93"
      },
      "execution_count": 10,
      "outputs": [
        {
          "output_type": "stream",
          "name": "stdout",
          "text": [
            "3\n"
          ]
        }
      ]
    },
    {
      "cell_type": "code",
      "source": [
        "# 6. Which store had the **highest customer footfall**?\n",
        "retail_data[:,2].argmax()+1"
      ],
      "metadata": {
        "colab": {
          "base_uri": "https://localhost:8080/"
        },
        "id": "t2CChEiFPqRq",
        "outputId": "4cad310c-8674-4de4-bc7a-e5eced2aec42"
      },
      "execution_count": 11,
      "outputs": [
        {
          "output_type": "execute_result",
          "data": {
            "text/plain": [
              "np.int64(9)"
            ]
          },
          "metadata": {},
          "execution_count": 11
        }
      ]
    },
    {
      "cell_type": "code",
      "source": [
        "# 7. What is the **average number of customers** per store?\n",
        "retail_data[:,2].mean()"
      ],
      "metadata": {
        "colab": {
          "base_uri": "https://localhost:8080/"
        },
        "id": "Vbs1sNUjeex_",
        "outputId": "8123b318-20ef-4d8a-cca1-15802ee3b038"
      },
      "execution_count": 12,
      "outputs": [
        {
          "output_type": "execute_result",
          "data": {
            "text/plain": [
              "np.float64(425.0)"
            ]
          },
          "metadata": {},
          "execution_count": 12
        }
      ]
    },
    {
      "cell_type": "code",
      "source": [
        "# 8. How many stores have **more than 450 customers**?\n",
        "customers=retail_data[:,2]\n",
        "\n",
        "count_above_450=np.sum(customers>450)\n",
        "print(count_above_450)"
      ],
      "metadata": {
        "colab": {
          "base_uri": "https://localhost:8080/"
        },
        "id": "7xUCQFoGetPQ",
        "outputId": "6ec23777-74d5-44b2-9478-66e8aa1f54b7"
      },
      "execution_count": 13,
      "outputs": [
        {
          "output_type": "stream",
          "name": "stdout",
          "text": [
            "3\n"
          ]
        }
      ]
    },
    {
      "cell_type": "code",
      "source": [
        "# 9. Which store has the **lowest customer count**?\n",
        "\n",
        "customers=retail_data[:,2].argmin()+1\n",
        "print(customers)"
      ],
      "metadata": {
        "colab": {
          "base_uri": "https://localhost:8080/"
        },
        "id": "YspRC1lEfMzb",
        "outputId": "69181942-4220-4937-9d10-256147a1974b"
      },
      "execution_count": 14,
      "outputs": [
        {
          "output_type": "stream",
          "name": "stdout",
          "text": [
            "1\n"
          ]
        }
      ]
    },
    {
      "cell_type": "code",
      "source": [
        "retail_data[:,1].mean()\n"
      ],
      "metadata": {
        "colab": {
          "base_uri": "https://localhost:8080/"
        },
        "id": "LuOBUoh5h-Cb",
        "outputId": "c85314d0-9908-4561-b430-37c53249bd8a"
      },
      "execution_count": 18,
      "outputs": [
        {
          "output_type": "execute_result",
          "data": {
            "text/plain": [
              "np.float64(33500.0)"
            ]
          },
          "metadata": {},
          "execution_count": 18
        }
      ]
    },
    {
      "cell_type": "code",
      "source": [
        "retail_data[:,2].mean()\n"
      ],
      "metadata": {
        "colab": {
          "base_uri": "https://localhost:8080/"
        },
        "id": "O7OukVQmiqLp",
        "outputId": "5de88bab-996c-4870-b886-211dd1551842"
      },
      "execution_count": 19,
      "outputs": [
        {
          "output_type": "execute_result",
          "data": {
            "text/plain": [
              "np.float64(425.0)"
            ]
          },
          "metadata": {},
          "execution_count": 19
        }
      ]
    },
    {
      "cell_type": "code",
      "source": [
        "# 10. Is there any store where **high sales do not correspond to high customers**?\n",
        "\n",
        "sal = retail_data[:,1].mean()\n",
        "cus = retail_data[:,2].mean()\n",
        "mis = retail_data[(retail_data[:,1] > sal) & (retail_data[:,2] < cus)]\n",
        "mis"
      ],
      "metadata": {
        "colab": {
          "base_uri": "https://localhost:8080/"
        },
        "id": "-BBnnlIag0dn",
        "outputId": "082cb906-954f-41d9-e45e-6ba1b9c50c9d"
      },
      "execution_count": 16,
      "outputs": [
        {
          "output_type": "execute_result",
          "data": {
            "text/plain": [
              "array([[    5, 35000,   420,  1400,    12]])"
            ]
          },
          "metadata": {},
          "execution_count": 16
        }
      ]
    },
    {
      "cell_type": "code",
      "source": [
        "# 11. What is the **total inventory** across all stores?\n",
        "total_inventory=sum(retail_data[:,3])\n",
        "print(total_inventory)"
      ],
      "metadata": {
        "colab": {
          "base_uri": "https://localhost:8080/"
        },
        "id": "c_VXXIm4gnh1",
        "outputId": "8cacbc41-65e3-4c0d-d359-592ccb6b7123"
      },
      "execution_count": 20,
      "outputs": [
        {
          "output_type": "stream",
          "name": "stdout",
          "text": [
            "14300\n"
          ]
        }
      ]
    },
    {
      "cell_type": "code",
      "source": [
        "# 12. Which store has the **highest inventory stock**?\n",
        "retail_data[:,3].max()"
      ],
      "metadata": {
        "colab": {
          "base_uri": "https://localhost:8080/"
        },
        "id": "o8ldOvEljnj6",
        "outputId": "473474ab-463e-4125-cf2a-20dd899e3f82"
      },
      "execution_count": 21,
      "outputs": [
        {
          "output_type": "execute_result",
          "data": {
            "text/plain": [
              "np.int64(1800)"
            ]
          },
          "metadata": {},
          "execution_count": 21
        }
      ]
    },
    {
      "cell_type": "code",
      "source": [
        "# 13. How many stores have **inventory less than 1300 units**?\n",
        "inventory=retail_data[:,3]\n",
        "\n",
        "inventoy_less_than_1300=np.sum(inventory < 1300)\n",
        "print(inventoy_less_than_1300)\n",
        ""
      ],
      "metadata": {
        "colab": {
          "base_uri": "https://localhost:8080/"
        },
        "id": "QXakXNCLj2XR",
        "outputId": "e135640c-e935-4cfe-bf3c-11dd3f53977f"
      },
      "execution_count": 24,
      "outputs": [
        {
          "output_type": "stream",
          "name": "stdout",
          "text": [
            "3\n"
          ]
        }
      ]
    },
    {
      "cell_type": "code",
      "source": [
        "# 14. Which store has the **highest return rate** (returns ÷ inventory)?\n",
        "\n",
        "# Extract columns\n",
        "returns = retail_data[:, 4]\n",
        "inventory = retail_data[:, 3]\n",
        "\n",
        "# Calculate return rate\n",
        "return_rate = returns / inventory\n",
        "\n",
        "# Get index of max return rate\n",
        "max_index = np.argmax(return_rate)\n",
        "\n",
        "print(max_index)\n"
      ],
      "metadata": {
        "colab": {
          "base_uri": "https://localhost:8080/"
        },
        "id": "6jl32kO_ktsH",
        "outputId": "5c879592-0938-4faf-ba77-403bfb0166bf"
      },
      "execution_count": 29,
      "outputs": [
        {
          "output_type": "stream",
          "name": "stdout",
          "text": [
            "8\n"
          ]
        }
      ]
    },
    {
      "cell_type": "code",
      "source": [
        "# 15. Which stores have **returns greater than 15 units**?\n",
        "returns=retail_data[:,4]\n",
        "\n",
        "returns_greater_than_15=np.sum(returns > 15)\n",
        "print(returns_greater_than_15)"
      ],
      "metadata": {
        "colab": {
          "base_uri": "https://localhost:8080/"
        },
        "id": "Q8O2bknfnM1t",
        "outputId": "dbf08e53-1918-4e27-e20c-1e5dc08bcd89"
      },
      "execution_count": 31,
      "outputs": [
        {
          "output_type": "stream",
          "name": "stdout",
          "text": [
            "3\n"
          ]
        }
      ]
    },
    {
      "cell_type": "code",
      "source": [
        "# 16. Is there a **positive correlation** between sales and customers?\n",
        "sales=retail_data[:,1]\n",
        "customers=retail_data[:,2]\n",
        "\n",
        "correlation_matrix=np.corrcoef(sales,customers)\n",
        "print(correlation_matrix[0,1])"
      ],
      "metadata": {
        "colab": {
          "base_uri": "https://localhost:8080/"
        },
        "id": "rJKqTtNNm2KF",
        "outputId": "ecd28616-2093-4f3e-9777-96d7bee2a1c8"
      },
      "execution_count": 35,
      "outputs": [
        {
          "output_type": "stream",
          "name": "stdout",
          "text": [
            "0.9593636912502479\n"
          ]
        }
      ]
    },
    {
      "cell_type": "code",
      "source": [
        "# 17. Which store has **high customer visits but low sales**?\n",
        "first = retail_data[:,2].mean()\n",
        "sec = retail_data[:,1].mean()\n",
        "res = retail_data[(retail_data[:,2] > first) & (retail_data[:,1] < sec)]\n",
        "res"
      ],
      "metadata": {
        "colab": {
          "base_uri": "https://localhost:8080/"
        },
        "id": "od91uPmFqscL",
        "outputId": "a54d82ef-c564-42a1-cc5b-992116a6d610"
      },
      "execution_count": 40,
      "outputs": [
        {
          "output_type": "execute_result",
          "data": {
            "text/plain": [
              "array([[    2, 32000,   450,  1500,    15]])"
            ]
          },
          "metadata": {},
          "execution_count": 40
        }
      ]
    },
    {
      "cell_type": "code",
      "source": [
        "#  18. Which store has **low customers but high sales**?\n",
        "# Extract columns\n",
        "sales = retail_data[:, 1].mean()\n",
        "customers = retail_data[:, 2].mean()\n",
        "\n",
        "\n",
        "# Condition: low customers, high sales\n",
        "stores_low_cust_high_sales = retail_data[(retail_data[:,2] < customers) & (retail_data[:,1] > sales)]\n",
        "\n",
        "print(\"Stores with low customers but high sales:\\n\", stores_low_cust_high_sales)\n"
      ],
      "metadata": {
        "colab": {
          "base_uri": "https://localhost:8080/"
        },
        "id": "mzDT_G6cmyhl",
        "outputId": "5ac0d0aa-5c53-4efa-a6e2-f9d9339c482a"
      },
      "execution_count": 46,
      "outputs": [
        {
          "output_type": "stream",
          "name": "stdout",
          "text": [
            "Stores with low customers but high sales:\n",
            " [[    5 35000   420  1400    12]]\n"
          ]
        }
      ]
    },
    {
      "cell_type": "code",
      "source": [
        "# 20. Which stores could **benefit from customer acquisition campaigns** (low customers, high inventory)?\n",
        "# Extract columns\n",
        "customers = retail_data[:, 2].mean()\n",
        "inventory = retail_data[:, 3].mean()\n",
        "\n",
        "\n",
        "\n",
        "# Condition: low customers AND high inventory\n",
        "stores_to_target = retail_data[(retail_data[:, 2] < avg_customers) & (retail_data[:, 3] > avg_inventory)]\n",
        "\n",
        "\n",
        "print(\"Stores that could benefit from acquisition campaigns:\\n\", stores_to_target)\n"
      ],
      "metadata": {
        "colab": {
          "base_uri": "https://localhost:8080/"
        },
        "id": "GWDRZHXBs_iw",
        "outputId": "f1b35ceb-01c9-4511-cd91-80671d4fd3f5"
      },
      "execution_count": 48,
      "outputs": [
        {
          "output_type": "stream",
          "name": "stdout",
          "text": [
            "Stores that could benefit from acquisition campaigns:\n",
            " [[   10 33000   410  1450    11]]\n"
          ]
        }
      ]
    },
    {
      "cell_type": "code",
      "source": [
        "# If profit margin is **20% of sales**, what is the **profit per store**?\n",
        "# Extract sales column\n",
        "sales = retail_data[:, 1]\n",
        "\n",
        "# Calculate profit per store\n",
        "profit_per_store = sales * 0.20\n",
        "\n",
        "print(\"Profit per store:\\n\", profit_per_store)\n"
      ],
      "metadata": {
        "colab": {
          "base_uri": "https://localhost:8080/"
        },
        "id": "2VJGzj3Bs6Ak",
        "outputId": "26d8f367-3198-4f59-bca8-9f78536ec8a3"
      },
      "execution_count": 49,
      "outputs": [
        {
          "output_type": "stream",
          "name": "stdout",
          "text": [
            "Profit per store:\n",
            " [5000. 6400. 5600. 8200. 7000. 5400. 7800. 6000. 9000. 6600.]\n"
          ]
        }
      ]
    },
    {
      "cell_type": "code",
      "source": [
        "# 22. Which store has the **highest profit**?\n",
        "# Extract sales column\n",
        "sales = retail_data[:, 1]\n",
        "\n",
        "# Calculate profit per store\n",
        "profit_per_store = sales * 0.20\n",
        "\n",
        "max_index = np.argmax(profit_per_store)\n",
        "print(max_index)"
      ],
      "metadata": {
        "colab": {
          "base_uri": "https://localhost:8080/"
        },
        "id": "fcMmfXNBmujW",
        "outputId": "f79daf1b-e757-44b7-e658-fdd701e3bee2"
      },
      "execution_count": 50,
      "outputs": [
        {
          "output_type": "stream",
          "name": "stdout",
          "text": [
            "8\n"
          ]
        }
      ]
    },
    {
      "cell_type": "code",
      "source": [
        "# 23. Which store has the **lowest profit**?\n",
        "sales = retail_data[:, 1]\n",
        "\n",
        "# Calculate profit per store\n",
        "profit_per_store = sales * 0.20\n",
        "\n",
        "max_index = np.argmin(profit_per_store)\n",
        "print(max_index)"
      ],
      "metadata": {
        "colab": {
          "base_uri": "https://localhost:8080/"
        },
        "id": "10rdmy3NeXvJ",
        "outputId": "e6296a42-abf0-4a2e-bde5-121bcbf7aa59"
      },
      "execution_count": 51,
      "outputs": [
        {
          "output_type": "stream",
          "name": "stdout",
          "text": [
            "0\n"
          ]
        }
      ]
    },
    {
      "cell_type": "code",
      "source": [
        "# 24. If sales increase by **10% next month**, what are the **new sales figures**?\n",
        "# Extract sales column\n",
        "sales = retail_data[:, 1]\n",
        "\n",
        "# Calculate new sales after 10% increase\n",
        "new_sales = sales * 1.10\n",
        "\n",
        "print(\"New sales figures after 10% increase:\\n\", new_sales)\n"
      ],
      "metadata": {
        "colab": {
          "base_uri": "https://localhost:8080/"
        },
        "id": "IzGMzWSEPqO5",
        "outputId": "036b91ac-c072-4f3f-ac3a-f5844beceb7b"
      },
      "execution_count": 52,
      "outputs": [
        {
          "output_type": "stream",
          "name": "stdout",
          "text": [
            "New sales figures after 10% increase:\n",
            " [27500. 35200. 30800. 45100. 38500. 29700. 42900. 33000. 49500. 36300.]\n"
          ]
        }
      ]
    },
    {
      "cell_type": "code",
      "source": [
        "# 25. How will **total profit** change with the 10% sales increase?\n",
        "\n",
        "# Extract sales column\n",
        "sales = retail_data[:, 1]\n",
        "\n",
        "# Old total profit\n",
        "old_total_profit = (sales * 0.20).sum()\n",
        "\n",
        "# New sales after 10% increase\n",
        "new_sales = sales * 1.10\n",
        "\n",
        "# New total profit\n",
        "new_total_profit = (new_sales * 0.20).sum()\n",
        "\n",
        "# Change in profit\n",
        "profit_change = new_total_profit - old_total_profit\n",
        "\n",
        "print(\"Old Total Profit:\", old_total_profit)\n",
        "print(\"New Total Profit:\", new_total_profit)\n",
        "print(\"Profit Change:\", profit_change)\n"
      ],
      "metadata": {
        "colab": {
          "base_uri": "https://localhost:8080/"
        },
        "id": "NMaWo_WzPqMA",
        "outputId": "0539f03d-d532-4af8-d4c4-75045743e9c2"
      },
      "execution_count": 54,
      "outputs": [
        {
          "output_type": "stream",
          "name": "stdout",
          "text": [
            "Old Total Profit: 67000.0\n",
            "New Total Profit: 73700.0\n",
            "Profit Change: 6700.0\n"
          ]
        }
      ]
    },
    {
      "cell_type": "code",
      "source": [
        "# 26.Which stores need **inventory restocking** based on sales and current stock?\n",
        "# Extract sales and inventory columns\n",
        "sales = retail_data[:, 1]\n",
        "inventory = retail_data[:, 3]\n",
        "\n",
        "# Condition: sales greater than inventory\n",
        "stores_to_restock = retail_data[sales > inventory]\n",
        "\n",
        "print(\"Stores needing restocking based on sales vs inventory:\\n\", stores_to_restock)\n"
      ],
      "metadata": {
        "colab": {
          "base_uri": "https://localhost:8080/"
        },
        "id": "864CaukTPqJK",
        "outputId": "f3849360-b0b0-4b62-c3d1-b7a3667ed593"
      },
      "execution_count": 55,
      "outputs": [
        {
          "output_type": "stream",
          "name": "stdout",
          "text": [
            "Stores needing restocking based on sales vs inventory:\n",
            " [[    1 25000   300  1200    10]\n",
            " [    2 32000   450  1500    15]\n",
            " [    3 28000   380  1100     8]\n",
            " [    4 41000   500  1600    20]\n",
            " [    5 35000   420  1400    12]\n",
            " [    6 27000   360  1300     9]\n",
            " [    7 39000   480  1700    18]\n",
            " [    8 30000   400  1250    14]\n",
            " [    9 45000   550  1800    25]\n",
            " [   10 33000   410  1450    11]]\n"
          ]
        }
      ]
    },
    {
      "cell_type": "code",
      "source": [
        "# 27. Which stores show **high returns percentage** and might require **quality checks**?\n",
        "# Extract columns\n",
        "sales = retail_data[:, 1]\n",
        "returns = retail_data[:, 4]\n",
        "\n",
        "# Calculate returns percentage\n",
        "returns_percentage = (returns / sales) * 100\n",
        "\n",
        "# Let's say threshold = 0.05%\n",
        "threshold = 0.05\n",
        "\n",
        "# Stores with high returns percentage\n",
        "stores_high_returns = retail_data[returns_percentage > threshold]\n",
        "\n",
        "print(\"Returns percentage per store:\", returns_percentage)\n",
        "print(\"\\nStores with high returns percentage:\\n\", stores_high_returns)\n"
      ],
      "metadata": {
        "colab": {
          "base_uri": "https://localhost:8080/"
        },
        "id": "VBJyATFFPqGA",
        "outputId": "2ba2bab8-e9b9-4601-b690-048213871abf"
      },
      "execution_count": 56,
      "outputs": [
        {
          "output_type": "stream",
          "name": "stdout",
          "text": [
            "Returns percentage per store: [0.04       0.046875   0.02857143 0.04878049 0.03428571 0.03333333\n",
            " 0.04615385 0.04666667 0.05555556 0.03333333]\n",
            "\n",
            "Stores with high returns percentage:\n",
            " [[    9 45000   550  1800    25]]\n"
          ]
        }
      ]
    },
    {
      "cell_type": "code",
      "source": [
        "# 28. Which store is the **best performer overall** (sales, customers, inventory turnover)?\n",
        "import numpy as np\n",
        "\n",
        "# Extract relevant columns\n",
        "sales = retail_data[:, 1]\n",
        "customers = retail_data[:, 2]\n",
        "inventory = retail_data[:, 3]\n",
        "\n",
        "# Calculate inventory turnover\n",
        "inventory_turnover = sales / inventory\n",
        "\n",
        "# Normalize each metric (0–1 scale)\n",
        "sales_norm = (sales - sales.min()) / (sales.max() - sales.min())\n",
        "customers_norm = (customers - customers.min()) / (customers.max() - customers.min())\n",
        "turnover_norm = (inventory_turnover - inventory_turnover.min()) / (inventory_turnover.max() - inventory_turnover.min())\n",
        "\n",
        "# Weighted score (equal weight for simplicity)\n",
        "overall_score = sales_norm + customers_norm + turnover_norm\n",
        "\n",
        "# Find best performer\n",
        "best_index = np.argmax(overall_score)+1\n",
        "\n",
        "print(f\"Best performer overall is Store: {best_index}\")\n"
      ],
      "metadata": {
        "colab": {
          "base_uri": "https://localhost:8080/"
        },
        "id": "Q7W642ToPqCi",
        "outputId": "2faed398-8bdf-4395-c05a-372a8a6acf8e"
      },
      "execution_count": 59,
      "outputs": [
        {
          "output_type": "stream",
          "name": "stdout",
          "text": [
            "Best performer overall is Store: 9\n"
          ]
        }
      ]
    },
    {
      "cell_type": "code",
      "source": [
        "# 29. Which store is the **worst performer overall**?\n",
        "worst_index = np.argmin(overall_score)+1\n",
        "\n",
        "print(f\"Best performer overall is Store: {worst_index}\")\n"
      ],
      "metadata": {
        "colab": {
          "base_uri": "https://localhost:8080/"
        },
        "id": "4aKGJl4LPp_g",
        "outputId": "0334de59-de6e-4f08-883e-356ee6cd5d21"
      },
      "execution_count": 60,
      "outputs": [
        {
          "output_type": "stream",
          "name": "stdout",
          "text": [
            "Best performer overall is Store: 1\n"
          ]
        }
      ]
    },
    {
      "cell_type": "code",
      "source": [
        "# 30. Which stores can be considered for **expansion** based on strong sales and customer metrics?\n",
        "# Calculate averages\n",
        "avg_sales = np.mean(retail_data[:, 1])\n",
        "avg_customers = np.mean(retail_data[:, 2])\n",
        "\n",
        "# Filter stores meeting both criteria\n",
        "expansion_candidates = retail_data[\n",
        "    (retail_data[:, 1] > avg_sales) &\n",
        "    (retail_data[:, 2] > avg_customers)\n",
        "][:, 0]\n",
        "\n",
        "print(\"Stores suitable for expansion:\", expansion_candidates)\n"
      ],
      "metadata": {
        "colab": {
          "base_uri": "https://localhost:8080/"
        },
        "id": "4CpKSJRdPp8c",
        "outputId": "dca5df76-6dc2-4ef1-cd3b-f7763d696d36"
      },
      "execution_count": 61,
      "outputs": [
        {
          "output_type": "stream",
          "name": "stdout",
          "text": [
            "Stores suitable for expansion: [4 7 9]\n"
          ]
        }
      ]
    }
  ]
}