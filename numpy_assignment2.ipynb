{
  "nbformat": 4,
  "nbformat_minor": 0,
  "metadata": {
    "colab": {
      "provenance": []
    },
    "kernelspec": {
      "name": "python3",
      "display_name": "Python 3"
    },
    "language_info": {
      "name": "python"
    }
  },
  "cells": [
    {
      "cell_type": "code",
      "execution_count": 1,
      "metadata": {
        "colab": {
          "base_uri": "https://localhost:8080/"
        },
        "id": "sdNPFPuuwkFu",
        "outputId": "5c2955e1-2014-4d99-fd32-1941fc961fbb"
      },
      "outputs": [
        {
          "output_type": "stream",
          "name": "stdout",
          "text": [
            "[[ 1001 15420   720    25     8]\n",
            " [ 1002  8430   655    12     5]\n",
            " [ 1003 19350   810    40    15]\n",
            " [ 1004  5620   540     7     3]\n",
            " [ 1005 12800   690    20     6]\n",
            " [ 1006  9750   450    15     4]\n",
            " [ 1007 17500   780    35    12]\n",
            " [ 1008  4200   610     9     2]\n",
            " [ 1009 16000   730    28     9]\n",
            " [ 1010 11000   500    18     7]]\n"
          ]
        },
        {
          "output_type": "execute_result",
          "data": {
            "text/plain": [
              "numpy.ndarray"
            ]
          },
          "metadata": {},
          "execution_count": 1
        }
      ],
      "source": [
        "import numpy as np\n",
        "\n",
        "# Banking dataset (10 × 5)\n",
        "customer_data = np.array([\n",
        "    [1001, 15420, 720, 25, 8],\n",
        "    [1002, 8430, 655, 12, 5],\n",
        "    [1003, 19350, 810, 40, 15],\n",
        "    [1004, 5620, 540, 7, 3],\n",
        "    [1005, 12800, 690, 20, 6],\n",
        "    [1006, 9750, 450, 15, 4],\n",
        "    [1007, 17500, 780, 35, 12],\n",
        "    [1008, 4200, 610, 9, 2],\n",
        "    [1009, 16000, 730, 28, 9],\n",
        "    [1010, 11000, 500, 18, 7]\n",
        "])\n",
        "\n",
        "print(customer_data)\n",
        "\n",
        "type(customer_data)"
      ]
    },
    {
      "cell_type": "code",
      "source": [
        "\n",
        "# | Customer\\_ID | Account\\_Balance | Credit\\_Score | Transaction\\_Count | Years\\_Active |\n"
      ],
      "metadata": {
        "id": "pSSKey1ox94i"
      },
      "execution_count": null,
      "outputs": []
    },
    {
      "cell_type": "markdown",
      "source": [
        "Question 1: Array Creation and Manipulation\n"
      ],
      "metadata": {
        "id": "jruDSYGczScA"
      }
    },
    {
      "cell_type": "code",
      "source": [
        "# Q1.1: Create a 4x4 identity matrix using np.eye()\n",
        "\n",
        "identity_matrix=np.eye(4)\n",
        "print(identity_matrix)"
      ],
      "metadata": {
        "colab": {
          "base_uri": "https://localhost:8080/"
        },
        "id": "fgwvl40xzOKZ",
        "outputId": "e22b43f5-b51e-4c0b-d99f-1cfbff7d9a07"
      },
      "execution_count": null,
      "outputs": [
        {
          "output_type": "stream",
          "name": "stdout",
          "text": [
            "[[1. 0. 0. 0.]\n",
            " [0. 1. 0. 0.]\n",
            " [0. 0. 1. 0.]\n",
            " [0. 0. 0. 1.]]\n"
          ]
        }
      ]
    },
    {
      "cell_type": "code",
      "source": [
        "# Q1.2: Create an array of 8 zeros using np.zeros()\n",
        "\n",
        "np.zeros(8)"
      ],
      "metadata": {
        "colab": {
          "base_uri": "https://localhost:8080/"
        },
        "id": "p6o5PqVXzkdn",
        "outputId": "c837cdb1-aab0-4368-8357-e1fad537e879"
      },
      "execution_count": null,
      "outputs": [
        {
          "output_type": "execute_result",
          "data": {
            "text/plain": [
              "array([0., 0., 0., 0., 0., 0., 0., 0.])"
            ]
          },
          "metadata": {},
          "execution_count": 4
        }
      ]
    },
    {
      "cell_type": "code",
      "source": [
        "# Q1.3: Create an array of 6 ones using np.ones()\n",
        "\n",
        "np.ones(6)"
      ],
      "metadata": {
        "colab": {
          "base_uri": "https://localhost:8080/"
        },
        "id": "NL08OlSczYHr",
        "outputId": "c49bc639-e6c7-4fd3-eeb0-216c1cc81e66"
      },
      "execution_count": null,
      "outputs": [
        {
          "output_type": "execute_result",
          "data": {
            "text/plain": [
              "array([1., 1., 1., 1., 1., 1.])"
            ]
          },
          "metadata": {},
          "execution_count": 5
        }
      ]
    },
    {
      "cell_type": "code",
      "source": [
        "# Q1.4: Create an array with values from 0 to 15 using np.arange()\n",
        "\n",
        "np.arange(0,16)"
      ],
      "metadata": {
        "colab": {
          "base_uri": "https://localhost:8080/"
        },
        "id": "mJMw6QjBzYEE",
        "outputId": "619e026e-aa73-4cd6-cb41-1734c64ee973"
      },
      "execution_count": null,
      "outputs": [
        {
          "output_type": "execute_result",
          "data": {
            "text/plain": [
              "array([ 0,  1,  2,  3,  4,  5,  6,  7,  8,  9, 10, 11, 12, 13, 14, 15])"
            ]
          },
          "metadata": {},
          "execution_count": 6
        }
      ]
    },
    {
      "cell_type": "code",
      "source": [
        "# Q1.5: Create an array with 8 evenly spaced values from 0 to 100 using np.linspace()\n",
        "\n",
        "np.linspace(0,100,8)"
      ],
      "metadata": {
        "colab": {
          "base_uri": "https://localhost:8080/"
        },
        "id": "G8Mtvj3XzYBd",
        "outputId": "9ba04a6c-0385-4acc-a631-f40a1ee53ee4"
      },
      "execution_count": null,
      "outputs": [
        {
          "output_type": "execute_result",
          "data": {
            "text/plain": [
              "array([  0.        ,  14.28571429,  28.57142857,  42.85714286,\n",
              "        57.14285714,  71.42857143,  85.71428571, 100.        ])"
            ]
          },
          "metadata": {},
          "execution_count": 7
        }
      ]
    },
    {
      "cell_type": "markdown",
      "source": [
        "Question 2: Array Attributes and Information\n"
      ],
      "metadata": {
        "id": "AuEoHUlo0cZh"
      }
    },
    {
      "cell_type": "code",
      "source": [
        "# Q2.1: What is the shape of the banking_data array?\n",
        "\n",
        "customer_data.shape"
      ],
      "metadata": {
        "colab": {
          "base_uri": "https://localhost:8080/"
        },
        "id": "yeGTJwdgzX-1",
        "outputId": "1390eb56-a767-46a6-ce51-fcdb1d816ac7"
      },
      "execution_count": null,
      "outputs": [
        {
          "output_type": "execute_result",
          "data": {
            "text/plain": [
              "(10, 5)"
            ]
          },
          "metadata": {},
          "execution_count": 8
        }
      ]
    },
    {
      "cell_type": "code",
      "source": [
        "# Q2.2: What is the data type of the banking_data array?\n",
        "\n",
        "customer_data.dtype"
      ],
      "metadata": {
        "colab": {
          "base_uri": "https://localhost:8080/"
        },
        "id": "ny3FdbSL0kDO",
        "outputId": "ff36f566-20ea-480f-b77b-9d11c511c0ee"
      },
      "execution_count": null,
      "outputs": [
        {
          "output_type": "execute_result",
          "data": {
            "text/plain": [
              "dtype('int64')"
            ]
          },
          "metadata": {},
          "execution_count": 9
        }
      ]
    },
    {
      "cell_type": "code",
      "source": [
        "# Q2.3: What is the size (total number of elements) of the banking_data array?\n",
        "\n",
        "customer_data.size"
      ],
      "metadata": {
        "colab": {
          "base_uri": "https://localhost:8080/"
        },
        "id": "2sVXkgj40pdn",
        "outputId": "1e196a52-1560-4c7a-b027-c792d2174181"
      },
      "execution_count": null,
      "outputs": [
        {
          "output_type": "execute_result",
          "data": {
            "text/plain": [
              "50"
            ]
          },
          "metadata": {},
          "execution_count": 10
        }
      ]
    },
    {
      "cell_type": "code",
      "source": [
        "# Q2.4: What is the number of dimensions of the banking_data array?\n",
        "customer_data.ndim\n"
      ],
      "metadata": {
        "colab": {
          "base_uri": "https://localhost:8080/"
        },
        "id": "xY-0kKo31xiU",
        "outputId": "d8560c37-c42a-4225-ace0-f93c4bd0c113"
      },
      "execution_count": null,
      "outputs": [
        {
          "output_type": "execute_result",
          "data": {
            "text/plain": [
              "2"
            ]
          },
          "metadata": {},
          "execution_count": 11
        }
      ]
    },
    {
      "cell_type": "code",
      "source": [
        "# Q2.5: What is the memory size of the banking_data array in bytes?\n",
        "\n",
        "customer_data.nbytes"
      ],
      "metadata": {
        "colab": {
          "base_uri": "https://localhost:8080/"
        },
        "id": "Cd7OFIPdzX8U",
        "outputId": "3a9ada28-5834-4ac4-bc41-b8143adbcd62"
      },
      "execution_count": null,
      "outputs": [
        {
          "output_type": "execute_result",
          "data": {
            "text/plain": [
              "400"
            ]
          },
          "metadata": {},
          "execution_count": 12
        }
      ]
    },
    {
      "cell_type": "markdown",
      "source": [
        "Question 3: Indexing and Slicing\n"
      ],
      "metadata": {
        "id": "n-7XzQdT2EtS"
      }
    },
    {
      "cell_type": "code",
      "source": [
        "# Q3.1: Extract the first row of banking_data\n",
        "\n",
        "customer_data[0]"
      ],
      "metadata": {
        "colab": {
          "base_uri": "https://localhost:8080/"
        },
        "id": "7zZeoEku2A1c",
        "outputId": "68303db7-e421-40c3-db71-bbc235012c2b"
      },
      "execution_count": null,
      "outputs": [
        {
          "output_type": "execute_result",
          "data": {
            "text/plain": [
              "array([ 1001, 15420,   720,    25,     8])"
            ]
          },
          "metadata": {},
          "execution_count": 13
        }
      ]
    },
    {
      "cell_type": "code",
      "source": [
        "# Q3.2: Extract the last row of banking_data\n",
        "\n",
        "customer_data[-1]"
      ],
      "metadata": {
        "colab": {
          "base_uri": "https://localhost:8080/"
        },
        "id": "TSKn2GktzX5a",
        "outputId": "9f9006ce-a6f5-4934-9057-5fa28addc598"
      },
      "execution_count": null,
      "outputs": [
        {
          "output_type": "execute_result",
          "data": {
            "text/plain": [
              "array([ 1010, 11000,   500,    18,     7])"
            ]
          },
          "metadata": {},
          "execution_count": 14
        }
      ]
    },
    {
      "cell_type": "code",
      "source": [
        "#Q3.3: Extract the Account_Balance column (column index 1)\n",
        "frist_row=customer_data[:,1]\n",
        "print(frist_row)"
      ],
      "metadata": {
        "colab": {
          "base_uri": "https://localhost:8080/"
        },
        "id": "1Xko4hGgzXhc",
        "outputId": "443c856e-02e2-4c58-ccd3-8403fc1caf9d"
      },
      "execution_count": null,
      "outputs": [
        {
          "output_type": "stream",
          "name": "stdout",
          "text": [
            "[15420  8430 19350  5620 12800  9750 17500  4200 16000 11000]\n"
          ]
        }
      ]
    },
    {
      "cell_type": "code",
      "source": [
        "#Q3.4: Extract the first 4 rows and first 3 columns\n",
        "\n",
        "customer_data[:4,:3]"
      ],
      "metadata": {
        "colab": {
          "base_uri": "https://localhost:8080/"
        },
        "id": "cGFMo0X-zXeB",
        "outputId": "7fdc4988-821b-4fa0-9297-ba3fbf03181b"
      },
      "execution_count": null,
      "outputs": [
        {
          "output_type": "execute_result",
          "data": {
            "text/plain": [
              "array([[ 1001, 15420,   720],\n",
              "       [ 1002,  8430,   655],\n",
              "       [ 1003, 19350,   810],\n",
              "       [ 1004,  5620,   540]])"
            ]
          },
          "metadata": {},
          "execution_count": 16
        }
      ]
    },
    {
      "cell_type": "code",
      "source": [
        "# Q3.5: Extract rows 3 to 7 (inclusive)\n",
        "\n",
        "customer_data[3:7]"
      ],
      "metadata": {
        "colab": {
          "base_uri": "https://localhost:8080/"
        },
        "id": "Amf9PQyuzXV1",
        "outputId": "3a1a9409-8635-4cea-a08c-26ebcad5d159"
      },
      "execution_count": null,
      "outputs": [
        {
          "output_type": "execute_result",
          "data": {
            "text/plain": [
              "array([[ 1004,  5620,   540,     7,     3],\n",
              "       [ 1005, 12800,   690,    20,     6],\n",
              "       [ 1006,  9750,   450,    15,     4],\n",
              "       [ 1007, 17500,   780,    35,    12]])"
            ]
          },
          "metadata": {},
          "execution_count": 17
        }
      ]
    },
    {
      "cell_type": "markdown",
      "source": [
        "Question 4: Mathematical Operations"
      ],
      "metadata": {
        "id": "ZWVaPuV03hyJ"
      }
    },
    {
      "cell_type": "code",
      "source": [
        "# Q4.1: Calculate the sum of all account balances\n",
        "total_balances=customer_data[:,1]\n",
        "print(total_balances)"
      ],
      "metadata": {
        "id": "V68JC2ss3ovk",
        "colab": {
          "base_uri": "https://localhost:8080/"
        },
        "outputId": "4faedf02-885e-41a5-e6db-f9c0bca61635"
      },
      "execution_count": null,
      "outputs": [
        {
          "output_type": "stream",
          "name": "stdout",
          "text": [
            "[15420  8430 19350  5620 12800  9750 17500  4200 16000 11000]\n"
          ]
        }
      ]
    },
    {
      "cell_type": "code",
      "source": [
        "# Q4.2: Calculate the mean account balance\n",
        "np.mean(customer_data[:,1])"
      ],
      "metadata": {
        "colab": {
          "base_uri": "https://localhost:8080/"
        },
        "id": "2ThIG8u14C0F",
        "outputId": "3c35ba37-9130-4973-f68c-81b043630e38"
      },
      "execution_count": null,
      "outputs": [
        {
          "output_type": "execute_result",
          "data": {
            "text/plain": [
              "np.float64(12007.0)"
            ]
          },
          "metadata": {},
          "execution_count": 19
        }
      ]
    },
    {
      "cell_type": "code",
      "source": [
        "# Q4.3: Calculate the standard deviation of account balances\n",
        "np.std(customer_data[:,1])"
      ],
      "metadata": {
        "colab": {
          "base_uri": "https://localhost:8080/"
        },
        "id": "W4i9hNan4C7L",
        "outputId": "cb2099f1-5255-4161-d820-96fdc0c8f3f9"
      },
      "execution_count": null,
      "outputs": [
        {
          "output_type": "execute_result",
          "data": {
            "text/plain": [
              "np.float64(4826.595176726551)"
            ]
          },
          "metadata": {},
          "execution_count": 20
        }
      ]
    },
    {
      "cell_type": "code",
      "source": [
        "# Q4.4: Calculate the variance of account balances\n",
        "np.var(customer_data[:,1])"
      ],
      "metadata": {
        "colab": {
          "base_uri": "https://localhost:8080/"
        },
        "id": "iGt_Pqmw4L0m",
        "outputId": "1079f2f8-d7d6-424d-fcd7-7c44f690a31a"
      },
      "execution_count": null,
      "outputs": [
        {
          "output_type": "execute_result",
          "data": {
            "text/plain": [
              "np.float64(23296021.0)"
            ]
          },
          "metadata": {},
          "execution_count": 21
        }
      ]
    },
    {
      "cell_type": "code",
      "source": [
        "# Q4.5: Calculate the median account balance\n",
        "np.median(customer_data[:,1])"
      ],
      "metadata": {
        "colab": {
          "base_uri": "https://localhost:8080/"
        },
        "id": "Vm0uY4IE4LnL",
        "outputId": "a7401005-dc2a-4c3f-8acd-5bc1e06cfd7f"
      },
      "execution_count": null,
      "outputs": [
        {
          "output_type": "execute_result",
          "data": {
            "text/plain": [
              "np.float64(11900.0)"
            ]
          },
          "metadata": {},
          "execution_count": 22
        }
      ]
    },
    {
      "cell_type": "markdown",
      "source": [
        "Question 5: Statistical Functions\n",
        "\n",
        "\n",
        "\n",
        "\n",
        "\n"
      ],
      "metadata": {
        "id": "W7riEY5F4Nh3"
      }
    },
    {
      "cell_type": "code",
      "source": [
        "#  Q5.1: Find the minimum and maximum account balances -->\n",
        "min_balance=np.min(customer_data[:,1])\n",
        "max_balance=np.max(customer_data[:,1])\n",
        "print(min_balance)\n",
        "print(max_balance)"
      ],
      "metadata": {
        "colab": {
          "base_uri": "https://localhost:8080/"
        },
        "id": "VwU3O8dK4LeK",
        "outputId": "1d062591-0165-484e-a55e-501f60194130"
      },
      "execution_count": null,
      "outputs": [
        {
          "output_type": "stream",
          "name": "stdout",
          "text": [
            "4200\n",
            "19350\n"
          ]
        }
      ]
    },
    {
      "cell_type": "code",
      "source": [
        "# Q5.2: Find the minimum and maximum credit scores\n",
        "min_scores=np.min(customer_data[:,2])\n",
        "max_scores=np.max(customer_data[:,2])\n",
        "print(min_scores)\n",
        "print(max_scores)"
      ],
      "metadata": {
        "colab": {
          "base_uri": "https://localhost:8080/"
        },
        "id": "fCf08HfO5NA5",
        "outputId": "33b2fe75-e703-4031-fe23-9b4120a4ab90"
      },
      "execution_count": null,
      "outputs": [
        {
          "output_type": "stream",
          "name": "stdout",
          "text": [
            "450\n",
            "810\n"
          ]
        }
      ]
    },
    {
      "cell_type": "code",
      "source": [
        "# Q5.3: Calculate the percentile values for account balances (25th, 50th, 75th)\n",
        "percentiles_balance=np.percentile(customer_data[:,1],[25,50,75])\n",
        "print(f\"25th percentile: ${percentiles_balance[0]}\")\n",
        "print(f\"50th percentile: ${percentiles_balance[1]}\")\n",
        "print(f\"75th percentile: ${percentiles_balance[2]}\")"
      ],
      "metadata": {
        "colab": {
          "base_uri": "https://localhost:8080/"
        },
        "id": "j3yCaSHB5OBw",
        "outputId": "476f58ea-d776-4663-9b15-18fae5694e2b"
      },
      "execution_count": null,
      "outputs": [
        {
          "output_type": "stream",
          "name": "stdout",
          "text": [
            "25th percentile: $8760.0\n",
            "50th percentile: $11900.0\n",
            "75th percentile: $15855.0\n"
          ]
        }
      ]
    },
    {
      "cell_type": "code",
      "source": [
        "# Q5.4: Calculate the correlation between account balance and credit score\n",
        "correlation_value=np.corrcoef(customer_data[:,1],customer_data[:,2])[0,1]\n",
        "print(correlation_value)"
      ],
      "metadata": {
        "colab": {
          "base_uri": "https://localhost:8080/"
        },
        "id": "euXGdn945Nzv",
        "outputId": "f86421ab-1c90-4199-b0bb-e980c6110390"
      },
      "execution_count": null,
      "outputs": [
        {
          "output_type": "stream",
          "name": "stdout",
          "text": [
            "0.7365847625781543\n"
          ]
        }
      ]
    },
    {
      "cell_type": "code",
      "source": [
        "# Q5.5: Calculate the covariance between account balance and credit score\n",
        "covariance_value=np.cov(customer_data[:,1],customer_data[:,2])[0,1]\n",
        "print(covariance_value)"
      ],
      "metadata": {
        "colab": {
          "base_uri": "https://localhost:8080/"
        },
        "id": "zP6qTj195Nlx",
        "outputId": "47553fe1-1de9-4dca-be98-14ccecd8029c"
      },
      "execution_count": null,
      "outputs": [
        {
          "output_type": "stream",
          "name": "stdout",
          "text": [
            "453161.6666666666\n"
          ]
        }
      ]
    },
    {
      "cell_type": "markdown",
      "source": [
        "Question 6: Array Reshaping and Manipulation\n"
      ],
      "metadata": {
        "id": "IN7AnQrb-G7g"
      }
    },
    {
      "cell_type": "code",
      "source": [
        "# Q6.1: Reshape the banking_data to 5 rows × 10 columns\n",
        "reshaped=customer_data.reshape((5,10))\n",
        "print(reshaped)"
      ],
      "metadata": {
        "colab": {
          "base_uri": "https://localhost:8080/"
        },
        "id": "ndzUvsRm-J_F",
        "outputId": "419c4c32-124b-400c-eb2c-d979bbd51198"
      },
      "execution_count": null,
      "outputs": [
        {
          "output_type": "stream",
          "name": "stdout",
          "text": [
            "[[ 1001 15420   720    25     8  1002  8430   655    12     5]\n",
            " [ 1003 19350   810    40    15  1004  5620   540     7     3]\n",
            " [ 1005 12800   690    20     6  1006  9750   450    15     4]\n",
            " [ 1007 17500   780    35    12  1008  4200   610     9     2]\n",
            " [ 1009 16000   730    28     9  1010 11000   500    18     7]]\n"
          ]
        }
      ]
    },
    {
      "cell_type": "code",
      "source": [
        "# Q6.2: Flatten the banking_data to a 1D array\n",
        "customer_data.flatten()"
      ],
      "metadata": {
        "id": "7wPseXt3-J5a",
        "colab": {
          "base_uri": "https://localhost:8080/"
        },
        "outputId": "ff34aa2a-b37d-4abd-9fb0-4d9c99a33f39"
      },
      "execution_count": null,
      "outputs": [
        {
          "output_type": "execute_result",
          "data": {
            "text/plain": [
              "array([ 1001, 15420,   720,    25,     8,  1002,  8430,   655,    12,\n",
              "           5,  1003, 19350,   810,    40,    15,  1004,  5620,   540,\n",
              "           7,     3,  1005, 12800,   690,    20,     6,  1006,  9750,\n",
              "         450,    15,     4,  1007, 17500,   780,    35,    12,  1008,\n",
              "        4200,   610,     9,     2,  1009, 16000,   730,    28,     9,\n",
              "        1010, 11000,   500,    18,     7])"
            ]
          },
          "metadata": {},
          "execution_count": 29
        }
      ]
    },
    {
      "cell_type": "code",
      "source": [
        "# Q6.3: Transpose the banking_data\n",
        "transpose_matrix=customer_data.T\n",
        "print(transpose_matrix)"
      ],
      "metadata": {
        "id": "wLQwyjdt-J14",
        "colab": {
          "base_uri": "https://localhost:8080/"
        },
        "outputId": "ad0a9ad5-748b-4469-ac47-002ea9ed86ae"
      },
      "execution_count": null,
      "outputs": [
        {
          "output_type": "stream",
          "name": "stdout",
          "text": [
            "[[ 1001  1002  1003  1004  1005  1006  1007  1008  1009  1010]\n",
            " [15420  8430 19350  5620 12800  9750 17500  4200 16000 11000]\n",
            " [  720   655   810   540   690   450   780   610   730   500]\n",
            " [   25    12    40     7    20    15    35     9    28    18]\n",
            " [    8     5    15     3     6     4    12     2     9     7]]\n"
          ]
        }
      ]
    },
    {
      "cell_type": "code",
      "source": [
        "# Q6.4: Split the banking_data into 2 equal parts vertically\n",
        "split_vertically=np.vsplit(customer_data,2)\n",
        "print(split_vertically[0])\n",
        "print( )\n",
        "print(split_vertically[1])"
      ],
      "metadata": {
        "id": "-nkaOtj--Jzm",
        "colab": {
          "base_uri": "https://localhost:8080/"
        },
        "outputId": "1217ddc7-555c-4a76-8978-4d81d9e9371b"
      },
      "execution_count": null,
      "outputs": [
        {
          "output_type": "stream",
          "name": "stdout",
          "text": [
            "[[ 1001 15420   720    25     8]\n",
            " [ 1002  8430   655    12     5]\n",
            " [ 1003 19350   810    40    15]\n",
            " [ 1004  5620   540     7     3]\n",
            " [ 1005 12800   690    20     6]]\n",
            "\n",
            "[[ 1006  9750   450    15     4]\n",
            " [ 1007 17500   780    35    12]\n",
            " [ 1008  4200   610     9     2]\n",
            " [ 1009 16000   730    28     9]\n",
            " [ 1010 11000   500    18     7]]\n"
          ]
        }
      ]
    },
    {
      "cell_type": "code",
      "source": [
        "# Q6.5: Split the banking_data into 2 equal parts horizontally\n",
        "split_horizontally=np.hsplit(customer_data,2)\n",
        "print(split_horizontally[0])\n",
        "print( )\n",
        "print(split_horizontally[1])"
      ],
      "metadata": {
        "id": "GIyh9bz4-Wvj",
        "colab": {
          "base_uri": "https://localhost:8080/",
          "height": 391
        },
        "outputId": "e19de27b-5b36-450a-e839-2a9bc29ee4cc"
      },
      "execution_count": null,
      "outputs": [
        {
          "output_type": "error",
          "ename": "ValueError",
          "evalue": "array split does not result in an equal division",
          "traceback": [
            "\u001b[0;31m---------------------------------------------------------------------------\u001b[0m",
            "\u001b[0;31mValueError\u001b[0m                                Traceback (most recent call last)",
            "\u001b[0;32m/tmp/ipython-input-431174166.py\u001b[0m in \u001b[0;36m<cell line: 0>\u001b[0;34m()\u001b[0m\n\u001b[1;32m      1\u001b[0m \u001b[0;31m# Q6.5: Split the banking_data into 2 equal parts horizontally\u001b[0m\u001b[0;34m\u001b[0m\u001b[0;34m\u001b[0m\u001b[0m\n\u001b[0;32m----> 2\u001b[0;31m \u001b[0msplit_horizontally\u001b[0m\u001b[0;34m=\u001b[0m\u001b[0mnp\u001b[0m\u001b[0;34m.\u001b[0m\u001b[0mhsplit\u001b[0m\u001b[0;34m(\u001b[0m\u001b[0mcustomer_data\u001b[0m\u001b[0;34m,\u001b[0m\u001b[0;36m2\u001b[0m\u001b[0;34m)\u001b[0m\u001b[0;34m\u001b[0m\u001b[0;34m\u001b[0m\u001b[0m\n\u001b[0m\u001b[1;32m      3\u001b[0m \u001b[0mprint\u001b[0m\u001b[0;34m(\u001b[0m\u001b[0msplit_horizontally\u001b[0m\u001b[0;34m[\u001b[0m\u001b[0;36m0\u001b[0m\u001b[0;34m]\u001b[0m\u001b[0;34m)\u001b[0m\u001b[0;34m\u001b[0m\u001b[0;34m\u001b[0m\u001b[0m\n\u001b[1;32m      4\u001b[0m \u001b[0mprint\u001b[0m\u001b[0;34m(\u001b[0m \u001b[0;34m)\u001b[0m\u001b[0;34m\u001b[0m\u001b[0;34m\u001b[0m\u001b[0m\n\u001b[1;32m      5\u001b[0m \u001b[0mprint\u001b[0m\u001b[0;34m(\u001b[0m\u001b[0msplit_horizontally\u001b[0m\u001b[0;34m[\u001b[0m\u001b[0;36m1\u001b[0m\u001b[0;34m]\u001b[0m\u001b[0;34m)\u001b[0m\u001b[0;34m\u001b[0m\u001b[0;34m\u001b[0m\u001b[0m\n",
            "\u001b[0;32m/usr/local/lib/python3.11/dist-packages/numpy/lib/_shape_base_impl.py\u001b[0m in \u001b[0;36mhsplit\u001b[0;34m(ary, indices_or_sections)\u001b[0m\n\u001b[1;32m    946\u001b[0m         \u001b[0;32mraise\u001b[0m \u001b[0mValueError\u001b[0m\u001b[0;34m(\u001b[0m\u001b[0;34m'hsplit only works on arrays of 1 or more dimensions'\u001b[0m\u001b[0;34m)\u001b[0m\u001b[0;34m\u001b[0m\u001b[0;34m\u001b[0m\u001b[0m\n\u001b[1;32m    947\u001b[0m     \u001b[0;32mif\u001b[0m \u001b[0mary\u001b[0m\u001b[0;34m.\u001b[0m\u001b[0mndim\u001b[0m \u001b[0;34m>\u001b[0m \u001b[0;36m1\u001b[0m\u001b[0;34m:\u001b[0m\u001b[0;34m\u001b[0m\u001b[0;34m\u001b[0m\u001b[0m\n\u001b[0;32m--> 948\u001b[0;31m         \u001b[0;32mreturn\u001b[0m \u001b[0msplit\u001b[0m\u001b[0;34m(\u001b[0m\u001b[0mary\u001b[0m\u001b[0;34m,\u001b[0m \u001b[0mindices_or_sections\u001b[0m\u001b[0;34m,\u001b[0m \u001b[0;36m1\u001b[0m\u001b[0;34m)\u001b[0m\u001b[0;34m\u001b[0m\u001b[0;34m\u001b[0m\u001b[0m\n\u001b[0m\u001b[1;32m    949\u001b[0m     \u001b[0;32melse\u001b[0m\u001b[0;34m:\u001b[0m\u001b[0;34m\u001b[0m\u001b[0;34m\u001b[0m\u001b[0m\n\u001b[1;32m    950\u001b[0m         \u001b[0;32mreturn\u001b[0m \u001b[0msplit\u001b[0m\u001b[0;34m(\u001b[0m\u001b[0mary\u001b[0m\u001b[0;34m,\u001b[0m \u001b[0mindices_or_sections\u001b[0m\u001b[0;34m,\u001b[0m \u001b[0;36m0\u001b[0m\u001b[0;34m)\u001b[0m\u001b[0;34m\u001b[0m\u001b[0;34m\u001b[0m\u001b[0m\n",
            "\u001b[0;32m/usr/local/lib/python3.11/dist-packages/numpy/lib/_shape_base_impl.py\u001b[0m in \u001b[0;36msplit\u001b[0;34m(ary, indices_or_sections, axis)\u001b[0m\n\u001b[1;32m    872\u001b[0m         \u001b[0mN\u001b[0m \u001b[0;34m=\u001b[0m \u001b[0mary\u001b[0m\u001b[0;34m.\u001b[0m\u001b[0mshape\u001b[0m\u001b[0;34m[\u001b[0m\u001b[0maxis\u001b[0m\u001b[0;34m]\u001b[0m\u001b[0;34m\u001b[0m\u001b[0;34m\u001b[0m\u001b[0m\n\u001b[1;32m    873\u001b[0m         \u001b[0;32mif\u001b[0m \u001b[0mN\u001b[0m \u001b[0;34m%\u001b[0m \u001b[0msections\u001b[0m\u001b[0;34m:\u001b[0m\u001b[0;34m\u001b[0m\u001b[0;34m\u001b[0m\u001b[0m\n\u001b[0;32m--> 874\u001b[0;31m             raise ValueError(\n\u001b[0m\u001b[1;32m    875\u001b[0m                 'array split does not result in an equal division') from None\n\u001b[1;32m    876\u001b[0m     \u001b[0;32mreturn\u001b[0m \u001b[0marray_split\u001b[0m\u001b[0;34m(\u001b[0m\u001b[0mary\u001b[0m\u001b[0;34m,\u001b[0m \u001b[0mindices_or_sections\u001b[0m\u001b[0;34m,\u001b[0m \u001b[0maxis\u001b[0m\u001b[0;34m)\u001b[0m\u001b[0;34m\u001b[0m\u001b[0;34m\u001b[0m\u001b[0m\n",
            "\u001b[0;31mValueError\u001b[0m: array split does not result in an equal division"
          ]
        }
      ]
    },
    {
      "cell_type": "markdown",
      "source": [
        "Question 7: Logical Operations and Filtering\n"
      ],
      "metadata": {
        "id": "RsXAIfLAAIpm"
      }
    },
    {
      "cell_type": "code",
      "source": [
        "# Q7.1: Find customers with account balance greater than $100,000\n",
        "\n",
        "balance_greater_100000=customer_data[customer_data[:,1]>100000]\n",
        "print(balance_greater_100000)"
      ],
      "metadata": {
        "colab": {
          "base_uri": "https://localhost:8080/"
        },
        "id": "2RngDxzoAJ4l",
        "outputId": "689aabf0-10eb-4920-9c4b-b3f030360f11"
      },
      "execution_count": null,
      "outputs": [
        {
          "output_type": "stream",
          "name": "stdout",
          "text": [
            "[]\n"
          ]
        }
      ]
    },
    {
      "cell_type": "code",
      "source": [
        "# Q7.2: Find customers with credit score greater than 800\n",
        "\n",
        "high_credit_customers=customer_data[customer_data[:,2]>800]\n",
        "print(high_credit_customers )"
      ],
      "metadata": {
        "colab": {
          "base_uri": "https://localhost:8080/"
        },
        "id": "bOp3DFxSAOW6",
        "outputId": "da6d4aa1-f6ca-48da-f1cc-784bd1fb166d"
      },
      "execution_count": null,
      "outputs": [
        {
          "output_type": "stream",
          "name": "stdout",
          "text": [
            "[[ 1003 19350   810    40    15]]\n"
          ]
        }
      ]
    },
    {
      "cell_type": "code",
      "source": [
        "# Q7.3: Find customers with transaction count greater than 50 AND credit score less than 750\n",
        "\n",
        "h=customer_data[(customer_data[:,3]>50) & (customer_data[:,2]<750)]\n",
        "print(h)"
      ],
      "metadata": {
        "colab": {
          "base_uri": "https://localhost:8080/"
        },
        "id": "VOfwBp3tAORk",
        "outputId": "7e4654eb-1724-4e56-e746-f678e7deaf26"
      },
      "execution_count": null,
      "outputs": [
        {
          "output_type": "stream",
          "name": "stdout",
          "text": [
            "[]\n"
          ]
        }
      ]
    },
    {
      "cell_type": "code",
      "source": [
        "# Q7.4: Count how many customers have account balance between $10,000 and $100,000\n",
        "d=customer_data[(customer_data[:,1]>10000) & (customer_data[:,1]<100000)]\n",
        "\n",
        "print(d)"
      ],
      "metadata": {
        "colab": {
          "base_uri": "https://localhost:8080/"
        },
        "id": "J3wI_q3wAON9",
        "outputId": "01fd527c-bac5-4242-d6bd-7911bede747c"
      },
      "execution_count": null,
      "outputs": [
        {
          "output_type": "stream",
          "name": "stdout",
          "text": [
            "[[ 1001 15420   720    25     8]\n",
            " [ 1003 19350   810    40    15]\n",
            " [ 1005 12800   690    20     6]\n",
            " [ 1007 17500   780    35    12]\n",
            " [ 1009 16000   730    28     9]\n",
            " [ 1010 11000   500    18     7]]\n"
          ]
        }
      ]
    },
    {
      "cell_type": "code",
      "source": [
        "# Q7.5: Find the index of the customer with the highest credit score\n",
        "print(customer_data[:,2].argsort()[-1])\n"
      ],
      "metadata": {
        "colab": {
          "base_uri": "https://localhost:8080/"
        },
        "id": "vfQQItdvAOLG",
        "outputId": "40492147-a70a-433b-c0e1-717097717e8f"
      },
      "execution_count": null,
      "outputs": [
        {
          "output_type": "stream",
          "name": "stdout",
          "text": [
            "2\n"
          ]
        }
      ]
    },
    {
      "cell_type": "markdown",
      "source": [
        "Question 8: Sorting and Searching\n"
      ],
      "metadata": {
        "id": "NGvwpzlKDFJg"
      }
    },
    {
      "cell_type": "code",
      "source": [
        "# Q8.1: Sort the banking_data by account balance (ascending)\n",
        "\n",
        "acending_order_balance=customer_data[customer_data[:,1].argsort()]\n",
        "print(acending_order_balance)\n"
      ],
      "metadata": {
        "colab": {
          "base_uri": "https://localhost:8080/"
        },
        "id": "8AfXrjeDAOId",
        "outputId": "024df991-c4a4-48c2-e016-97c6b904d201"
      },
      "execution_count": null,
      "outputs": [
        {
          "output_type": "stream",
          "name": "stdout",
          "text": [
            "[[ 1008  4200   610     9     2]\n",
            " [ 1004  5620   540     7     3]\n",
            " [ 1002  8430   655    12     5]\n",
            " [ 1006  9750   450    15     4]\n",
            " [ 1010 11000   500    18     7]\n",
            " [ 1005 12800   690    20     6]\n",
            " [ 1001 15420   720    25     8]\n",
            " [ 1009 16000   730    28     9]\n",
            " [ 1007 17500   780    35    12]\n",
            " [ 1003 19350   810    40    15]]\n"
          ]
        }
      ]
    },
    {
      "cell_type": "code",
      "source": [
        "# Q8.2: Sort the banking_data by credit score (descending)\n",
        "descending_order_score=customer_data[customer_data[:,2].argsort()]\n",
        "print(descending_order_score)"
      ],
      "metadata": {
        "colab": {
          "base_uri": "https://localhost:8080/"
        },
        "id": "Rpfqnn50DVfG",
        "outputId": "cb463a07-7e8b-4e00-9c40-2d6fd8c31dde"
      },
      "execution_count": null,
      "outputs": [
        {
          "output_type": "stream",
          "name": "stdout",
          "text": [
            "[[ 1006  9750   450    15     4]\n",
            " [ 1010 11000   500    18     7]\n",
            " [ 1004  5620   540     7     3]\n",
            " [ 1008  4200   610     9     2]\n",
            " [ 1002  8430   655    12     5]\n",
            " [ 1005 12800   690    20     6]\n",
            " [ 1001 15420   720    25     8]\n",
            " [ 1009 16000   730    28     9]\n",
            " [ 1007 17500   780    35    12]\n",
            " [ 1003 19350   810    40    15]]\n"
          ]
        }
      ]
    },
    {
      "cell_type": "code",
      "source": [
        "# Q8.3: Find the indices that would sort the array by years active\n",
        "customer_data[:,4].argsort()"
      ],
      "metadata": {
        "colab": {
          "base_uri": "https://localhost:8080/"
        },
        "id": "qYCaDxsYDVQq",
        "outputId": "b77d380c-ce3b-4a2f-aa38-30d5d7ee4a18"
      },
      "execution_count": null,
      "outputs": [
        {
          "output_type": "execute_result",
          "data": {
            "text/plain": [
              "array([7, 3, 5, 1, 4, 9, 0, 8, 6, 2])"
            ]
          },
          "metadata": {},
          "execution_count": 40
        }
      ]
    },
    {
      "cell_type": "code",
      "source": [
        "# Q8.4: Find the customer with the second highest account balance\n",
        "customer_data[customer_data[:,1].argsort()[-2]]"
      ],
      "metadata": {
        "colab": {
          "base_uri": "https://localhost:8080/"
        },
        "id": "PRJUCh05DVCW",
        "outputId": "385bbb43-8be9-4b07-da87-d7c0f54e2368"
      },
      "execution_count": null,
      "outputs": [
        {
          "output_type": "execute_result",
          "data": {
            "text/plain": [
              "array([ 1007, 17500,   780,    35,    12])"
            ]
          },
          "metadata": {},
          "execution_count": 41
        }
      ]
    },
    {
      "cell_type": "code",
      "source": [
        "# Q8.5: Find the customer with the lowest transaction count\n",
        "lowest=customer_data[customer_data[:,3].argsort()[0]]\n",
        "print(lowest)"
      ],
      "metadata": {
        "colab": {
          "base_uri": "https://localhost:8080/"
        },
        "id": "HUFLrfawDUxc",
        "outputId": "496ab87b-1882-4b9d-ff08-3cc66965eec0"
      },
      "execution_count": null,
      "outputs": [
        {
          "output_type": "stream",
          "name": "stdout",
          "text": [
            "[1004 5620  540    7    3]\n"
          ]
        }
      ]
    },
    {
      "cell_type": "markdown",
      "source": [
        "Question 9: Mathematical Functions\n"
      ],
      "metadata": {
        "id": "OupckXv1GA_v"
      }
    },
    {
      "cell_type": "code",
      "source": [
        "# Q9.1: Calculate the absolute values of all elements\n",
        "abs_values = np.abs(customer_data)\n",
        "print(\"Q9.1 Absolute values:\\n\", abs_values)"
      ],
      "metadata": {
        "colab": {
          "base_uri": "https://localhost:8080/"
        },
        "id": "My8OSfznGCOt",
        "outputId": "f7d954a4-a5d0-4720-e0d4-31de2faf7b73"
      },
      "execution_count": null,
      "outputs": [
        {
          "output_type": "stream",
          "name": "stdout",
          "text": [
            "Q9.1 Absolute values:\n",
            " [[ 1001 15420   720    25     8]\n",
            " [ 1002  8430   655    12     5]\n",
            " [ 1003 19350   810    40    15]\n",
            " [ 1004  5620   540     7     3]\n",
            " [ 1005 12800   690    20     6]\n",
            " [ 1006  9750   450    15     4]\n",
            " [ 1007 17500   780    35    12]\n",
            " [ 1008  4200   610     9     2]\n",
            " [ 1009 16000   730    28     9]\n",
            " [ 1010 11000   500    18     7]]\n"
          ]
        }
      ]
    },
    {
      "cell_type": "code",
      "source": [
        "# Q9.2: Calculate the square root of all account balances\n",
        "sqrt_balance = np.sqrt(customer_data[:, 1])\n",
        "print(\"\\nQ9.2 Square root of Account Balances:\\n\", sqrt_balance)\n"
      ],
      "metadata": {
        "colab": {
          "base_uri": "https://localhost:8080/"
        },
        "id": "NSVYMA53GWrj",
        "outputId": "9ba02b04-7da5-49db-8ea1-7e023abca0b8"
      },
      "execution_count": null,
      "outputs": [
        {
          "output_type": "stream",
          "name": "stdout",
          "text": [
            "\n",
            "Q9.2 Square root of Account Balances:\n",
            " [124.17729261  91.81503145 139.10427743  74.96665926 113.13708499\n",
            "  98.74208829 132.28756555  64.80740698 126.49110641 104.88088482]\n"
          ]
        }
      ]
    },
    {
      "cell_type": "code",
      "source": [
        "# Q9.3: Calculate the square of all credit scores\n",
        "square_credit = np.square(customer_data[:, 2])\n",
        "print(square_credit)"
      ],
      "metadata": {
        "colab": {
          "base_uri": "https://localhost:8080/"
        },
        "id": "WOxHT_LOGWn9",
        "outputId": "24203185-1123-4a31-9ecf-d0bb3f096616"
      },
      "execution_count": null,
      "outputs": [
        {
          "output_type": "stream",
          "name": "stdout",
          "text": [
            "[518400 429025 656100 291600 476100 202500 608400 372100 532900 250000]\n"
          ]
        }
      ]
    },
    {
      "cell_type": "code",
      "source": [
        "# Q9.4: Calculate the exponential of all transaction counts\n",
        "exp_transactions = np.exp(customer_data[:, 3])\n",
        "print(exp_transactions)"
      ],
      "metadata": {
        "colab": {
          "base_uri": "https://localhost:8080/"
        },
        "id": "ZDU7bNKTGWk_",
        "outputId": "4929ef01-d4d9-4a53-d4e8-7e1a092ba410"
      },
      "execution_count": null,
      "outputs": [
        {
          "output_type": "stream",
          "name": "stdout",
          "text": [
            "[7.20048993e+10 1.62754791e+05 2.35385267e+17 1.09663316e+03\n",
            " 4.85165195e+08 3.26901737e+06 1.58601345e+15 8.10308393e+03\n",
            " 1.44625706e+12 6.56599691e+07]\n"
          ]
        }
      ]
    },
    {
      "cell_type": "code",
      "source": [
        "# Q9.5: Calculate the natural logarithm of all account balances\n",
        "log_balance = np.log(customer_data[:, 1])\n",
        "print(log_balance)"
      ],
      "metadata": {
        "colab": {
          "base_uri": "https://localhost:8080/"
        },
        "id": "m0b36-QQGWiG",
        "outputId": "476fbc56-e56a-40f9-e47f-18c048c4238d"
      },
      "execution_count": null,
      "outputs": [
        {
          "output_type": "stream",
          "name": "stdout",
          "text": [
            "[9.64342065 9.03955205 9.8704477  8.63408694 9.45720045 9.18502256\n",
            " 9.76995616 8.3428398  9.680344   9.30565055]\n"
          ]
        }
      ]
    },
    {
      "cell_type": "markdown",
      "source": [
        "Question 10: Advanced Operations\n"
      ],
      "metadata": {
        "id": "pFSK-OwEHHZO"
      }
    },
    {
      "cell_type": "code",
      "source": [
        "# Q10.1: Calculate the cumulative sum of account balances\n",
        "account_balances = customer_data[:, 1]\n",
        "transaction_counts = customer_data[:, 3]\n",
        "\n",
        "cumsum_balances = np.cumsum(account_balances)\n",
        "print(cumsum_balances)"
      ],
      "metadata": {
        "colab": {
          "base_uri": "https://localhost:8080/"
        },
        "id": "DCa-q2ftGWXr",
        "outputId": "06578fe1-4d85-4df9-e65d-ac1ef7145199"
      },
      "execution_count": null,
      "outputs": [
        {
          "output_type": "stream",
          "name": "stdout",
          "text": [
            "[ 15420  23850  43200  48820  61620  71370  88870  93070 109070 120070]\n"
          ]
        }
      ]
    },
    {
      "cell_type": "code",
      "source": [
        "# Q10.2: Calculate the cumulative product of transaction counts\n",
        "cumprod_transactions = np.cumprod(transaction_counts)\n",
        "print(cumprod_transactions)\n"
      ],
      "metadata": {
        "colab": {
          "base_uri": "https://localhost:8080/"
        },
        "id": "9K9ZHwRLIP3c",
        "outputId": "54e30ec6-a99b-414e-e395-90957c6cbb77"
      },
      "execution_count": null,
      "outputs": [
        {
          "output_type": "stream",
          "name": "stdout",
          "text": [
            "[           25           300         12000         84000       1680000\n",
            "      25200000     882000000    7938000000  222264000000 4000752000000]\n"
          ]
        }
      ]
    },
    {
      "cell_type": "code",
      "source": [
        "# Q10.3: Calculate the difference between consecutive account balances\n",
        "diff_balances = np.diff(account_balances)\n",
        "print(diff_balances)"
      ],
      "metadata": {
        "colab": {
          "base_uri": "https://localhost:8080/"
        },
        "id": "Z8RGkTKKIP0B",
        "outputId": "c8612b4c-5e9f-450d-c0a6-5f96e933fc60"
      },
      "execution_count": null,
      "outputs": [
        {
          "output_type": "stream",
          "name": "stdout",
          "text": [
            "[ -6990  10920 -13730   7180  -3050   7750 -13300  11800  -5000]\n"
          ]
        }
      ]
    },
    {
      "cell_type": "code",
      "source": [
        "# Q10.4: Calculate the gradient of account balances\n",
        "gradient_balances = np.gradient(account_balances)\n",
        "print(gradient_balances)"
      ],
      "metadata": {
        "colab": {
          "base_uri": "https://localhost:8080/"
        },
        "id": "BzY6L0TLIPxw",
        "outputId": "6b6407af-dd06-4416-eff8-ad0165cbbf69"
      },
      "execution_count": null,
      "outputs": [
        {
          "output_type": "stream",
          "name": "stdout",
          "text": [
            "[-6990.  1965. -1405. -3275.  2065.  2350. -2775.  -750.  3400. -5000.]\n"
          ]
        }
      ]
    },
    {
      "cell_type": "code",
      "source": [
        "# Q10.5: Calculate the histogram of account balances with 5 bins\n",
        "\n",
        "hist_counts, bin_edges = np.histogram(account_balances, bins=5)\n",
        "print(hist_counts,bin_edges)"
      ],
      "metadata": {
        "colab": {
          "base_uri": "https://localhost:8080/"
        },
        "id": "-r14yvc1IPvb",
        "outputId": "fa11aa00-698e-49f7-c406-eff7c23f350a"
      },
      "execution_count": null,
      "outputs": [
        {
          "output_type": "stream",
          "name": "stdout",
          "text": [
            "[2 2 2 2 2] [ 4200.  7230. 10260. 13290. 16320. 19350.]\n"
          ]
        }
      ]
    },
    {
      "cell_type": "markdown",
      "source": [
        "Question 11: Random Numbers and Simulation\n"
      ],
      "metadata": {
        "id": "f8X1wnoRKO_v"
      }
    },
    {
      "cell_type": "code",
      "source": [
        "# Q11.1: Generate 6 random integers between 1 and 1000\n",
        "x=np.random.randint(1,1000,6)\n",
        "print(x)\n",
        "\n",
        "\n",
        "\n",
        "\n"
      ],
      "metadata": {
        "colab": {
          "base_uri": "https://localhost:8080/"
        },
        "id": "PhggL-8HIPsp",
        "outputId": "a8880c8d-998e-4684-9a91-7282474ed590"
      },
      "execution_count": null,
      "outputs": [
        {
          "output_type": "stream",
          "name": "stdout",
          "text": [
            "[ 23 306 685 896  76 162]\n"
          ]
        }
      ]
    },
    {
      "cell_type": "code",
      "source": [
        "# Q11.2: Generate 6 random floats between 0 and 1\n",
        "random_floats = np.random.rand(6)\n",
        "print( random_floats)\n"
      ],
      "metadata": {
        "colab": {
          "base_uri": "https://localhost:8080/"
        },
        "id": "QHBOJz9QIPqI",
        "outputId": "dcaea70f-c850-4531-990e-7143261af86b"
      },
      "execution_count": null,
      "outputs": [
        {
          "output_type": "stream",
          "name": "stdout",
          "text": [
            "[0.72189693 0.74399486 0.02033234 0.21781426 0.69702324 0.2347192 ]\n"
          ]
        }
      ]
    },
    {
      "cell_type": "code",
      "source": [
        "# Q11.3: Generate 6 random numbers from normal distribution (mean=700, std=100)\n",
        "random_normals = np.random.normal(loc=700, scale=100, size=6)\n",
        "print(random_normals)\n"
      ],
      "metadata": {
        "colab": {
          "base_uri": "https://localhost:8080/"
        },
        "id": "BFBkaW1tLCQz",
        "outputId": "60712a9d-e131-4473-db4a-42b22440dc1f"
      },
      "execution_count": null,
      "outputs": [
        {
          "output_type": "stream",
          "name": "stdout",
          "text": [
            "[812.59146085 786.83254304 662.1673312  648.3299112  594.90501044\n",
            " 585.58817365]\n"
          ]
        }
      ]
    },
    {
      "cell_type": "code",
      "source": [
        "# Q11.4: Shuffle the banking_data rows randomly\n",
        "np.random.seed(123)  # Fix seed\n",
        "np.random.shuffle(customer_data)\n",
        "print(customer_data)"
      ],
      "metadata": {
        "colab": {
          "base_uri": "https://localhost:8080/"
        },
        "id": "bMrG2l39MRke",
        "outputId": "8d1b49d3-e670-4199-b921-63b9f38323a5"
      },
      "execution_count": null,
      "outputs": [
        {
          "output_type": "stream",
          "name": "stdout",
          "text": [
            "[[ 1005 12800   690    20     6]\n",
            " [ 1001 15420   720    25     8]\n",
            " [ 1008  4200   610     9     2]\n",
            " [ 1006  9750   450    15     4]\n",
            " [ 1009 16000   730    28     9]\n",
            " [ 1004  5620   540     7     3]\n",
            " [ 1002  8430   655    12     5]\n",
            " [ 1007 17500   780    35    12]\n",
            " [ 1010 11000   500    18     7]\n",
            " [ 1003 19350   810    40    15]]\n"
          ]
        }
      ]
    },
    {
      "cell_type": "code",
      "source": [
        "# Q11.5: Set random seed to 123 and generate 4 random numbers\n",
        "\n",
        "# Set the random seed and If you remove the seed, you’ll get different numbers each time.\n",
        "np.random.seed(123)\n",
        "\n",
        "# Generate 4 random numbers between 0 and 1\n",
        "random_nums = np.random.rand(4)\n",
        "print(random_nums)\n"
      ],
      "metadata": {
        "colab": {
          "base_uri": "https://localhost:8080/"
        },
        "id": "oauvfVPtMRPw",
        "outputId": "a77dbe35-b200-4102-e481-78b594aa5255"
      },
      "execution_count": null,
      "outputs": [
        {
          "output_type": "stream",
          "name": "stdout",
          "text": [
            "[0.69646919 0.28613933 0.22685145 0.55131477]\n"
          ]
        }
      ]
    },
    {
      "cell_type": "markdown",
      "source": [
        "Question 12: Linear Algebra Operations\n"
      ],
      "metadata": {
        "id": "6ow2Ml4giezI"
      }
    },
    {
      "cell_type": "code",
      "source": [
        "# Q12.1: Calculate the dot product of account balance and credit score columns\n",
        "import numpy as np\n",
        "\n",
        "dot_product=np.dot(customer_data[:,1],customer_data[:,2])\n",
        "print(dot_product)"
      ],
      "metadata": {
        "colab": {
          "base_uri": "https://localhost:8080/"
        },
        "id": "zjPYh2dsiiRZ",
        "outputId": "1c56aa89-0da4-43e7-ae23-9281ea45ae33"
      },
      "execution_count": null,
      "outputs": [
        {
          "output_type": "stream",
          "name": "stdout",
          "text": [
            "81943850\n"
          ]
        }
      ]
    },
    {
      "cell_type": "code",
      "source": [
        "# Q12.2: Calculate the cross product of first two rows\n",
        "cross_product=np.cross(customer_data[:,1],customer_data[:,2])\n",
        "print(cross_product)\n"
      ],
      "metadata": {
        "id": "uU00r1obj8cb"
      },
      "execution_count": null,
      "outputs": []
    },
    {
      "cell_type": "code",
      "source": [
        "# Q12.3: Calculate the norm (magnitude) of the account balance column\n",
        "price_norm = np.linalg.norm(customer_data[:, 1])\n",
        "print(price_norm)"
      ],
      "metadata": {
        "colab": {
          "base_uri": "https://localhost:8080/"
        },
        "id": "Kd14uAkbkBof",
        "outputId": "323c08da-10ba-42dd-b53d-8710c1086855"
      },
      "execution_count": null,
      "outputs": [
        {
          "output_type": "stream",
          "name": "stdout",
          "text": [
            "40922.37407580357\n"
          ]
        }
      ]
    },
    {
      "cell_type": "code",
      "source": [
        "# Q12.4: Create a 3x3 matrix and calculate its determinant\n",
        "matrix_3x3 = np.array([[[2, 3], [1, 4]]])\n",
        "determinant = np.linalg.det(matrix_3x3)\n",
        "print(matrix_3x3)\n",
        "print(determinant)"
      ],
      "metadata": {
        "colab": {
          "base_uri": "https://localhost:8080/"
        },
        "id": "rpU9dEq-kBrH",
        "outputId": "7ce929b3-29d9-47eb-ae72-55ceafd42d78"
      },
      "execution_count": null,
      "outputs": [
        {
          "output_type": "stream",
          "name": "stdout",
          "text": [
            "[[[2 3]\n",
            "  [1 4]]]\n",
            "[5.]\n"
          ]
        }
      ]
    },
    {
      "cell_type": "code",
      "source": [
        "# Q12.5: Calculate the inverse of the 3x3 matrix\n",
        "inverse_matrix = np.linalg.inv(matrix_3x3)\n",
        "print(inverse_matrix)"
      ],
      "metadata": {
        "colab": {
          "base_uri": "https://localhost:8080/"
        },
        "id": "vNV9UQoikBt1",
        "outputId": "92e3368b-e292-4433-c9d0-62a1f3314a12"
      },
      "execution_count": null,
      "outputs": [
        {
          "output_type": "stream",
          "name": "stdout",
          "text": [
            "[[ 0.8 -0.6]\n",
            " [-0.2  0.4]]\n"
          ]
        }
      ]
    },
    {
      "cell_type": "markdown",
      "source": [
        " QUESTION 13: STRING OPERATIONS\n"
      ],
      "metadata": {
        "id": "-e_9NfXyl8bx"
      }
    },
    {
      "cell_type": "code",
      "source": [
        "# Q13.1: Convert all customer IDs to strings\n",
        "product_ids_str = customer_data[:, 0].astype(str)\n",
        "print(product_ids_str)"
      ],
      "metadata": {
        "colab": {
          "base_uri": "https://localhost:8080/"
        },
        "id": "LW5LBIk2kBwZ",
        "outputId": "96c29211-d9dd-440a-f606-916fc1c3fb98"
      },
      "execution_count": null,
      "outputs": [
        {
          "output_type": "stream",
          "name": "stdout",
          "text": [
            "['1005' '1001' '1008' '1006' '1009' '1004' '1002' '1007' '1010' '1003']\n"
          ]
        }
      ]
    },
    {
      "cell_type": "code",
      "source": [
        "# Q13.2: Check if any customer ID contains '100'\n",
        "contains_100 = np.char.find(product_ids_str, '100') >= 0\n",
        "print(contains_100)"
      ],
      "metadata": {
        "id": "by8uP145kBy9"
      },
      "execution_count": null,
      "outputs": []
    },
    {
      "cell_type": "code",
      "source": [
        "# Q13.3: Convert all customer IDs to uppercase (if they were strings)\n",
        "product_ids_upper = np.char.upper(product_ids_str)\n",
        "print(product_ids_upper)"
      ],
      "metadata": {
        "id": "S40xHA6jkB2O"
      },
      "execution_count": null,
      "outputs": []
    },
    {
      "cell_type": "code",
      "source": [
        "# Q13.4: Count the length of each customer ID string\n",
        "id_lengths = np.char.str_len(product_ids_str)\n",
        "print(id_lengths)"
      ],
      "metadata": {
        "colab": {
          "base_uri": "https://localhost:8080/"
        },
        "id": "0Jh_RP9MofI7",
        "outputId": "d844479e-3514-4ad8-dc8c-0884b6118ca6"
      },
      "execution_count": null,
      "outputs": [
        {
          "output_type": "stream",
          "name": "stdout",
          "text": [
            "[4 4 4 4 4 4 4 4 4 4]\n"
          ]
        }
      ]
    },
    {
      "cell_type": "code",
      "source": [
        "# Q13.5: Replace '100' with 'CUST' in customer IDs\n",
        "replaced_ids = np.char.replace(product_ids_str, '100', 'PROD')\n",
        "print(replaced_ids)"
      ],
      "metadata": {
        "colab": {
          "base_uri": "https://localhost:8080/"
        },
        "id": "IJysoZpuoe7N",
        "outputId": "74adf341-c2b1-4d76-f686-e94059d9dbce"
      },
      "execution_count": null,
      "outputs": [
        {
          "output_type": "stream",
          "name": "stdout",
          "text": [
            "['PROD5' 'PROD1' 'PROD8' 'PROD6' 'PROD9' 'PROD4' 'PROD2' 'PROD7' '1010'\n",
            " 'PROD3']\n"
          ]
        }
      ]
    },
    {
      "cell_type": "markdown",
      "source": [
        "# QUESTION 14: DATE AND TIME OPERATIONS\n"
      ],
      "metadata": {
        "id": "-XQpvxdgo87N"
      }
    },
    {
      "cell_type": "code",
      "source": [
        "# Q14.1: Convert years active to months\n",
        "\n",
        "conver_months=customer_data[:,4]*12\n",
        "print(conver_months)"
      ],
      "metadata": {
        "id": "Vw4oWRQVpEw0",
        "colab": {
          "base_uri": "https://localhost:8080/"
        },
        "outputId": "ef503f36-6cf5-41ef-8516-b4893c354569"
      },
      "execution_count": null,
      "outputs": [
        {
          "output_type": "stream",
          "name": "stdout",
          "text": [
            "[ 96  60 180  36  72  48 144  24 108  84]\n"
          ]
        }
      ]
    },
    {
      "cell_type": "code",
      "source": [
        "# Q14.2: Calculate the average years active\n",
        "\n",
        "average_active=np.mean(customer_data[:,4])\n",
        "print(average_active)"
      ],
      "metadata": {
        "colab": {
          "base_uri": "https://localhost:8080/"
        },
        "id": "Bdw2S0ut-OHb",
        "outputId": "d3a411a4-5b55-4405-c031-a30494f47496"
      },
      "execution_count": null,
      "outputs": [
        {
          "output_type": "stream",
          "name": "stdout",
          "text": [
            "7.1\n"
          ]
        }
      ]
    },
    {
      "cell_type": "code",
      "source": [
        "# Q14.3: Find customers who have been active for more than 5 years\n",
        "\n",
        "customer_data[customer_data[:,4]>5]"
      ],
      "metadata": {
        "colab": {
          "base_uri": "https://localhost:8080/"
        },
        "id": "9P4YQ764-duK",
        "outputId": "7e524b34-9672-4c87-da21-4d489291ef80"
      },
      "execution_count": null,
      "outputs": [
        {
          "output_type": "execute_result",
          "data": {
            "text/plain": [
              "array([[ 1001, 15420,   720,    25,     8],\n",
              "       [ 1003, 19350,   810,    40,    15],\n",
              "       [ 1005, 12800,   690,    20,     6],\n",
              "       [ 1007, 17500,   780,    35,    12],\n",
              "       [ 1009, 16000,   730,    28,     9],\n",
              "       [ 1010, 11000,   500,    18,     7]])"
            ]
          },
          "metadata": {},
          "execution_count": 7
        }
      ]
    },
    {
      "cell_type": "code",
      "source": [
        "# Q14.4: Calculate the total time all customers have been active (in years)\n",
        "\n",
        "np.sum(customer_data[:, 4])\n"
      ],
      "metadata": {
        "colab": {
          "base_uri": "https://localhost:8080/"
        },
        "id": "mQAPrhD3-3e3",
        "outputId": "0e6773c9-ba4e-4b20-ea34-327ec60a7628"
      },
      "execution_count": null,
      "outputs": [
        {
          "output_type": "execute_result",
          "data": {
            "text/plain": [
              "np.int64(71)"
            ]
          },
          "metadata": {},
          "execution_count": 8
        }
      ]
    },
    {
      "cell_type": "code",
      "source": [
        "# Q14.5: Find the customer with the shortest time active\n",
        "customer_data[customer_data[:,4].argmin()]\n"
      ],
      "metadata": {
        "colab": {
          "base_uri": "https://localhost:8080/"
        },
        "id": "g1Tk8h6Q_jbx",
        "outputId": "f755e733-fdea-4985-ff1d-256bc0f80c7c"
      },
      "execution_count": null,
      "outputs": [
        {
          "output_type": "execute_result",
          "data": {
            "text/plain": [
              "array([1008, 4200,  610,    9,    2])"
            ]
          },
          "metadata": {},
          "execution_count": 18
        }
      ]
    },
    {
      "cell_type": "markdown",
      "source": [
        "Question 15: Advanced Array Operations\n"
      ],
      "metadata": {
        "id": "o5fwzvESCbtM"
      }
    },
    {
      "cell_type": "code",
      "source": [
        "# Q15.1: Apply a function to calculate 5% interest on all account balances\n",
        "customers=customer_data[:, 1] * 1.05\n",
        "\n",
        "print(customers)"
      ],
      "metadata": {
        "colab": {
          "base_uri": "https://localhost:8080/"
        },
        "id": "bP-WzXTMCcyp",
        "outputId": "460f5be5-508c-4b25-fdd7-3898a13b7237"
      },
      "execution_count": null,
      "outputs": [
        {
          "output_type": "stream",
          "name": "stdout",
          "text": [
            "[16191.   8851.5 20317.5  5901.  13440.  10237.5 18375.   4410.  16800.\n",
            " 11550. ]\n"
          ]
        }
      ]
    },
    {
      "cell_type": "code",
      "source": [
        "# Q15.2: Use np.where to categorize customers by balance ranges\n",
        "\n",
        "# Categorize using np.where\n",
        "categories = np.where(\n",
        "    customer_data[:, 1] < 5000, \"Low\",\n",
        "    np.where(customer_data[:, 1] <= 7000, \"Medium\", \"High\")\n",
        ")\n",
        "\n",
        "print(categories)\n"
      ],
      "metadata": {
        "id": "xqps5K2zC5A9",
        "colab": {
          "base_uri": "https://localhost:8080/"
        },
        "outputId": "315281f3-4bb3-4a61-9638-b64a7d8b4247"
      },
      "execution_count": null,
      "outputs": [
        {
          "output_type": "stream",
          "name": "stdout",
          "text": [
            "['High' 'High' 'High' 'Medium' 'High' 'High' 'High' 'Low' 'High' 'High']\n"
          ]
        }
      ]
    },
    {
      "cell_type": "code",
      "source": [
        "# Q15.3: Use np.select to categorize customers by credit score ranges\n",
        "\n",
        "balances=customer_data[:,2]\n",
        "conditions = [\n",
        "    balances < 500,\n",
        "    (balances >= 500) & (balances <= 700),\n",
        "    balances > 700\n",
        "]\n",
        "\n",
        "# Define choices\n",
        "choices = [\"Low\", \"Medium\", \"High\"]\n",
        "\n",
        "# Apply np.select\n",
        "categories = np.select(conditions, choices, default=\"Unknown\")\n",
        "\n",
        "print(categories)"
      ],
      "metadata": {
        "colab": {
          "base_uri": "https://localhost:8080/"
        },
        "id": "cUH_HaGHGkcy",
        "outputId": "a35ccce1-fd26-40db-ee5c-c7a52bee6da6"
      },
      "execution_count": null,
      "outputs": [
        {
          "output_type": "stream",
          "name": "stdout",
          "text": [
            "['High' 'Medium' 'High' 'Medium' 'Medium' 'Low' 'High' 'Medium' 'High'\n",
            " 'Medium']\n"
          ]
        }
      ]
    },
    {
      "cell_type": "code",
      "source": [
        "# Q15.4: Use np.piecewise to apply different interest rates based on balance\n",
        "\n",
        "\n",
        "def low_price(x): return x * 0.9  # 10% interest rate\n",
        "def mid_price(x): return x * 1.0  # No change\n",
        "def high_price(x): return x * 1.1  # 10% markup\n",
        "\n",
        "discounted_prices = np.piecewise(\n",
        "    customer_data[:, 1],\n",
        "    [customer_data[:, 1] < 20, (customer_data[:, 1] >= 20) & (customer_data[:, 1] < 50), customer_data[:, 1] >= 50],\n",
        "    [low_price, mid_price, high_price]\n",
        ")\n",
        "print(discounted_prices)\n"
      ],
      "metadata": {
        "colab": {
          "base_uri": "https://localhost:8080/"
        },
        "id": "Mjx4zSBrIJWd",
        "outputId": "d8c73161-8ba9-4d72-c6fb-3dd24662bfda"
      },
      "execution_count": null,
      "outputs": [
        {
          "output_type": "stream",
          "name": "stdout",
          "text": [
            "[16962  9273 21285  6182 14080 10725 19250  4620 17600 12100]\n"
          ]
        }
      ]
    },
    {
      "cell_type": "code",
      "source": [
        "# Q15.5: Use np.apply_along_axis to calculate the sum of each row\n",
        "\n",
        "import numpy as np\n",
        "\n",
        "\n",
        "# Use np.apply_along_axis to calculate row sums\n",
        "row_sums = np.apply_along_axis(np.sum, axis=1, arr=customer_data)\n",
        "\n",
        "print(row_sums)\n"
      ],
      "metadata": {
        "colab": {
          "base_uri": "https://localhost:8080/"
        },
        "id": "gZKCHw5YMypf",
        "outputId": "1a9f415e-b423-466b-bb58-489dd58327e0"
      },
      "execution_count": null,
      "outputs": [
        {
          "output_type": "stream",
          "name": "stdout",
          "text": [
            "[17174 10104 21218  7174 14521 11225 19334  5829 17776 12535]\n"
          ]
        }
      ]
    },
    {
      "cell_type": "markdown",
      "source": [
        "Question 16: Array Concatenation and Stacking\n"
      ],
      "metadata": {
        "id": "vhf5d3hONqNg"
      }
    },
    {
      "cell_type": "code",
      "source": [
        "# Q16.1: Concatenate two arrays horizontally using np.hstack()\n",
        "import numpy as np\n",
        "\n",
        "a = np.array([[1, 2], [3, 4]])\n",
        "b = np.array([[5, 6], [7, 8]])\n",
        "\n",
        "result = np.hstack((a, b))\n",
        "print(result)\n"
      ],
      "metadata": {
        "colab": {
          "base_uri": "https://localhost:8080/"
        },
        "id": "8CJ1JKuqNy05",
        "outputId": "864f5ce2-f88c-4a66-e499-9c2b783304f3"
      },
      "execution_count": null,
      "outputs": [
        {
          "output_type": "stream",
          "name": "stdout",
          "text": [
            "[[1 2 5 6]\n",
            " [3 4 7 8]]\n"
          ]
        }
      ]
    },
    {
      "cell_type": "code",
      "source": [
        "# Q16.2: Concatenate two arrays vertically using np.vstack()\n",
        "import numpy as np\n",
        "\n",
        "a = np.array([[1, 2], [3, 4]])\n",
        "b = np.array([[5, 6], [7, 8]])\n",
        "\n",
        "result = np.vstack((a, b))\n",
        "print(result)\n"
      ],
      "metadata": {
        "colab": {
          "base_uri": "https://localhost:8080/"
        },
        "id": "oIJhjU7aNy3e",
        "outputId": "54bd576c-e5f1-45f1-cfbc-c85db5c1fc6b"
      },
      "execution_count": null,
      "outputs": [
        {
          "output_type": "stream",
          "name": "stdout",
          "text": [
            "[[1 2]\n",
            " [3 4]\n",
            " [5 6]\n",
            " [7 8]]\n"
          ]
        }
      ]
    },
    {
      "cell_type": "code",
      "source": [
        "# Q16.3: Concatenate arrays along a specific axis using np.concatenate()\n",
        "import numpy as np\n",
        "\n",
        "a = np.array([[1, 2], [3, 4]])\n",
        "b = np.array([[5, 6], [7, 8]])\n",
        "\n",
        "result = np.concatenate((a, b))\n",
        "print(result)"
      ],
      "metadata": {
        "colab": {
          "base_uri": "https://localhost:8080/"
        },
        "id": "mGv4gl1fNy59",
        "outputId": "4742b9bd-bd0e-4afc-c49f-3317e23c229c"
      },
      "execution_count": null,
      "outputs": [
        {
          "output_type": "stream",
          "name": "stdout",
          "text": [
            "[[1 2]\n",
            " [3 4]\n",
            " [5 6]\n",
            " [7 8]]\n"
          ]
        }
      ]
    },
    {
      "cell_type": "code",
      "source": [
        "# Q16.4: Stack arrays depth-wise using np.dstack()\n",
        "import numpy as np\n",
        "\n",
        "a = np.array([[1, 2], [3, 4]])\n",
        "b = np.array([[5, 6], [7, 8]])\n",
        "\n",
        "result = np.dstack((a, b))\n",
        "print(result)"
      ],
      "metadata": {
        "colab": {
          "base_uri": "https://localhost:8080/"
        },
        "id": "AF1Eqes_Ny9E",
        "outputId": "332993f0-48b9-4b4e-e0b1-05faf9d0d568"
      },
      "execution_count": null,
      "outputs": [
        {
          "output_type": "stream",
          "name": "stdout",
          "text": [
            "[[[1 5]\n",
            "  [2 6]]\n",
            "\n",
            " [[3 7]\n",
            "  [4 8]]]\n"
          ]
        }
      ]
    },
    {
      "cell_type": "code",
      "source": [
        "# Q16.5: Create a column stack using np.column_stack()\n",
        "import numpy as np\n",
        "\n",
        "a = np.array([[1, 2], [3, 4]])\n",
        "b = np.array([[5, 6], [7, 8]])\n",
        "\n",
        "result = np.column_stack((a, b))\n",
        "print(result)"
      ],
      "metadata": {
        "colab": {
          "base_uri": "https://localhost:8080/"
        },
        "id": "FrVIR-YyNy_Y",
        "outputId": "0da1ec91-5fa3-4b54-8dca-3aee63be10d1"
      },
      "execution_count": null,
      "outputs": [
        {
          "output_type": "stream",
          "name": "stdout",
          "text": [
            "[[1 2 5 6]\n",
            " [3 4 7 8]]\n"
          ]
        }
      ]
    },
    {
      "cell_type": "markdown",
      "source": [
        "Question 17: Array Splitting Operations\n"
      ],
      "metadata": {
        "id": "gy4-TVToPR06"
      }
    },
    {
      "cell_type": "code",
      "source": [
        "# Q17.1: Split an array into 3 equal parts using np.split()\n",
        "arr=np.random.randint(1,100,(3,3))\n",
        "np.split(arr,3)\n",
        "\n",
        "# Q17.3: Split an array horizontally using np.hsplit()\n",
        "\n",
        "# Q17.4: Split an array vertically using np.vsplit()\n",
        "\n",
        "\n"
      ],
      "metadata": {
        "colab": {
          "base_uri": "https://localhost:8080/"
        },
        "id": "2A3kBkIkNzB4",
        "outputId": "111fdf93-f9e1-4b6a-9390-291d11cb1c22"
      },
      "execution_count": null,
      "outputs": [
        {
          "output_type": "execute_result",
          "data": {
            "text/plain": [
              "[array([[22,  2, 19]]), array([[57,  7, 18]]), array([[58, 24, 52]])]"
            ]
          },
          "metadata": {},
          "execution_count": 38
        }
      ]
    },
    {
      "cell_type": "code",
      "source": [
        "# Q17.2: Split an array at specific indices using np.split()\n",
        "import numpy as np\n",
        "\n",
        "arr = np.array([10, 20, 30, 40, 50, 60, 70])\n",
        "\n",
        "# Split at indices 2 and 5\n",
        "result = np.split(arr, [1, 5])\n",
        "\n",
        "print(result)\n"
      ],
      "metadata": {
        "colab": {
          "base_uri": "https://localhost:8080/"
        },
        "id": "xd-KgdM1NzHf",
        "outputId": "b9113870-2302-42af-81ec-f6edd69fb40b"
      },
      "execution_count": null,
      "outputs": [
        {
          "output_type": "stream",
          "name": "stdout",
          "text": [
            "[array([10]), array([20, 30, 40, 50]), array([60, 70])]\n"
          ]
        }
      ]
    },
    {
      "cell_type": "code",
      "source": [
        "# Q17.3: Split an array horizontally using np.hsplit()\n",
        "arr=np.random.randint(1,100,(3,4))\n",
        "print(arr)\n",
        "np.hsplit(arr,2)"
      ],
      "metadata": {
        "colab": {
          "base_uri": "https://localhost:8080/"
        },
        "id": "RJxwDPOLNzLC",
        "outputId": "9b7216ad-070e-4160-e8ed-86d9e2d5df0c"
      },
      "execution_count": null,
      "outputs": [
        {
          "output_type": "stream",
          "name": "stdout",
          "text": [
            "[[ 7 85 49 16]\n",
            " [23 38 73  6]\n",
            " [84 44 31 96]]\n"
          ]
        },
        {
          "output_type": "execute_result",
          "data": {
            "text/plain": [
              "[array([[ 7, 85],\n",
              "        [23, 38],\n",
              "        [84, 44]]),\n",
              " array([[49, 16],\n",
              "        [73,  6],\n",
              "        [31, 96]])]"
            ]
          },
          "metadata": {},
          "execution_count": 46
        }
      ]
    },
    {
      "cell_type": "code",
      "source": [
        "# Q17.4: Split an array vertically using np.vsplit()\n",
        "arr=np.random.randint(1,100,(4,4))\n",
        "print(arr)\n",
        "np.vsplit(arr,2)"
      ],
      "metadata": {
        "colab": {
          "base_uri": "https://localhost:8080/"
        },
        "id": "0KZ5ekaXSDsk",
        "outputId": "7d004495-62ba-4a88-cbbc-b1e7a86c6b99"
      },
      "execution_count": 6,
      "outputs": [
        {
          "output_type": "stream",
          "name": "stdout",
          "text": [
            "[[92 64 20 45]\n",
            " [15 77 75 19]\n",
            " [76 50 83 99]\n",
            " [47 78 57 77]]\n"
          ]
        },
        {
          "output_type": "execute_result",
          "data": {
            "text/plain": [
              "[array([[92, 64, 20, 45],\n",
              "        [15, 77, 75, 19]]),\n",
              " array([[76, 50, 83, 99],\n",
              "        [47, 78, 57, 77]])]"
            ]
          },
          "metadata": {},
          "execution_count": 6
        }
      ]
    },
    {
      "cell_type": "code",
      "source": [
        "# Q17.5: Split an array into equal chunks using np.array_split()\n",
        "arr=np.random.randint(1,100,(3,4))\n",
        "print(arr)\n",
        "np.array_split(arr,2)"
      ],
      "metadata": {
        "colab": {
          "base_uri": "https://localhost:8080/"
        },
        "id": "BYswsE4eSTnV",
        "outputId": "6ba28703-b397-41db-b9ba-f1710165700f"
      },
      "execution_count": null,
      "outputs": [
        {
          "output_type": "stream",
          "name": "stdout",
          "text": [
            "[[24  6 10  4]\n",
            " [39 78  3 41]\n",
            " [83 66 52 15]]\n"
          ]
        },
        {
          "output_type": "execute_result",
          "data": {
            "text/plain": [
              "[array([[24,  6, 10,  4],\n",
              "        [39, 78,  3, 41]]),\n",
              " array([[83, 66, 52, 15]])]"
            ]
          },
          "metadata": {},
          "execution_count": 49
        }
      ]
    },
    {
      "cell_type": "markdown",
      "source": [
        "Question 18: Array Repetition and Tiling\n"
      ],
      "metadata": {
        "id": "YDZQy3toXJ7I"
      }
    },
    {
      "cell_type": "code",
      "source": [
        "# Q18.1: Repeat each element of an array 3 times using np.repeat()\n",
        "arr=np.array([1,2,3])\n",
        "np.repeat(arr,3)\n"
      ],
      "metadata": {
        "colab": {
          "base_uri": "https://localhost:8080/"
        },
        "id": "yd4I5UZXZfhR",
        "outputId": "ceae8d65-7695-4755-d65d-6755eeddfa37"
      },
      "execution_count": 7,
      "outputs": [
        {
          "output_type": "execute_result",
          "data": {
            "text/plain": [
              "array([1, 1, 1, 2, 2, 2, 3, 3, 3])"
            ]
          },
          "metadata": {},
          "execution_count": 7
        }
      ]
    },
    {
      "cell_type": "code",
      "source": [
        "# Q18.2: Repeat an entire array 2 times using np.tile()\n",
        "arr = np.array([1, 2, 3])\n",
        "result = np.tile(arr, 2)\n",
        "print(result)\n"
      ],
      "metadata": {
        "colab": {
          "base_uri": "https://localhost:8080/"
        },
        "id": "ecODG32YZuhi",
        "outputId": "18bd8cac-c21d-4256-f0e0-fcea20b44be0"
      },
      "execution_count": 8,
      "outputs": [
        {
          "output_type": "stream",
          "name": "stdout",
          "text": [
            "[1 2 3 1 2 3]\n"
          ]
        }
      ]
    },
    {
      "cell_type": "code",
      "source": [
        "# Q18.3: Repeat a 2D array using np.tile()\n",
        "arr = np.array([[1, 2], [3, 4]])\n",
        "result = np.tile(arr, (2, 3))  # repeat 2 times vertically, 3 times horizontally\n",
        "print(result)\n"
      ],
      "metadata": {
        "colab": {
          "base_uri": "https://localhost:8080/"
        },
        "id": "MZwYzP_IZvIb",
        "outputId": "4646cf32-f51f-4a08-c9d4-288ed733ebf7"
      },
      "execution_count": 9,
      "outputs": [
        {
          "output_type": "stream",
          "name": "stdout",
          "text": [
            "[[1 2 1 2 1 2]\n",
            " [3 4 3 4 3 4]\n",
            " [1 2 1 2 1 2]\n",
            " [3 4 3 4 3 4]]\n"
          ]
        }
      ]
    },
    {
      "cell_type": "code",
      "source": [
        "# Q18.4: Create a pattern using np.tile()\n",
        "pattern = np.array([1, 0])\n",
        "result = np.tile(pattern, 5)\n",
        "print(result)\n"
      ],
      "metadata": {
        "colab": {
          "base_uri": "https://localhost:8080/"
        },
        "id": "XJzOw3woZvL1",
        "outputId": "48358ce9-a4e5-4727-d4b7-4f0437881ed1"
      },
      "execution_count": 10,
      "outputs": [
        {
          "output_type": "stream",
          "name": "stdout",
          "text": [
            "[1 0 1 0 1 0 1 0 1 0]\n"
          ]
        }
      ]
    },
    {
      "cell_type": "code",
      "source": [
        "# Q18.5: Repeat elements with different counts using np.repeat()\n",
        "arr = np.array([1, 2, 3])\n",
        "result = np.repeat(arr, [1, 2, 3])  # repeat 1 once, 2 twice, 3 thrice\n",
        "print(result)\n"
      ],
      "metadata": {
        "colab": {
          "base_uri": "https://localhost:8080/"
        },
        "id": "CF1orf9sa3wN",
        "outputId": "d48ca9e4-70fc-46ed-e598-fd30ca103844"
      },
      "execution_count": 11,
      "outputs": [
        {
          "output_type": "stream",
          "name": "stdout",
          "text": [
            "[1 2 2 3 3 3]\n"
          ]
        }
      ]
    },
    {
      "cell_type": "markdown",
      "source": [
        "Question 19: Array Comparison and Logical Operations\n"
      ],
      "metadata": {
        "id": "S-C7a-i1bUXR"
      }
    },
    {
      "cell_type": "code",
      "source": [
        "# Q19.1: Compare two arrays for equality using np.array_equal()\n",
        "import numpy as np\n",
        "\n",
        "a = np.array([1, 2, 3])\n",
        "b = np.array([1, 2, 3])\n",
        "c = np.array([1, 2, 4])\n",
        "\n",
        "print(np.array_equal(a, b))  # True\n",
        "print(np.array_equal(a, c))  # False\n",
        "\n",
        "\n",
        "\n",
        "\n",
        "\n"
      ],
      "metadata": {
        "colab": {
          "base_uri": "https://localhost:8080/"
        },
        "id": "aO9FmRoAbXcG",
        "outputId": "51b0e527-228e-4e21-83c4-22bf5093fabb"
      },
      "execution_count": 12,
      "outputs": [
        {
          "output_type": "stream",
          "name": "stdout",
          "text": [
            "True\n",
            "False\n"
          ]
        }
      ]
    },
    {
      "cell_type": "code",
      "source": [
        "# Q19.2: Check if arrays are close using np.allclose()\n",
        "x = np.array([1.0, 2.0, 3.00001])\n",
        "y = np.array([1.0, 2.0, 3.0])\n",
        "\n",
        "print(np.allclose(x, y))  # True\n"
      ],
      "metadata": {
        "colab": {
          "base_uri": "https://localhost:8080/"
        },
        "id": "8m2oTjtwbXfg",
        "outputId": "398aec87-16c0-4d30-f765-6a70ec53d43a"
      },
      "execution_count": 13,
      "outputs": [
        {
          "output_type": "stream",
          "name": "stdout",
          "text": [
            "True\n"
          ]
        }
      ]
    },
    {
      "cell_type": "code",
      "source": [
        "# Q19.3: Apply logical AND operation between arrays\n",
        "a = np.array([True, False, True])\n",
        "b = np.array([True, True, False])\n",
        "\n",
        "result = np.logical_and(a, b)\n",
        "print(result)\n"
      ],
      "metadata": {
        "colab": {
          "base_uri": "https://localhost:8080/"
        },
        "id": "J7gZZ71ubXqS",
        "outputId": "3526d518-f1e3-4ae6-b4a6-55644577c5ca"
      },
      "execution_count": 14,
      "outputs": [
        {
          "output_type": "stream",
          "name": "stdout",
          "text": [
            "[ True False False]\n"
          ]
        }
      ]
    },
    {
      "cell_type": "code",
      "source": [
        "# Q19.4: Apply logical OR operation between arrays\n",
        "result = np.logical_or(a, b)\n",
        "print(result)\n"
      ],
      "metadata": {
        "colab": {
          "base_uri": "https://localhost:8080/"
        },
        "id": "VhVuKlijbX3A",
        "outputId": "8fba3664-10dd-4695-ed6e-d2b12e98b5b4"
      },
      "execution_count": 15,
      "outputs": [
        {
          "output_type": "stream",
          "name": "stdout",
          "text": [
            "[ True  True  True]\n"
          ]
        }
      ]
    },
    {
      "cell_type": "code",
      "source": [
        "# Q19.5: Apply logical NOT operation to an array\n",
        "result = np.logical_not(a, b)\n",
        "print(result)\n"
      ],
      "metadata": {
        "colab": {
          "base_uri": "https://localhost:8080/"
        },
        "id": "SMd-zYJxbYEa",
        "outputId": "a8d53aed-2e2c-4920-deca-26667782b9b5"
      },
      "execution_count": 16,
      "outputs": [
        {
          "output_type": "stream",
          "name": "stdout",
          "text": [
            "[False  True False]\n"
          ]
        }
      ]
    },
    {
      "cell_type": "markdown",
      "source": [
        "Question 20: Array Set Operations\n"
      ],
      "metadata": {
        "id": "M0_CTSo5bY7B"
      }
    },
    {
      "cell_type": "code",
      "source": [
        "# Q20.1: Find unique elements in an array using np.unique()\n",
        "import numpy as np\n",
        "\n",
        "arr = np.array([1, 2, 2, 3, 4, 4, 5])\n",
        "result = np.unique(arr)\n",
        "print(result)\n",
        "\n",
        "\n",
        "\n",
        "\n",
        "\n"
      ],
      "metadata": {
        "colab": {
          "base_uri": "https://localhost:8080/"
        },
        "id": "B8mvr73Kbgup",
        "outputId": "57903237-323f-48a3-ff87-e3385b9d1af9"
      },
      "execution_count": 17,
      "outputs": [
        {
          "output_type": "stream",
          "name": "stdout",
          "text": [
            "[1 2 3 4 5]\n"
          ]
        }
      ]
    },
    {
      "cell_type": "code",
      "source": [
        "# Q20.2: Find the intersection of two arrays using np.intersect1d()\n",
        "a = np.array([1, 2, 3, 4])\n",
        "b = np.array([3, 4, 5, 6])\n",
        "result = np.intersect1d(a, b)\n",
        "print(result)\n"
      ],
      "metadata": {
        "colab": {
          "base_uri": "https://localhost:8080/"
        },
        "id": "ueQYZqi7bglE",
        "outputId": "a7fa4be0-0de5-4ca3-c390-f5d4f3319030"
      },
      "execution_count": 18,
      "outputs": [
        {
          "output_type": "stream",
          "name": "stdout",
          "text": [
            "[3 4]\n"
          ]
        }
      ]
    },
    {
      "cell_type": "code",
      "source": [
        "# Q20.3: Find the union of two arrays using np.union1d()\n",
        "a = np.array([1, 2, 3])\n",
        "b = np.array([3, 4, 5])\n",
        "result = np.union1d(a, b)\n",
        "print(result)\n"
      ],
      "metadata": {
        "colab": {
          "base_uri": "https://localhost:8080/"
        },
        "id": "bzdnL04pbgfL",
        "outputId": "7b8493e8-544a-4e06-ce77-8b300247261e"
      },
      "execution_count": 19,
      "outputs": [
        {
          "output_type": "stream",
          "name": "stdout",
          "text": [
            "[1 2 3 4 5]\n"
          ]
        }
      ]
    },
    {
      "cell_type": "code",
      "source": [
        "# Q20.4: Find elements in first array but not in second using np.setdiff1d()\n",
        "a = np.array([1, 2, 3, 4])\n",
        "b = np.array([3, 4, 5])\n",
        "result = np.setdiff1d(a, b)\n",
        "print(result)\n"
      ],
      "metadata": {
        "colab": {
          "base_uri": "https://localhost:8080/"
        },
        "id": "KzLIISacbgbv",
        "outputId": "3bdf23c8-feb8-4103-8f73-81d986fe4630"
      },
      "execution_count": 20,
      "outputs": [
        {
          "output_type": "stream",
          "name": "stdout",
          "text": [
            "[1 2]\n"
          ]
        }
      ]
    },
    {
      "cell_type": "code",
      "source": [
        "# Q20.5: Find the symmetric difference between two arrays using np.setxor1d()\n",
        "a = np.array([1, 2, 3, 4])\n",
        "b = np.array([3, 4, 5, 6])\n",
        "result = np.setxor1d(a, b)\n",
        "print(result)\n"
      ],
      "metadata": {
        "colab": {
          "base_uri": "https://localhost:8080/"
        },
        "id": "bCmL39NxbgX4",
        "outputId": "0f0c3eed-b1ef-4d51-a083-8c3ca887e245"
      },
      "execution_count": 21,
      "outputs": [
        {
          "output_type": "stream",
          "name": "stdout",
          "text": [
            "[1 2 5 6]\n"
          ]
        }
      ]
    }
  ]
}