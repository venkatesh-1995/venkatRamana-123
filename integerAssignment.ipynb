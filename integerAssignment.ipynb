{
  "nbformat": 4,
  "nbformat_minor": 0,
  "metadata": {
    "colab": {
      "provenance": []
    },
    "kernelspec": {
      "name": "python3",
      "display_name": "Python 3"
    },
    "language_info": {
      "name": "python"
    }
  },
  "cells": [
    {
      "cell_type": "markdown",
      "source": [
        "1. calculate the product of frist 10 natural numbers?"
      ],
      "metadata": {
        "id": "53lQWdoJ5IRU"
      }
    },
    {
      "cell_type": "code",
      "source": [
        "x=1\n",
        "\n",
        "for i in range(1,11):\n",
        "  x=x*i\n",
        "\n",
        "print(f\"the prodcut of frist 10 natural number is {x}.\")"
      ],
      "metadata": {
        "colab": {
          "base_uri": "https://localhost:8080/"
        },
        "id": "994-5d0q5XG9",
        "outputId": "95772140-5bc5-4fbb-8e28-416091094538"
      },
      "execution_count": 1,
      "outputs": [
        {
          "output_type": "stream",
          "name": "stdout",
          "text": [
            "the prodcut of frist 10 natural number is 3628800.\n"
          ]
        }
      ]
    },
    {
      "cell_type": "markdown",
      "source": [
        "# Question 2: Find the remainder when 156 is divided by 7\n"
      ],
      "metadata": {
        "id": "rGNnjY5h6LCf"
      }
    },
    {
      "cell_type": "code",
      "source": [
        "remainder=156%7\n",
        "\n",
        "print(remainder)"
      ],
      "metadata": {
        "colab": {
          "base_uri": "https://localhost:8080/"
        },
        "id": "1e4cX_Jd62R4",
        "outputId": "6ace34c1-c3d7-4b55-96b5-986376bd7b44"
      },
      "execution_count": 2,
      "outputs": [
        {
          "output_type": "stream",
          "name": "stdout",
          "text": [
            "2\n"
          ]
        }
      ]
    },
    {
      "cell_type": "markdown",
      "source": [
        "# Question 3: Calculate the square of 25\n"
      ],
      "metadata": {
        "id": "vIt9ClD07H0o"
      }
    },
    {
      "cell_type": "code",
      "source": [
        "x=5\n",
        "square=x*x\n",
        "print(f\"square of {x} is {square}\")"
      ],
      "metadata": {
        "colab": {
          "base_uri": "https://localhost:8080/"
        },
        "id": "6USH84S77Isv",
        "outputId": "dc956f39-8da7-43d4-ec15-069eb03b8645"
      },
      "execution_count": 3,
      "outputs": [
        {
          "output_type": "stream",
          "name": "stdout",
          "text": [
            "square of 5 is 25\n"
          ]
        }
      ]
    },
    {
      "cell_type": "markdown",
      "source": [
        "# Question 4: Find the cube root of 125\n"
      ],
      "metadata": {
        "id": "tk2J4M4Q7fIi"
      }
    },
    {
      "cell_type": "code",
      "source": [
        "x=5\n",
        "\n",
        "cuberoot=x**(1/3)\n",
        "\n",
        "print(f\"cuberoot of {x} is {cuberoot}\")"
      ],
      "metadata": {
        "colab": {
          "base_uri": "https://localhost:8080/"
        },
        "id": "Dq3znjQ_7rJN",
        "outputId": "76536182-10c3-4614-82d4-6f4b9ffce486"
      },
      "execution_count": 4,
      "outputs": [
        {
          "output_type": "stream",
          "name": "stdout",
          "text": [
            "cuberoot of 5 is 1.7099759466766968\n"
          ]
        }
      ]
    },
    {
      "cell_type": "markdown",
      "source": [
        "# Question 5: Calculate the sum of digits in number 12345\n"
      ],
      "metadata": {
        "id": "NLQIhjrF_l6S"
      }
    },
    {
      "cell_type": "code",
      "source": [
        "x=12345\n",
        "digit_sum=0\n",
        "\n",
        "for i in str(x):\n",
        "  digit_sum=digit_sum+int(i)\n",
        "\n",
        "print(f\"sum of digits in {x} is {digit_sum}\")\n",
        "\n",
        "\n",
        "\n",
        "\n"
      ],
      "metadata": {
        "colab": {
          "base_uri": "https://localhost:8080/"
        },
        "id": "cF3AV85M_r4N",
        "outputId": "6d51855f-162d-41ef-ced4-8bc570222ecc"
      },
      "execution_count": 5,
      "outputs": [
        {
          "output_type": "stream",
          "name": "stdout",
          "text": [
            "sum of digits in 12345 is 15\n"
          ]
        }
      ]
    },
    {
      "cell_type": "markdown",
      "source": [
        "# Question 6: Check if 97 is a prime number\n"
      ],
      "metadata": {
        "id": "7rJtXW_FFcek"
      }
    },
    {
      "cell_type": "code",
      "source": [
        "x=97\n",
        "if x<=1:\n",
        "  print(f\"{x} is not prime number\")\n",
        "else:\n",
        "  for i in range(2,x):\n",
        "    if x % i==0:\n",
        "      print(f\"{x} is not  Prime number\")\n",
        "      break\n",
        "  else:\n",
        "      print(f\"{x} is  Prime number\")\n",
        "\n"
      ],
      "metadata": {
        "colab": {
          "base_uri": "https://localhost:8080/"
        },
        "id": "QeCpRkCWFdhv",
        "outputId": "2bdd3df1-f017-46cd-e645-9f2d9d924cc7"
      },
      "execution_count": 6,
      "outputs": [
        {
          "output_type": "stream",
          "name": "stdout",
          "text": [
            "97 is  Prime number\n"
          ]
        }
      ]
    },
    {
      "cell_type": "markdown",
      "source": [
        "# Question 7: Find the factorial of 8\n"
      ],
      "metadata": {
        "id": "DpH6EJIuNxgm"
      }
    },
    {
      "cell_type": "code",
      "source": [
        "n=8\n",
        "factorial=1\n",
        "for i in range(1,9):\n",
        "  factorial=factorial*i\n",
        "\n",
        "print(factorial)"
      ],
      "metadata": {
        "colab": {
          "base_uri": "https://localhost:8080/"
        },
        "id": "iVyP0GA4Nysq",
        "outputId": "78a52809-59ae-4052-c209-e56f936d0aaf"
      },
      "execution_count": 7,
      "outputs": [
        {
          "output_type": "stream",
          "name": "stdout",
          "text": [
            "40320\n"
          ]
        }
      ]
    },
    {
      "cell_type": "markdown",
      "source": [
        "# Question 8: Calculate the average of numbers: 15, 23, 31, 42, 56\n"
      ],
      "metadata": {
        "id": "SmhtECyjQHfg"
      }
    },
    {
      "cell_type": "code",
      "source": [
        "num=[15,23,31,42,56]\n",
        "\n",
        "avg=sum(num)/len(num)\n",
        "\n",
        "\n",
        "print(avg)\n",
        "\n"
      ],
      "metadata": {
        "colab": {
          "base_uri": "https://localhost:8080/"
        },
        "id": "f9m33-46QLQP",
        "outputId": "4cee65f1-a727-4241-e771-0ea37a1c5531"
      },
      "execution_count": 8,
      "outputs": [
        {
          "output_type": "stream",
          "name": "stdout",
          "text": [
            "33.4\n"
          ]
        }
      ]
    },
    {
      "cell_type": "markdown",
      "source": [
        "# Question 9: Find the greatest common divisor (GCD) of 48 and 36\n"
      ],
      "metadata": {
        "id": "8mlIRlsBTSRn"
      }
    },
    {
      "cell_type": "code",
      "source": [
        "a,b=48,36\n",
        "\n",
        "while b!=0:\n",
        "   rem=a%b\n",
        "   a=b\n",
        "   b=rem\n",
        "\n",
        "print(f\"GCD of 48 and 36 is {a}\")"
      ],
      "metadata": {
        "colab": {
          "base_uri": "https://localhost:8080/"
        },
        "id": "SVmn3Py6QgPP",
        "outputId": "be3e3517-2ff5-4dea-bdf0-c2173fa61d1b"
      },
      "execution_count": 13,
      "outputs": [
        {
          "output_type": "stream",
          "name": "stdout",
          "text": [
            "GCD of 48 and 36 is 12\n"
          ]
        }
      ]
    },
    {
      "cell_type": "markdown",
      "source": [
        "# Question 10: Calculate the sum of first 20 odd numbers\n"
      ],
      "metadata": {
        "id": "sSY_9ccrYeUf"
      }
    },
    {
      "cell_type": "code",
      "source": [
        "\n",
        "sum=0\n",
        "for i in range(1,41):\n",
        "  if i % 2 ==1:\n",
        "    sum=sum+i\n",
        "\n",
        "print(sum)"
      ],
      "metadata": {
        "colab": {
          "base_uri": "https://localhost:8080/"
        },
        "id": "ac02Tt70YdXY",
        "outputId": "37b4b2aa-8cdf-4b70-e431-d5a31d4bf185"
      },
      "execution_count": 15,
      "outputs": [
        {
          "output_type": "stream",
          "name": "stdout",
          "text": [
            "400\n"
          ]
        }
      ]
    }
  ]
}