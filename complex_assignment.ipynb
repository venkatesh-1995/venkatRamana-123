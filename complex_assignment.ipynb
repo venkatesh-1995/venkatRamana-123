{
  "nbformat": 4,
  "nbformat_minor": 0,
  "metadata": {
    "colab": {
      "provenance": []
    },
    "kernelspec": {
      "name": "python3",
      "display_name": "Python 3"
    },
    "language_info": {
      "name": "python"
    }
  },
  "cells": [
    {
      "cell_type": "markdown",
      "source": [
        "# Question 1: Create complex number 5 + 3j\n"
      ],
      "metadata": {
        "id": "NShX-0PWSYle"
      }
    },
    {
      "cell_type": "code",
      "execution_count": 1,
      "metadata": {
        "colab": {
          "base_uri": "https://localhost:8080/"
        },
        "id": "TUkLuMwySUQJ",
        "outputId": "d5bc55e8-c477-41b5-d037-5ceffc8abb54"
      },
      "outputs": [
        {
          "output_type": "stream",
          "name": "stdout",
          "text": [
            "(5+3j)\n",
            "<class 'complex'>\n"
          ]
        }
      ],
      "source": [
        "z = 5 + 3j\n",
        "print(z)       # Output: (5+3j)\n",
        "print(type(z)) # Output: <class 'complex'>\n"
      ]
    },
    {
      "cell_type": "markdown",
      "source": [
        "# Question 2: Find the real part of complex number 7 - 2j\n"
      ],
      "metadata": {
        "id": "-wDVvtsYSX7T"
      }
    },
    {
      "cell_type": "code",
      "source": [
        "z=7-2j\n",
        "\n",
        "print(z.real)\n"
      ],
      "metadata": {
        "colab": {
          "base_uri": "https://localhost:8080/"
        },
        "id": "er_DiGJ6T5HY",
        "outputId": "b538da2f-beea-4568-9d65-7ab61260890a"
      },
      "execution_count": 2,
      "outputs": [
        {
          "output_type": "stream",
          "name": "stdout",
          "text": [
            "7.0\n"
          ]
        }
      ]
    },
    {
      "cell_type": "markdown",
      "source": [
        "# Question 3: Find the imaginary part of complex number 4 + 6j\n"
      ],
      "metadata": {
        "id": "kZFbqytQWR2c"
      }
    },
    {
      "cell_type": "code",
      "source": [
        "z=4 + 6j\n",
        "\n",
        "print(z.imag)"
      ],
      "metadata": {
        "colab": {
          "base_uri": "https://localhost:8080/"
        },
        "id": "1V5wp0pRWSEy",
        "outputId": "3e95e5d5-11cf-4d78-bc5f-47b62de55eaa"
      },
      "execution_count": 3,
      "outputs": [
        {
          "output_type": "stream",
          "name": "stdout",
          "text": [
            "6.0\n"
          ]
        }
      ]
    },
    {
      "cell_type": "markdown",
      "source": [
        "# Question 4: Add two complex numbers: (3 + 2j) and (1 + 4j)\n"
      ],
      "metadata": {
        "id": "oWdie6K5WhiR"
      }
    },
    {
      "cell_type": "code",
      "source": [
        "x,y=(3 + 2j),(1 + 4j)\n",
        "\n",
        "print(x+y)"
      ],
      "metadata": {
        "colab": {
          "base_uri": "https://localhost:8080/"
        },
        "id": "lstTl9v7WkKg",
        "outputId": "3f1050c8-40f5-4cc1-a046-ba90b6e937a0"
      },
      "execution_count": 4,
      "outputs": [
        {
          "output_type": "stream",
          "name": "stdout",
          "text": [
            "(4+6j)\n"
          ]
        }
      ]
    },
    {
      "cell_type": "markdown",
      "source": [
        "# Question 5: Multiply two complex numbers: (2 + 3j) and (1 + 2j)\n"
      ],
      "metadata": {
        "id": "txaQx85qW_F_"
      }
    },
    {
      "cell_type": "code",
      "source": [
        "x,y=(2 + 3j),(1 + 2j)\n",
        "\n",
        "print(x*y)"
      ],
      "metadata": {
        "colab": {
          "base_uri": "https://localhost:8080/"
        },
        "id": "spyJ1xiVXEgN",
        "outputId": "cfc6bedc-323d-48a1-d55f-8019fbf07663"
      },
      "execution_count": 5,
      "outputs": [
        {
          "output_type": "stream",
          "name": "stdout",
          "text": [
            "(-4+7j)\n"
          ]
        }
      ]
    },
    {
      "cell_type": "markdown",
      "source": [
        "# Question 6: Find the magnitude of complex number 6 + 8j\n"
      ],
      "metadata": {
        "id": "ELwqFJYgXS2X"
      }
    },
    {
      "cell_type": "code",
      "source": [
        "z = 6 + 8j\n",
        "magnitude = abs(z)\n",
        "print(magnitude)  # Output: 10.0\n",
        "\n"
      ],
      "metadata": {
        "colab": {
          "base_uri": "https://localhost:8080/"
        },
        "id": "ttZG-gPEXYRS",
        "outputId": "08ee5c74-a023-4f62-86b9-9759a31f6242"
      },
      "execution_count": 6,
      "outputs": [
        {
          "output_type": "stream",
          "name": "stdout",
          "text": [
            "10.0\n"
          ]
        }
      ]
    },
    {
      "cell_type": "markdown",
      "source": [
        "# Question 7: Find the conjugate of complex number 5 - 7j\n"
      ],
      "metadata": {
        "id": "smsjKA0cYMwr"
      }
    },
    {
      "cell_type": "code",
      "source": [
        "z = 5 - 7j\n",
        "conjugate = z.conjugate()\n",
        "print(conjugate)  # Output: (5+7j)\n"
      ],
      "metadata": {
        "colab": {
          "base_uri": "https://localhost:8080/"
        },
        "id": "84uLahjvYPMC",
        "outputId": "aeff25bf-71e4-48cc-9f19-b38ff844a656"
      },
      "execution_count": 7,
      "outputs": [
        {
          "output_type": "stream",
          "name": "stdout",
          "text": [
            "(5+7j)\n"
          ]
        }
      ]
    },
    {
      "cell_type": "markdown",
      "source": [
        "# Question 8: Subtract complex numbers: (10 + 5j) - (3 + 2j)\n"
      ],
      "metadata": {
        "id": "mkTtoS8SYRNB"
      }
    },
    {
      "cell_type": "code",
      "source": [
        "a = 10 + 5j\n",
        "b = 3 + 2j\n",
        "\n",
        "result = a - b\n",
        "print(result)  # Output: (7+3j)\n"
      ],
      "metadata": {
        "colab": {
          "base_uri": "https://localhost:8080/"
        },
        "id": "279GtwX3YVs2",
        "outputId": "c9dcb619-d22d-4a28-e55a-6262f3931222"
      },
      "execution_count": 8,
      "outputs": [
        {
          "output_type": "stream",
          "name": "stdout",
          "text": [
            "(7+3j)\n"
          ]
        }
      ]
    },
    {
      "cell_type": "markdown",
      "source": [
        "# Question 9: Divide complex numbers: (8 + 6j) / (2 + 1j)\n"
      ],
      "metadata": {
        "id": "LoZSdITvYaek"
      }
    },
    {
      "cell_type": "code",
      "source": [
        "a = 8 + 6j\n",
        "b = 2 + 1j\n",
        "\n",
        "result = a / b\n",
        "print(result)  # Output: (4+1j)\n"
      ],
      "metadata": {
        "colab": {
          "base_uri": "https://localhost:8080/"
        },
        "id": "h6LL8A58YdAj",
        "outputId": "de68fcd2-5844-4755-ac2a-ad9c3ed16fe4"
      },
      "execution_count": 9,
      "outputs": [
        {
          "output_type": "stream",
          "name": "stdout",
          "text": [
            "(4.4+0.8j)\n"
          ]
        }
      ]
    },
    {
      "cell_type": "markdown",
      "source": [
        "# Question 10: Find the phase angle of complex number 1 + 1j\n"
      ],
      "metadata": {
        "id": "myWTWkpTY4Jr"
      }
    },
    {
      "cell_type": "code",
      "source": [
        "import cmath\n",
        "\n",
        "z = 1 + 1j\n",
        "angle = cmath.phase(z)\n",
        "print(angle)  # Output: 0.7853981633974483 (in radians)\n"
      ],
      "metadata": {
        "colab": {
          "base_uri": "https://localhost:8080/"
        },
        "id": "VC8p_xKeY26d",
        "outputId": "bb944deb-9d86-42ef-cfae-cea795469f16"
      },
      "execution_count": 10,
      "outputs": [
        {
          "output_type": "stream",
          "name": "stdout",
          "text": [
            "0.7853981633974483\n"
          ]
        }
      ]
    }
  ]
}