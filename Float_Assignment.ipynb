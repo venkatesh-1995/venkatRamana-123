{
  "nbformat": 4,
  "nbformat_minor": 0,
  "metadata": {
    "colab": {
      "provenance": []
    },
    "kernelspec": {
      "name": "python3",
      "display_name": "Python 3"
    },
    "language_info": {
      "name": "python"
    }
  },
  "cells": [
    {
      "cell_type": "markdown",
      "source": [
        "# Question 1: Calculate the average of 3.14, 2.718, 1.618, 0.577\n"
      ],
      "metadata": {
        "id": "pTG31EpMcaOq"
      }
    },
    {
      "cell_type": "code",
      "source": [
        "list=[3.14, 2.718, 1.618, 0.577]\n",
        "avg=sum(list)/len(list)\n",
        "\n",
        "print(avg)"
      ],
      "metadata": {
        "colab": {
          "base_uri": "https://localhost:8080/"
        },
        "id": "SvJt3FTlcdYk",
        "outputId": "35564467-284a-4d4b-ea27-b6dcee120686"
      },
      "execution_count": 3,
      "outputs": [
        {
          "output_type": "stream",
          "name": "stdout",
          "text": [
            "2.01325\n"
          ]
        }
      ]
    },
    {
      "cell_type": "markdown",
      "source": [
        "# Question 2: Convert 98.6 Fahrenheit to Celsius (F = C * 9/5 + 32)\n"
      ],
      "metadata": {
        "id": "l9OkZ_OndRmj"
      }
    },
    {
      "cell_type": "code",
      "source": [
        "fahren=98.6\n",
        "celsius=(fahren-32)*5/9\n",
        "\n",
        "print(celsius)"
      ],
      "metadata": {
        "colab": {
          "base_uri": "https://localhost:8080/"
        },
        "id": "pSt1Jh_rdXGe",
        "outputId": "f789c40e-e800-4da9-a4d2-5a9e19a91c74"
      },
      "execution_count": 4,
      "outputs": [
        {
          "output_type": "stream",
          "name": "stdout",
          "text": [
            "37.0\n"
          ]
        }
      ]
    },
    {
      "cell_type": "markdown",
      "source": [
        "# Question 3: Calculate the compound interest on $1000 at 5.5% for 3 years\n"
      ],
      "metadata": {
        "id": "3wGbdVBcfG-E"
      }
    },
    {
      "cell_type": "code",
      "source": [
        "P = 1000      # Principal\n",
        "r = 5.5       # Interest rate in percent\n",
        "t = 3         # Time in years\n",
        "\n",
        "A = P * (1 + r / 100) ** t\n",
        "compound_interest = A - P\n",
        "\n",
        "print(\"Compound Interest:\", compound_interest)\n",
        "print(\"Total Amount:\", A)\n"
      ],
      "metadata": {
        "colab": {
          "base_uri": "https://localhost:8080/"
        },
        "id": "1chHWzjyfJ11",
        "outputId": "2b3f4593-e238-4e46-c372-460523f211d9"
      },
      "execution_count": 5,
      "outputs": [
        {
          "output_type": "stream",
          "name": "stdout",
          "text": [
            "Compound Interest: 174.24137499999983\n",
            "Total Amount: 1174.2413749999998\n"
          ]
        }
      ]
    },
    {
      "cell_type": "markdown",
      "source": [
        "# Question 4: Find the hypotenuse of a right triangle with sides 3.5 and 4.2\n"
      ],
      "metadata": {
        "id": "tff9QrgOfoD8"
      }
    },
    {
      "cell_type": "code",
      "source": [
        "a = 3.5\n",
        "b = 4.2\n",
        "\n",
        "\n",
        "# Square the sides\n",
        "square_sum = a**2 + b**2\n",
        "\n",
        "# Take square root using exponent (1/2 means square root)\n",
        "hypotenuse = square_sum ** (1/2)\n",
        "\n",
        "print(\"Hypotenuse:\", hypotenuse)\n"
      ],
      "metadata": {
        "colab": {
          "base_uri": "https://localhost:8080/"
        },
        "id": "WujMPDOIfoTf",
        "outputId": "fa83f69e-b7d5-4461-f4c2-dbdbf596d830"
      },
      "execution_count": 8,
      "outputs": [
        {
          "output_type": "stream",
          "name": "stdout",
          "text": [
            "Hypotenuse: 5.4671747731346585\n"
          ]
        }
      ]
    },
    {
      "cell_type": "markdown",
      "source": [
        "# Question 5: Calculate the volume of a sphere with radius 7.8\n",
        "\n",
        "\n"
      ],
      "metadata": {
        "id": "1uQefEyLgGMf"
      }
    },
    {
      "cell_type": "code",
      "source": [
        "r=7.8\n",
        "pi=3.14\n",
        "\n",
        "\n",
        "volume=(4/3)*pi*(r**3)\n",
        "\n",
        "print(volume)"
      ],
      "metadata": {
        "colab": {
          "base_uri": "https://localhost:8080/"
        },
        "id": "UDAyWnw-gGfV",
        "outputId": "39a5185e-0cfd-4c24-c704-fda5b80c2ebd"
      },
      "execution_count": 9,
      "outputs": [
        {
          "output_type": "stream",
          "name": "stdout",
          "text": [
            "1986.7910399999998\n"
          ]
        }
      ]
    },
    {
      "cell_type": "markdown",
      "source": [
        "# Question 6: Round 3.14159 to 3 decimal places\n"
      ],
      "metadata": {
        "id": "YtVLBOsNg3eW"
      }
    },
    {
      "cell_type": "code",
      "source": [
        "num = 3.14159\n",
        "rounded = round(num, 3)\n",
        "print(\"Rounded value:\", rounded)\n"
      ],
      "metadata": {
        "id": "KgufeY9Gg3tG"
      },
      "execution_count": null,
      "outputs": []
    },
    {
      "cell_type": "markdown",
      "source": [
        "# Question 7: Calculate the percentage: 45 out of 67\n"
      ],
      "metadata": {
        "id": "4O7BHsl4hRAO"
      }
    },
    {
      "cell_type": "code",
      "source": [
        "x=45\n",
        "y=67\n",
        "\n",
        "percentage=(x/y)*100\n",
        "\n",
        "print(percentage)"
      ],
      "metadata": {
        "colab": {
          "base_uri": "https://localhost:8080/"
        },
        "id": "ypxv3Hb3hSLJ",
        "outputId": "98af4ea3-dfbd-4170-e735-0408e5ca9f4d"
      },
      "execution_count": 10,
      "outputs": [
        {
          "output_type": "stream",
          "name": "stdout",
          "text": [
            "67.16417910447761\n"
          ]
        }
      ]
    },
    {
      "cell_type": "markdown",
      "source": [
        "# Question 8: Find the square root of 23.456\n"
      ],
      "metadata": {
        "id": "kIcJ74aXhgRj"
      }
    },
    {
      "cell_type": "code",
      "source": [
        "x=23.456\n",
        "\n",
        "square_root=(x)**(1/2)\n",
        "\n",
        "print(square_root)"
      ],
      "metadata": {
        "colab": {
          "base_uri": "https://localhost:8080/"
        },
        "id": "aPsT9gnohgwK",
        "outputId": "f4d174e0-7d98-4d7b-90ea-4281e85591ce"
      },
      "execution_count": 11,
      "outputs": [
        {
          "output_type": "stream",
          "name": "stdout",
          "text": [
            "4.843139477652899\n"
          ]
        }
      ]
    },
    {
      "cell_type": "markdown",
      "source": [
        "# Question 9: Calculate the simple interest: Principal=2500, Rate=6.5%, Time=2.5 years\n"
      ],
      "metadata": {
        "id": "-NX-YMiwiEXt"
      }
    },
    {
      "cell_type": "code",
      "source": [
        "Principal=2500\n",
        "Rate=6.5\n",
        "Time=2.5\n",
        "\n",
        "simple_interest=(Principal*Rate*Time)/100\n",
        "\n",
        "\n",
        "print(simple_interest)"
      ],
      "metadata": {
        "colab": {
          "base_uri": "https://localhost:8080/"
        },
        "id": "oXqYkd34iGBa",
        "outputId": "5250a8f7-6527-4d73-aae3-4fe5f2e8b3f3"
      },
      "execution_count": 13,
      "outputs": [
        {
          "output_type": "stream",
          "name": "stdout",
          "text": [
            "406.25\n"
          ]
        }
      ]
    },
    {
      "cell_type": "markdown",
      "source": [
        "# Question 10: Convert 45.7 degrees to radians\n"
      ],
      "metadata": {
        "id": "hhQRR4eti4oH"
      }
    },
    {
      "cell_type": "code",
      "source": [
        "pi = 3.14\n",
        "degrees = 45.7\n",
        "\n",
        "radians = degrees * (pi / 180)\n",
        "print(\"Radians:\", radians)\n"
      ],
      "metadata": {
        "colab": {
          "base_uri": "https://localhost:8080/"
        },
        "id": "UdtafF7bi47S",
        "outputId": "1c6d5e37-921c-44fa-d61c-d57eb8a70a82"
      },
      "execution_count": 14,
      "outputs": [
        {
          "output_type": "stream",
          "name": "stdout",
          "text": [
            "Radians: 0.7972111111111112\n"
          ]
        }
      ]
    }
  ]
}