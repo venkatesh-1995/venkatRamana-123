{
  "nbformat": 4,
  "nbformat_minor": 0,
  "metadata": {
    "colab": {
      "provenance": []
    },
    "kernelspec": {
      "name": "python3",
      "display_name": "Python 3"
    },
    "language_info": {
      "name": "python"
    }
  },
  "cells": [
    {
      "cell_type": "markdown",
      "source": [
        "# Question 1: Create a variable and assign None to it\n"
      ],
      "metadata": {
        "id": "0DyDAwSLeUrL"
      }
    },
    {
      "cell_type": "code",
      "execution_count": null,
      "metadata": {
        "id": "r1pgmEdWeFHf"
      },
      "outputs": [],
      "source": [
        "my_variable = None\n",
        "print(my_variable)   # Output: None\n"
      ]
    },
    {
      "cell_type": "markdown",
      "source": [
        "# Question 2: Check if None equals None\n"
      ],
      "metadata": {
        "id": "d5_5zjPHeaMp"
      }
    },
    {
      "cell_type": "code",
      "source": [
        "print(None==None)"
      ],
      "metadata": {
        "colab": {
          "base_uri": "https://localhost:8080/"
        },
        "id": "UNZaHMpOehWE",
        "outputId": "6b7ef197-f346-4849-8292-b6ca36d2ff08"
      },
      "execution_count": 1,
      "outputs": [
        {
          "output_type": "stream",
          "name": "stdout",
          "text": [
            "True\n"
          ]
        }
      ]
    },
    {
      "cell_type": "markdown",
      "source": [
        "# Question 3: Check if None is None\n"
      ],
      "metadata": {
        "id": "h3OuePd3er77"
      }
    },
    {
      "cell_type": "code",
      "source": [
        "print(None is None)"
      ],
      "metadata": {
        "colab": {
          "base_uri": "https://localhost:8080/"
        },
        "id": "5ilDBk8mew2e",
        "outputId": "2b80554b-a52e-4253-b978-49afc1af9d7a"
      },
      "execution_count": 2,
      "outputs": [
        {
          "output_type": "stream",
          "name": "stdout",
          "text": [
            "True\n"
          ]
        }
      ]
    },
    {
      "cell_type": "markdown",
      "source": [
        "# Question 4: Check if 0 is None\n"
      ],
      "metadata": {
        "id": "ckoqiGjrlaTt"
      }
    },
    {
      "cell_type": "code",
      "source": [
        "print(0 == None)   # Output: False\n"
      ],
      "metadata": {
        "colab": {
          "base_uri": "https://localhost:8080/"
        },
        "id": "mQ9oxmAtldpZ",
        "outputId": "168eb8cb-5d65-46d7-82f5-da549a7f6a8b"
      },
      "execution_count": 5,
      "outputs": [
        {
          "output_type": "stream",
          "name": "stdout",
          "text": [
            "False\n"
          ]
        }
      ]
    },
    {
      "cell_type": "markdown",
      "source": [
        "# Question 5: Check if empty string is None\n"
      ],
      "metadata": {
        "id": "x2EHGdkTl1wd"
      }
    },
    {
      "cell_type": "code",
      "source": [
        "string=\" \"\n",
        "print(string==None)"
      ],
      "metadata": {
        "colab": {
          "base_uri": "https://localhost:8080/"
        },
        "id": "c0-_11psl6uV",
        "outputId": "60a7a8fe-0348-4f04-f706-c6949c8bee7a"
      },
      "execution_count": 6,
      "outputs": [
        {
          "output_type": "stream",
          "name": "stdout",
          "text": [
            "False\n"
          ]
        }
      ]
    },
    {
      "cell_type": "markdown",
      "source": [
        "# Question 6: Check if False is None\n"
      ],
      "metadata": {
        "id": "8ZALXJDfmMuT"
      }
    },
    {
      "cell_type": "code",
      "source": [
        "False==None"
      ],
      "metadata": {
        "colab": {
          "base_uri": "https://localhost:8080/"
        },
        "id": "S-_jLoEQmP1K",
        "outputId": "44874dcb-2cf4-4d30-8555-79dfa027ebd8"
      },
      "execution_count": 7,
      "outputs": [
        {
          "output_type": "execute_result",
          "data": {
            "text/plain": [
              "False"
            ]
          },
          "metadata": {},
          "execution_count": 7
        }
      ]
    },
    {
      "cell_type": "markdown",
      "source": [
        "# Question 7: Check if empty list is None\n"
      ],
      "metadata": {
        "id": "v6aimbvqnPGU"
      }
    },
    {
      "cell_type": "code",
      "source": [
        "l=[]\n",
        "print(l is None)"
      ],
      "metadata": {
        "colab": {
          "base_uri": "https://localhost:8080/"
        },
        "id": "zaWSV1LhnONg",
        "outputId": "db794b84-ca19-47fb-f701-7d390d0a91f7"
      },
      "execution_count": 9,
      "outputs": [
        {
          "output_type": "stream",
          "name": "stdout",
          "text": [
            "False\n"
          ]
        }
      ]
    },
    {
      "cell_type": "markdown",
      "source": [
        "# Question 8: Check if empty dictionary is None\n"
      ],
      "metadata": {
        "id": "7_lxvckpoT-c"
      }
    },
    {
      "cell_type": "code",
      "source": [
        "dict={ }\n",
        "print(dict is None)"
      ],
      "metadata": {
        "colab": {
          "base_uri": "https://localhost:8080/"
        },
        "id": "c7eMoObHoU83",
        "outputId": "7e5496d0-cecf-432d-c0e2-b8d1dbfc40ac"
      },
      "execution_count": 12,
      "outputs": [
        {
          "output_type": "stream",
          "name": "stdout",
          "text": [
            "False\n"
          ]
        }
      ]
    },
    {
      "cell_type": "markdown",
      "source": [
        "# Question 9: Check if empty tuple is None\n"
      ],
      "metadata": {
        "id": "i9uMQTQ2naYP"
      }
    },
    {
      "cell_type": "code",
      "source": [
        "t=()\n",
        "print(t is None)"
      ],
      "metadata": {
        "colab": {
          "base_uri": "https://localhost:8080/"
        },
        "id": "Mlu7mpyqnxZe",
        "outputId": "b0cbcf29-f22e-4ddb-8515-ae6c73f70167"
      },
      "execution_count": 10,
      "outputs": [
        {
          "output_type": "stream",
          "name": "stdout",
          "text": [
            "False\n"
          ]
        }
      ]
    },
    {
      "cell_type": "markdown",
      "source": [
        "# Question 10: Check if empty set is None\n"
      ],
      "metadata": {
        "id": "E003xhwJn_tA"
      }
    },
    {
      "cell_type": "code",
      "source": [
        "s={}\n",
        "print(t is None)"
      ],
      "metadata": {
        "colab": {
          "base_uri": "https://localhost:8080/"
        },
        "id": "QiaE4RQEoI29",
        "outputId": "7c88b3d4-2d42-4697-bc59-3d9823608946"
      },
      "execution_count": 11,
      "outputs": [
        {
          "output_type": "stream",
          "name": "stdout",
          "text": [
            "False\n"
          ]
        }
      ]
    }
  ]
}