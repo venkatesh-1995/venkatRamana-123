{
  "nbformat": 4,
  "nbformat_minor": 0,
  "metadata": {
    "colab": {
      "provenance": []
    },
    "kernelspec": {
      "name": "python3",
      "display_name": "Python 3"
    },
    "language_info": {
      "name": "python"
    }
  },
  "cells": [
    {
      "cell_type": "markdown",
      "source": [
        "# Question 1: Check if 25 is greater than 20 and less than 30\n",
        "\n"
      ],
      "metadata": {
        "id": "D3rmwGDTZ7dT"
      }
    },
    {
      "cell_type": "code",
      "execution_count": 1,
      "metadata": {
        "colab": {
          "base_uri": "https://localhost:8080/"
        },
        "id": "DMXCbbmoZ6iW",
        "outputId": "e53a0c32-8202-4937-aad5-7809769fd3c6"
      },
      "outputs": [
        {
          "output_type": "stream",
          "name": "stdout",
          "text": [
            "True\n"
          ]
        }
      ],
      "source": [
        "num = 25\n",
        "result = 20 < num < 30\n",
        "print(result)\n"
      ]
    },
    {
      "cell_type": "markdown",
      "source": [
        "# Question 2: Check if string \"python\" is equal to \"Python\" (case sensitive)\n"
      ],
      "metadata": {
        "id": "MwudrDpvaDz_"
      }
    },
    {
      "cell_type": "code",
      "source": [
        "str1 = \"python\"\n",
        "str2 = \"Python\"\n",
        "\n",
        "result = str1 == str2\n",
        "print(result)\n"
      ],
      "metadata": {
        "colab": {
          "base_uri": "https://localhost:8080/"
        },
        "id": "a5H9sBlmaET9",
        "outputId": "d91da396-9be7-4f7e-c255-3c66ef38a1d0"
      },
      "execution_count": 2,
      "outputs": [
        {
          "output_type": "stream",
          "name": "stdout",
          "text": [
            "False\n"
          ]
        }
      ]
    },
    {
      "cell_type": "markdown",
      "source": [
        "# Question 3: Check if 15 is divisible by both 3 and 5\n"
      ],
      "metadata": {
        "id": "JN320zFyaY-O"
      }
    },
    {
      "cell_type": "code",
      "source": [
        "a = 15\n",
        "result = (a % 3 == 0) and (a % 5 == 0)\n",
        "print(result)\n"
      ],
      "metadata": {
        "colab": {
          "base_uri": "https://localhost:8080/"
        },
        "id": "JkB5l3RYabAL",
        "outputId": "937a94c2-6823-4c9d-d0a6-a5411f33a766"
      },
      "execution_count": 4,
      "outputs": [
        {
          "output_type": "stream",
          "name": "stdout",
          "text": [
            "True\n"
          ]
        }
      ]
    },
    {
      "cell_type": "markdown",
      "source": [
        "# Question 4: Check if 7 is not equal to 8\n"
      ],
      "metadata": {
        "id": "qufBzk_ha3_C"
      }
    },
    {
      "cell_type": "code",
      "source": [
        "a,b=7,8\n",
        "\n",
        "result=a!=b\n",
        "\n",
        "print(result)\n"
      ],
      "metadata": {
        "colab": {
          "base_uri": "https://localhost:8080/"
        },
        "id": "Jvl505Gka7nf",
        "outputId": "13b45695-bf67-428f-d580-7cd36a332ab4"
      },
      "execution_count": 5,
      "outputs": [
        {
          "output_type": "stream",
          "name": "stdout",
          "text": [
            "True\n"
          ]
        }
      ]
    },
    {
      "cell_type": "markdown",
      "source": [
        "# Question 5: Check if 100 is greater than 50 or less than 25\n"
      ],
      "metadata": {
        "id": "uuSQ2AoebWYt"
      }
    },
    {
      "cell_type": "code",
      "source": [
        "n=100\n",
        "\n",
        "res=25<100>50\n",
        "\n",
        "print(res)"
      ],
      "metadata": {
        "colab": {
          "base_uri": "https://localhost:8080/"
        },
        "id": "a6G-Wj8FbbeT",
        "outputId": "783f15a0-5c24-4bcb-d0a5-c6cdf723fda8"
      },
      "execution_count": 7,
      "outputs": [
        {
          "output_type": "stream",
          "name": "stdout",
          "text": [
            "True\n"
          ]
        }
      ]
    },
    {
      "cell_type": "markdown",
      "source": [
        "# Question 6: Check if 0 is falsy in Python\n"
      ],
      "metadata": {
        "id": "Io4fRJubb7Oa"
      }
    },
    {
      "cell_type": "code",
      "source": [
        "value = 0\n",
        "result = bool(value)\n",
        "print(result)\n"
      ],
      "metadata": {
        "colab": {
          "base_uri": "https://localhost:8080/"
        },
        "id": "n3MBd3bCb7em",
        "outputId": "09118e38-514b-469a-ad3e-3d23fe02fa16"
      },
      "execution_count": 8,
      "outputs": [
        {
          "output_type": "stream",
          "name": "stdout",
          "text": [
            "False\n"
          ]
        }
      ]
    },
    {
      "cell_type": "markdown",
      "source": [
        "# Question 7: Check if empty string \"\" is falsy in Python\n"
      ],
      "metadata": {
        "id": "W5zHX5FucDYm"
      }
    },
    {
      "cell_type": "code",
      "source": [
        "s=\"\"\n",
        "\n",
        "b=bool(s)\n",
        "print(b)"
      ],
      "metadata": {
        "colab": {
          "base_uri": "https://localhost:8080/"
        },
        "id": "l6RjgvwhcIBO",
        "outputId": "c9f1ee9c-f5fb-4f1b-e337-abb701cba1df"
      },
      "execution_count": 10,
      "outputs": [
        {
          "output_type": "stream",
          "name": "stdout",
          "text": [
            "False\n"
          ]
        }
      ]
    },
    {
      "cell_type": "markdown",
      "source": [
        "# Question 8: Check if 42 is truthy in Python\n"
      ],
      "metadata": {
        "id": "VljmTxc_cXcG"
      }
    },
    {
      "cell_type": "code",
      "source": [
        "i=42\n",
        "\n",
        "v=bool(i)\n",
        "\n",
        "print(v)"
      ],
      "metadata": {
        "colab": {
          "base_uri": "https://localhost:8080/"
        },
        "id": "nZitauuYcXrb",
        "outputId": "7831d63b-57b6-400c-9882-3c822e5d136a"
      },
      "execution_count": 11,
      "outputs": [
        {
          "output_type": "stream",
          "name": "stdout",
          "text": [
            "True\n"
          ]
        }
      ]
    },
    {
      "cell_type": "markdown",
      "source": [
        "# Question 9: Check if 10 is between 5 and 15 (inclusive)\n"
      ],
      "metadata": {
        "id": "bj7a6xu6c8s5"
      }
    },
    {
      "cell_type": "code",
      "source": [
        "y=10\n",
        "\n",
        "o=y in range(5,15)\n",
        "\n",
        "print(o)"
      ],
      "metadata": {
        "colab": {
          "base_uri": "https://localhost:8080/"
        },
        "id": "WoYcjV0vc-HR",
        "outputId": "97d1bc7e-162d-43d4-a5b6-96bd18791e14"
      },
      "execution_count": 12,
      "outputs": [
        {
          "output_type": "stream",
          "name": "stdout",
          "text": [
            "True\n"
          ]
        }
      ]
    },
    {
      "cell_type": "markdown",
      "source": [
        "# Question 10: Check if 3.14 is greater than 3 and less than 4\n"
      ],
      "metadata": {
        "id": "fuph_VcZdVZt"
      }
    },
    {
      "cell_type": "code",
      "source": [
        "f=3.14\n",
        "r=3<f<4\n",
        "print(r)"
      ],
      "metadata": {
        "colab": {
          "base_uri": "https://localhost:8080/"
        },
        "id": "uRyLRpG8dWgQ",
        "outputId": "48383c0a-6c31-41e4-f955-6a4586b2167f"
      },
      "execution_count": 14,
      "outputs": [
        {
          "output_type": "stream",
          "name": "stdout",
          "text": [
            "True\n"
          ]
        }
      ]
    }
  ]
}