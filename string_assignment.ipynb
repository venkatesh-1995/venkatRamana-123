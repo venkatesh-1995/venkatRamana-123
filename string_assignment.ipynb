{
  "nbformat": 4,
  "nbformat_minor": 0,
  "metadata": {
    "colab": {
      "provenance": []
    },
    "kernelspec": {
      "name": "python3",
      "display_name": "Python 3"
    },
    "language_info": {
      "name": "python"
    }
  },
  "cells": [
    {
      "cell_type": "markdown",
      "source": [
        "# Question 1: Reverse the string \"Python Programming\"\n"
      ],
      "metadata": {
        "id": "0sbkQAlFj-9m"
      }
    },
    {
      "cell_type": "code",
      "source": [
        "string=\"Python Programming\"\n",
        "\n",
        "reversed_text = string[::-1]  # using scling\n",
        "\n",
        "print(reversed_text)\n"
      ],
      "metadata": {
        "id": "AZ4mlVqOkJ25",
        "colab": {
          "base_uri": "https://localhost:8080/"
        },
        "outputId": "7a9bfaae-177a-4706-f4f7-dcc45cabeb96"
      },
      "execution_count": null,
      "outputs": [
        {
          "output_type": "stream",
          "name": "stdout",
          "text": [
            "gnimmargorP nohtyP\n"
          ]
        }
      ]
    },
    {
      "cell_type": "code",
      "source": [
        "string=\"Python Programming\"\n",
        "\n",
        "rev=reversed(string)\n",
        "\n",
        "print(''.join(rev))"
      ],
      "metadata": {
        "colab": {
          "base_uri": "https://localhost:8080/"
        },
        "id": "Z7mGHcxtggTL",
        "outputId": "a2a2a05e-2e9d-4fd2-87e2-37dc900b1af5"
      },
      "execution_count": null,
      "outputs": [
        {
          "output_type": "stream",
          "name": "stdout",
          "text": [
            "gnimmargorP nohtyP\n"
          ]
        }
      ]
    },
    {
      "cell_type": "markdown",
      "source": [
        "# Question 2: Check if \"racecar\" is a palindrome\n"
      ],
      "metadata": {
        "id": "pyo8GMb8skfN"
      }
    },
    {
      "cell_type": "code",
      "source": [
        "s=\"racecar\"\n",
        "\n",
        "if s==s[::-1]:\n",
        "  print(f\"{s} is a palindrome\")\n",
        "else:\n",
        "  print(f\"{s} is a not palindrome\")\n",
        "\n"
      ],
      "metadata": {
        "colab": {
          "base_uri": "https://localhost:8080/"
        },
        "id": "nem0fzSesloC",
        "outputId": "6fa806bb-a6e7-4154-8f2d-83c1f7f6f69d"
      },
      "execution_count": null,
      "outputs": [
        {
          "output_type": "stream",
          "name": "stdout",
          "text": [
            "racecar is a palindrome\n"
          ]
        }
      ]
    },
    {
      "cell_type": "markdown",
      "source": [
        "# Question 3: Count the number of words in \"Python is a great programming language\"\n"
      ],
      "metadata": {
        "id": "dZp44gJmtxXL"
      }
    },
    {
      "cell_type": "code",
      "source": [
        "s=\"Python is a great programming language\"\n",
        "\n",
        "words_count=len(s.split())\n",
        "\n",
        "print(words_count)"
      ],
      "metadata": {
        "colab": {
          "base_uri": "https://localhost:8080/"
        },
        "id": "LT0MQ53htykN",
        "outputId": "4ae6400f-12e1-455d-f91e-65f155e2f1f3"
      },
      "execution_count": null,
      "outputs": [
        {
          "output_type": "stream",
          "name": "stdout",
          "text": [
            "6\n"
          ]
        }
      ]
    },
    {
      "cell_type": "markdown",
      "source": [
        "# Question 4: Convert \"hello world\" to title case\n"
      ],
      "metadata": {
        "id": "Y6qozdCoup4W"
      }
    },
    {
      "cell_type": "code",
      "source": [
        "s=\"hello world\"\n",
        "\n",
        "s.title()\n"
      ],
      "metadata": {
        "colab": {
          "base_uri": "https://localhost:8080/",
          "height": 36
        },
        "id": "THU7YQW1utcB",
        "outputId": "7841ec19-8984-451f-a98c-83cb7608bc89"
      },
      "execution_count": null,
      "outputs": [
        {
          "output_type": "execute_result",
          "data": {
            "text/plain": [
              "'Hello World'"
            ],
            "application/vnd.google.colaboratory.intrinsic+json": {
              "type": "string"
            }
          },
          "metadata": {},
          "execution_count": 5
        }
      ]
    },
    {
      "cell_type": "markdown",
      "source": [
        "# Question 5: Find the length of string \"Data Science\"\n"
      ],
      "metadata": {
        "id": "2BjEfqWEu4z5"
      }
    },
    {
      "cell_type": "code",
      "source": [
        "s=\"Data Science\"\n",
        "\n",
        "print(len(s))"
      ],
      "metadata": {
        "colab": {
          "base_uri": "https://localhost:8080/"
        },
        "id": "6Da-laI9u56Q",
        "outputId": "5b414d57-5708-4624-aa29-f1b3b65b336e"
      },
      "execution_count": null,
      "outputs": [
        {
          "output_type": "stream",
          "name": "stdout",
          "text": [
            "12\n"
          ]
        }
      ]
    },
    {
      "cell_type": "markdown",
      "source": [
        "# Question 6: Replace all spaces with underscores in \"Machine Learning\"\n"
      ],
      "metadata": {
        "id": "V-zqpgChvh8b"
      }
    },
    {
      "cell_type": "code",
      "source": [
        "s=\"Machine Learning\"\n",
        "\n",
        "v=s.replace(\" \",\"_\")\n",
        "\n",
        "\n",
        "print(v)"
      ],
      "metadata": {
        "colab": {
          "base_uri": "https://localhost:8080/"
        },
        "id": "wifGTOr8vjhh",
        "outputId": "397031ea-afba-4056-ab63-b107e67219cb"
      },
      "execution_count": null,
      "outputs": [
        {
          "output_type": "stream",
          "name": "stdout",
          "text": [
            "Machine_Learning\n"
          ]
        }
      ]
    },
    {
      "cell_type": "markdown",
      "source": [
        "# Question 7: Check if \"python\" is in \"Python Programming Language\"\n"
      ],
      "metadata": {
        "id": "lmp7u11HxVGg"
      }
    },
    {
      "cell_type": "code",
      "source": [
        "s=\"Python Programming Language\"\n",
        "word=\"python\"\n",
        "\n",
        "if word in s.lower():\n",
        "  print(\"yes python  is in string\")\n",
        "\n",
        "else:\n",
        "  print(\"no, python  is not in string\")\n",
        "\n"
      ],
      "metadata": {
        "colab": {
          "base_uri": "https://localhost:8080/"
        },
        "id": "AaemeocWxWLt",
        "outputId": "8162fd15-97fb-4a2d-f54a-dca79e82da84"
      },
      "execution_count": null,
      "outputs": [
        {
          "output_type": "stream",
          "name": "stdout",
          "text": [
            "yes python  is in string\n"
          ]
        }
      ]
    },
    {
      "cell_type": "markdown",
      "source": [
        "# Question 8: Extract the first 5 characters from \"Artificial Intelligence\"\n"
      ],
      "metadata": {
        "id": "JkLQ3Pi8zyIO"
      }
    },
    {
      "cell_type": "code",
      "source": [
        "s=\"Artificial Intelligence\"\n",
        "h=s[0:5]\n",
        "\n",
        "print(h)"
      ],
      "metadata": {
        "colab": {
          "base_uri": "https://localhost:8080/"
        },
        "id": "vcwyv4LGz4I1",
        "outputId": "e0f544fe-52af-4420-cd65-b852a5194b50"
      },
      "execution_count": null,
      "outputs": [
        {
          "output_type": "stream",
          "name": "stdout",
          "text": [
            "Artif\n"
          ]
        }
      ]
    },
    {
      "cell_type": "markdown",
      "source": [
        "# Question 9: Convert \"UPPERCASE\" to lowercase\n"
      ],
      "metadata": {
        "id": "XO9cWMkl28bZ"
      }
    },
    {
      "cell_type": "code",
      "source": [
        "e=\"UPPERCASE\"\n",
        "e.lower()"
      ],
      "metadata": {
        "colab": {
          "base_uri": "https://localhost:8080/",
          "height": 36
        },
        "id": "saVDEzo62-La",
        "outputId": "a1894eea-f1c7-4656-c49c-c24a62593864"
      },
      "execution_count": null,
      "outputs": [
        {
          "output_type": "execute_result",
          "data": {
            "text/plain": [
              "'uppercase'"
            ],
            "application/vnd.google.colaboratory.intrinsic+json": {
              "type": "string"
            }
          },
          "metadata": {},
          "execution_count": 10
        }
      ]
    },
    {
      "cell_type": "markdown",
      "source": [
        "# Question 10: Remove all vowels from \"Computer Science\"\n"
      ],
      "metadata": {
        "id": "VIDwCEYZ3U79"
      }
    },
    {
      "cell_type": "code",
      "source": [
        "text = \"Computer Science\"\n",
        "vowels = \" aeiouAEIOU\"\n",
        "\n",
        "for vowel in vowels:\n",
        "    text = text.replace(vowel, \"\")\n",
        "\n",
        "print(text)\n"
      ],
      "metadata": {
        "colab": {
          "base_uri": "https://localhost:8080/"
        },
        "id": "-_As0Yc33X73",
        "outputId": "8a634e21-697d-412a-fd4a-7485e22a49e0"
      },
      "execution_count": null,
      "outputs": [
        {
          "output_type": "stream",
          "name": "stdout",
          "text": [
            "CmptrScnc\n"
          ]
        }
      ]
    },
    {
      "cell_type": "markdown",
      "source": [
        "# Question 11: Find the most frequent character in \"mississippi\"\n",
        "\n",
        "\n",
        "\n",
        "\n",
        "\n",
        "\n"
      ],
      "metadata": {
        "id": "icqXvY1nLqLP"
      }
    },
    {
      "cell_type": "code",
      "source": [
        "text = \"mississippi\"\n",
        "freq={}\n",
        "\n",
        "for i in text:\n",
        "  if i in freq:\n",
        "    freq[i]+=1\n",
        "\n",
        "  else:\n",
        "    freq[i]=1\n",
        "\n",
        "\n",
        "result = max(freq, key=text.count)\n",
        "print(result)\n"
      ],
      "metadata": {
        "colab": {
          "base_uri": "https://localhost:8080/"
        },
        "id": "bgII2TGMurjs",
        "outputId": "3156d960-7f50-4108-98c4-afdc44c09997"
      },
      "execution_count": null,
      "outputs": [
        {
          "output_type": "stream",
          "name": "stdout",
          "text": [
            "i\n"
          ]
        }
      ]
    },
    {
      "cell_type": "markdown",
      "source": [
        "# Question 12: Check if two strings are anagrams: \"listen\" and \"silent\"\n"
      ],
      "metadata": {
        "id": "DLeKdAQJOepq"
      }
    },
    {
      "cell_type": "code",
      "source": [
        "from __future__ import print_function\n",
        "a=\"listen\"\n",
        "b=\"silent\"\n",
        "\n",
        "c=sorted(a)\n",
        "d=sorted(b)\n",
        "\n",
        "if c==d:\n",
        "  print(f\"yes {a} and {b} strings  is anagrams\")\n",
        "else:\n",
        "  print(f\"no {a} and {b} strings  is not anagrams\")\n"
      ],
      "metadata": {
        "colab": {
          "base_uri": "https://localhost:8080/"
        },
        "id": "oUxIF72pOkI5",
        "outputId": "f6577f26-316b-4501-d943-fb550441d3ec"
      },
      "execution_count": null,
      "outputs": [
        {
          "output_type": "stream",
          "name": "stdout",
          "text": [
            "yes listen and silent strings  is anagrams\n"
          ]
        }
      ]
    },
    {
      "cell_type": "markdown",
      "source": [
        "# Question 13: Capitalize first letter of each word in \"python programming language\"\n"
      ],
      "metadata": {
        "id": "JY8tf7N3S1zC"
      }
    },
    {
      "cell_type": "code",
      "source": [
        "s=\"python programming language\"\n",
        "s.title()"
      ],
      "metadata": {
        "colab": {
          "base_uri": "https://localhost:8080/",
          "height": 36
        },
        "id": "qYcO9WRAS3FR",
        "outputId": "be2e5914-1218-40c0-a709-62a61d95cde1"
      },
      "execution_count": null,
      "outputs": [
        {
          "output_type": "execute_result",
          "data": {
            "text/plain": [
              "'Python Programming Language'"
            ],
            "application/vnd.google.colaboratory.intrinsic+json": {
              "type": "string"
            }
          },
          "metadata": {},
          "execution_count": 14
        }
      ]
    },
    {
      "cell_type": "markdown",
      "source": [
        "# Question 14: Count consonants in \"Hello World\"\n"
      ],
      "metadata": {
        "id": "YusyWipVTKpU"
      }
    },
    {
      "cell_type": "code",
      "source": [
        "s=\"Hello World\"\n",
        "vowels=\"aeiouAEIOU\"\n",
        "\n",
        "count=0\n",
        "for i in s:\n",
        "  if i not in vowels:\n",
        "    count=count+1\n",
        "\n",
        "print(f\"count the consonants of string:{count}\")\n",
        "\n"
      ],
      "metadata": {
        "colab": {
          "base_uri": "https://localhost:8080/"
        },
        "id": "FcaT2doJTN-u",
        "outputId": "4c7e4eae-9532-4f27-9387-d58771670b75"
      },
      "execution_count": null,
      "outputs": [
        {
          "output_type": "stream",
          "name": "stdout",
          "text": [
            "count the consonants of string:8\n"
          ]
        }
      ]
    },
    {
      "cell_type": "markdown",
      "source": [
        "# Question 15: Find the longest word in \"Python is a programming language\"\n"
      ],
      "metadata": {
        "id": "6e7LXpBNWz95"
      }
    },
    {
      "cell_type": "code",
      "source": [
        "s=\"Python is a programming language\"\n",
        "\n",
        "words=s.split()\n",
        "print(max(words, key = len))"
      ],
      "metadata": {
        "colab": {
          "base_uri": "https://localhost:8080/"
        },
        "id": "hD4-QmkLW3Y9",
        "outputId": "c31954ef-f14c-4777-84b9-35c9545de834"
      },
      "execution_count": 10,
      "outputs": [
        {
          "output_type": "stream",
          "name": "stdout",
          "text": [
            "programming\n"
          ]
        }
      ]
    },
    {
      "cell_type": "markdown",
      "source": [
        "# Question 16: Remove all punctuation from \"Hello, World! How are you?\"\n"
      ],
      "metadata": {
        "id": "Txe7i0ZBXqd7"
      }
    },
    {
      "cell_type": "code",
      "source": [
        "import string\n",
        "s=\"Hello, World! How are you?\"\n",
        "no_punc=\"\"\n",
        "for i in s:\n",
        "  if i not in string.punctuation:\n",
        "    no_punc=no_punc+i\n",
        "\n",
        "print(\"Without punctuation:\", no_punc)\n"
      ],
      "metadata": {
        "colab": {
          "base_uri": "https://localhost:8080/"
        },
        "id": "5HLG_JfHXpim",
        "outputId": "e24b7295-dea4-4f68-86cf-c1e9b394b099"
      },
      "execution_count": null,
      "outputs": [
        {
          "output_type": "stream",
          "name": "stdout",
          "text": [
            "Without punctuation: Hello World How are you\n"
          ]
        }
      ]
    },
    {
      "cell_type": "markdown",
      "source": [
        "# Question 17: Check if string starts with \"Python\"\n"
      ],
      "metadata": {
        "id": "fj0dVV2AaDoe"
      }
    },
    {
      "cell_type": "code",
      "source": [
        "s=\"Python\"\n",
        "\n",
        "s.startswith(\"Python\")"
      ],
      "metadata": {
        "colab": {
          "base_uri": "https://localhost:8080/"
        },
        "id": "uGkK2zEraL_i",
        "outputId": "23bb51a4-20ff-402f-adb6-f2b0ebd14cc5"
      },
      "execution_count": null,
      "outputs": [
        {
          "output_type": "execute_result",
          "data": {
            "text/plain": [
              "True"
            ]
          },
          "metadata": {},
          "execution_count": 18
        }
      ]
    },
    {
      "cell_type": "markdown",
      "source": [
        "# Question 18: Find the index of first occurrence of 'o' in \"Hello World\"\n"
      ],
      "metadata": {
        "id": "M15SKAz8adJS"
      }
    },
    {
      "cell_type": "code",
      "source": [
        "s=\"Hello World\"\n",
        "\n",
        "s.index(\"o\")"
      ],
      "metadata": {
        "colab": {
          "base_uri": "https://localhost:8080/"
        },
        "id": "-gOu6p9maf6g",
        "outputId": "3c6cce16-c30a-4512-c3d7-f30f26c937e3"
      },
      "execution_count": null,
      "outputs": [
        {
          "output_type": "execute_result",
          "data": {
            "text/plain": [
              "4"
            ]
          },
          "metadata": {},
          "execution_count": 19
        }
      ]
    },
    {
      "cell_type": "markdown",
      "source": [
        "# Question 19: Split string \"apple,banana,orange\" by comma\n"
      ],
      "metadata": {
        "id": "17GJetnzarwp"
      }
    },
    {
      "cell_type": "code",
      "source": [
        "s=\"apple,banana,orange\"\n",
        "s.split(\",\")"
      ],
      "metadata": {
        "colab": {
          "base_uri": "https://localhost:8080/"
        },
        "id": "y7SpzGkkbPTR",
        "outputId": "bfc17481-b2ce-4ebe-9ca7-73bed3d50366"
      },
      "execution_count": null,
      "outputs": [
        {
          "output_type": "execute_result",
          "data": {
            "text/plain": [
              "['apple', 'banana', 'orange']"
            ]
          },
          "metadata": {},
          "execution_count": 20
        }
      ]
    },
    {
      "cell_type": "markdown",
      "source": [
        "# Question 20: Join list ['Python', 'is', 'awesome'] with spaces\n",
        "\n"
      ],
      "metadata": {
        "id": "yMH2F-JHca32"
      }
    },
    {
      "cell_type": "code",
      "source": [
        "l=['Python', 'is', 'awesome']\n",
        "result=\" \".join(l)\n",
        "\n",
        "print(result)"
      ],
      "metadata": {
        "colab": {
          "base_uri": "https://localhost:8080/"
        },
        "id": "hIixXrfVckzh",
        "outputId": "ab8fdd72-235d-4540-a2bb-960938971e5c"
      },
      "execution_count": 13,
      "outputs": [
        {
          "output_type": "stream",
          "name": "stdout",
          "text": [
            "Python is awesome\n"
          ]
        }
      ]
    },
    {
      "cell_type": "markdown",
      "source": [
        "# Question 21: Check if string contains only digits: \"12345\"\n"
      ],
      "metadata": {
        "id": "dsI0kBpoeFfU"
      }
    },
    {
      "cell_type": "code",
      "source": [
        "n=\"12345\"\n",
        "\n",
        "n.isdigit()\n"
      ],
      "metadata": {
        "colab": {
          "base_uri": "https://localhost:8080/"
        },
        "id": "sl-0G4YgeLLO",
        "outputId": "ddab42cd-f6a8-46c1-8568-8fb9421556d7"
      },
      "execution_count": null,
      "outputs": [
        {
          "output_type": "execute_result",
          "data": {
            "text/plain": [
              "True"
            ]
          },
          "metadata": {},
          "execution_count": 22
        }
      ]
    },
    {
      "cell_type": "markdown",
      "source": [
        "# Question 22: Check if string contains only letters: \"HelloWorld\"\n"
      ],
      "metadata": {
        "id": "Xpz_-O_WexrU"
      }
    },
    {
      "cell_type": "code",
      "source": [
        "s=\"HelloWorld\"\n",
        "s.isalpha()"
      ],
      "metadata": {
        "colab": {
          "base_uri": "https://localhost:8080/"
        },
        "id": "T-XvSveAe26H",
        "outputId": "cecb01a7-c37b-480e-9306-b309ee2cbb1c"
      },
      "execution_count": null,
      "outputs": [
        {
          "output_type": "execute_result",
          "data": {
            "text/plain": [
              "True"
            ]
          },
          "metadata": {},
          "execution_count": 23
        }
      ]
    },
    {
      "cell_type": "markdown",
      "source": [
        "# Question 23: Convert \"hello world\" to \"hElLo WoRlD\" (alternating case)\n",
        "\n",
        "---\n",
        "\n",
        "\n",
        "\n",
        "---\n",
        "\n",
        "\n"
      ],
      "metadata": {
        "id": "EeNQVqfafUvY"
      }
    },
    {
      "cell_type": "code",
      "source": [
        "text = \"hello world\"\n",
        "result = \"\"\n",
        "index = 0  # This counts letters only\n",
        "\n",
        "for char in text:\n",
        "    if char.isalpha():  # Check if it's a letter (not space)\n",
        "        if index % 2 == 0:        # Even position → lowercase\n",
        "            result += char.lower()\n",
        "        else:                     # Odd position → uppercase\n",
        "            result += char.upper()\n",
        "        index += 1  # Increase letter count\n",
        "    else:\n",
        "        result += char  # Keep space as it is\n",
        "\n",
        "print(result)"
      ],
      "metadata": {
        "colab": {
          "base_uri": "https://localhost:8080/"
        },
        "id": "PXpR2VhXfbpI",
        "outputId": "03895231-d88b-418e-98a7-be2a540ff4d1"
      },
      "execution_count": null,
      "outputs": [
        {
          "output_type": "stream",
          "name": "stdout",
          "text": [
            "hElLo WoRlD\n"
          ]
        }
      ]
    },
    {
      "cell_type": "markdown",
      "source": [
        "# Question 24: Find all positions of 'a' in \"banana\"\n",
        "\n"
      ],
      "metadata": {
        "id": "tsosjc8pigpw"
      }
    },
    {
      "cell_type": "code",
      "source": [
        "text = \"banana apple\"\n",
        "positions = []\n",
        "\n",
        "for index, char in enumerate(text):\n",
        "    if char == 'a':\n",
        "        positions.append(index)\n",
        "\n",
        "print(\"Positions of 'a':\", positions)\n"
      ],
      "metadata": {
        "colab": {
          "base_uri": "https://localhost:8080/"
        },
        "id": "vbz6E0XgihE6",
        "outputId": "076c1532-5ab1-4a7f-b48d-a89d76c2794e"
      },
      "execution_count": null,
      "outputs": [
        {
          "output_type": "stream",
          "name": "stdout",
          "text": [
            "Positions of 'a': [1, 3, 5, 7]\n"
          ]
        }
      ]
    },
    {
      "cell_type": "markdown",
      "source": [
        "# Question 25: Remove leading and trailing whitespace from \"  Hello World  \"\n"
      ],
      "metadata": {
        "id": "OBbgiGGainqb"
      }
    },
    {
      "cell_type": "code",
      "source": [
        "s=\"  Hello World   \"\n",
        "\n",
        "s.strip()"
      ],
      "metadata": {
        "colab": {
          "base_uri": "https://localhost:8080/",
          "height": 36
        },
        "id": "vTjbvBlIion5",
        "outputId": "df231e72-049f-4162-c9f5-84d904e20297"
      },
      "execution_count": null,
      "outputs": [
        {
          "output_type": "execute_result",
          "data": {
            "text/plain": [
              "'Hello World'"
            ],
            "application/vnd.google.colaboratory.intrinsic+json": {
              "type": "string"
            }
          },
          "metadata": {},
          "execution_count": 26
        }
      ]
    },
    {
      "cell_type": "markdown",
      "source": [
        "# Question 26: Check if string ends with \"ing\": \"programming\"\n"
      ],
      "metadata": {
        "id": "GOY-SuOwi4Ac"
      }
    },
    {
      "cell_type": "code",
      "source": [
        "s=\"programming\"\n",
        "s.endswith(\"ing\")"
      ],
      "metadata": {
        "colab": {
          "base_uri": "https://localhost:8080/"
        },
        "id": "nQhRnHBui9iX",
        "outputId": "bb4265b4-fefc-47bb-94ba-1bf65fd476b9"
      },
      "execution_count": null,
      "outputs": [
        {
          "output_type": "execute_result",
          "data": {
            "text/plain": [
              "True"
            ]
          },
          "metadata": {},
          "execution_count": 27
        }
      ]
    },
    {
      "cell_type": "markdown",
      "source": [
        "# Question 27: Replace first occurrence of 'o' with '0' in \"Hello World\"\n"
      ],
      "metadata": {
        "id": "N7cL3s6-jKwc"
      }
    },
    {
      "cell_type": "code",
      "source": [
        "s=\"Hello World\"\n",
        "s.replace(\"o\",\"0\")"
      ],
      "metadata": {
        "colab": {
          "base_uri": "https://localhost:8080/",
          "height": 36
        },
        "id": "P3YPdv5xjPSZ",
        "outputId": "c08f200b-c4c6-4a1e-b104-384cdcdac4c7"
      },
      "execution_count": null,
      "outputs": [
        {
          "output_type": "execute_result",
          "data": {
            "text/plain": [
              "'Hell0 W0rld'"
            ],
            "application/vnd.google.colaboratory.intrinsic+json": {
              "type": "string"
            }
          },
          "metadata": {},
          "execution_count": 28
        }
      ]
    },
    {
      "cell_type": "markdown",
      "source": [
        "# Question 28: Find the shortest word in \"Python is a programming language\"\n"
      ],
      "metadata": {
        "id": "0YNZUsdejcfA"
      }
    },
    {
      "cell_type": "code",
      "source": [
        "text = \"Python is a programming language\"\n",
        "\n",
        "words = text.split()\n",
        "\n",
        "shortest = min(words, key=len) # When comparing the words, compare their lengths instead of the words themselves.\n",
        "\n",
        "print(shortest)\n"
      ],
      "metadata": {
        "colab": {
          "base_uri": "https://localhost:8080/"
        },
        "id": "bDyTag5XjfRL",
        "outputId": "d1e58161-e792-4dc3-e9f3-da4faebf74e0"
      },
      "execution_count": null,
      "outputs": [
        {
          "output_type": "stream",
          "name": "stdout",
          "text": [
            "a\n"
          ]
        }
      ]
    },
    {
      "cell_type": "markdown",
      "source": [
        "# Question 29: Count words that start with 'p' in \"Python programming is powerful\":\n"
      ],
      "metadata": {
        "id": "7w6bKlZQn9ah"
      }
    },
    {
      "cell_type": "code",
      "source": [
        "s=\"Python programming is powerful\"\n",
        "words=s.split()\n",
        "count=0\n",
        "for word in words:\n",
        "  if word.lower().startswith(\"p\"):\n",
        "    count=count+1\n",
        "\n",
        "print(count)"
      ],
      "metadata": {
        "colab": {
          "base_uri": "https://localhost:8080/"
        },
        "id": "c9pKegFPoGEg",
        "outputId": "aa9b7503-5c30-4918-a6a0-707334dd138f"
      },
      "execution_count": null,
      "outputs": [
        {
          "output_type": "stream",
          "name": "stdout",
          "text": [
            "3\n"
          ]
        }
      ]
    },
    {
      "cell_type": "markdown",
      "source": [
        "# Question 30: Reverse words in \"Hello World Python\"\n"
      ],
      "metadata": {
        "id": "yacMljk4qQJt"
      }
    },
    {
      "cell_type": "code",
      "source": [
        "text = \"Hello World Python\"\n",
        "words = text.split()\n",
        "reversed_words = words[::-1]\n",
        "result = \" \".join(reversed_words)\n",
        "print(result)\n"
      ],
      "metadata": {
        "colab": {
          "base_uri": "https://localhost:8080/"
        },
        "id": "f2OPhnMpqSpd",
        "outputId": "de98f5b4-bff1-4af7-b34b-22317c27f891"
      },
      "execution_count": null,
      "outputs": [
        {
          "output_type": "stream",
          "name": "stdout",
          "text": [
            "Python World Hello\n"
          ]
        }
      ]
    },
    {
      "cell_type": "markdown",
      "source": [
        "# Question 31: Check if string is a valid email format: \"user@example.com\"\n"
      ],
      "metadata": {
        "id": "Y_4Y8xIiwyWZ"
      }
    },
    {
      "cell_type": "code",
      "source": [
        "email = \"user@example.com\"\n",
        "\n",
        "if \"@\" in email and \".\" in email:\n",
        "    print(\"Valid email format\")\n",
        "else:\n",
        "    print(\"Invalid email format\")\n"
      ],
      "metadata": {
        "id": "-m9RXRxfwypt",
        "colab": {
          "base_uri": "https://localhost:8080/"
        },
        "outputId": "f2a2612d-05fd-42bd-edb7-700dfb62fdb9"
      },
      "execution_count": null,
      "outputs": [
        {
          "output_type": "stream",
          "name": "stdout",
          "text": [
            "Valid email format\n"
          ]
        }
      ]
    },
    {
      "cell_type": "markdown",
      "source": [
        "# Question 32:  Extract domain from \"https://www.example.com/path\"\n",
        "\n",
        "\n"
      ],
      "metadata": {
        "id": "dm7BEHslxM2_"
      }
    },
    {
      "cell_type": "code",
      "source": [
        "url = \"https://www.example.com/path\"\n",
        "\n",
        "domain = url.split(\"//\")[-1].split(\"/\")[0].replace(\"www.\",\"\")\n",
        "\n",
        "print(domain)\n"
      ],
      "metadata": {
        "id": "ZukEsnJwxNQD",
        "colab": {
          "base_uri": "https://localhost:8080/"
        },
        "outputId": "2fb9734d-989d-4bc0-e1c7-5b332f3671a9"
      },
      "execution_count": null,
      "outputs": [
        {
          "output_type": "stream",
          "name": "stdout",
          "text": [
            "example.com\n"
          ]
        }
      ]
    },
    {
      "cell_type": "markdown",
      "source": [
        "# Question 33: Count lines in multi-line string\n"
      ],
      "metadata": {
        "id": "X9vs4wsjyKw2"
      }
    },
    {
      "cell_type": "code",
      "source": [
        "text = \"\"\"Python is great\n",
        "It is easy to learn\n",
        "And very powerful\"\"\"\n",
        "\n",
        "lines = text.splitlines()   # splits the string into list of lines\n",
        "count = len(lines)\n",
        "print(count)\n"
      ],
      "metadata": {
        "colab": {
          "base_uri": "https://localhost:8080/"
        },
        "id": "_x8T13aWyMPb",
        "outputId": "f8b2c1b9-9214-45e3-879e-f4b96aa8a208"
      },
      "execution_count": null,
      "outputs": [
        {
          "output_type": "stream",
          "name": "stdout",
          "text": [
            "3\n"
          ]
        }
      ]
    },
    {
      "cell_type": "markdown",
      "source": [
        "# Question 34: Find common characters between \"hello\" and \"world\"\n"
      ],
      "metadata": {
        "id": "u4ug1K6szFR9"
      }
    },
    {
      "cell_type": "code",
      "source": [
        "str1 = \"hello\"\n",
        "str2 = \"world\"\n",
        "\n",
        "common = set(str1) & set(str2)\n",
        "\n",
        "print(common)\n"
      ],
      "metadata": {
        "colab": {
          "base_uri": "https://localhost:8080/"
        },
        "id": "XP10YlHfzFkA",
        "outputId": "3687ceef-6313-480d-d0e6-bba58952d976"
      },
      "execution_count": null,
      "outputs": [
        {
          "output_type": "stream",
          "name": "stdout",
          "text": [
            "{'l', 'o'}\n"
          ]
        }
      ]
    },
    {
      "cell_type": "markdown",
      "source": [
        "# Question 35: Check if string is a valid phone number: \"+1-555-123-4567\"\n"
      ],
      "metadata": {
        "id": "b5u9BzoP0HDk"
      }
    },
    {
      "cell_type": "code",
      "source": [
        "s=\"+1-555-123-4567\"\n",
        "\n",
        "if s.startswith(\"+\") and \"-\" in s and all(part.isdigit() for part in s.replace(\"+\", \"\").split(\"-\")):\n",
        "  print(f\"{s} is valid phone number\")\n",
        "\n",
        "else:\n",
        "  print(f\"{s} is not  valid phone number\")\n",
        "\n"
      ],
      "metadata": {
        "colab": {
          "base_uri": "https://localhost:8080/"
        },
        "id": "MrA5teM70Im9",
        "outputId": "1877ba88-a9d6-491a-b69e-23af7ef68f11"
      },
      "execution_count": null,
      "outputs": [
        {
          "output_type": "stream",
          "name": "stdout",
          "text": [
            "+1-555-123-4567 is valid phone number\n"
          ]
        }
      ]
    },
    {
      "cell_type": "markdown",
      "source": [
        "# Question 36: Extract numbers from \"abc123def456ghi789\"\n"
      ],
      "metadata": {
        "id": "BJdbI998DnAt"
      }
    },
    {
      "cell_type": "code",
      "source": [
        "st=\"abc123def456ghi789\"\n",
        "n=\"\"\n",
        "for ch in st:\n",
        "  if ch.isdigit():\n",
        "    n=n+ch\n",
        "print(n)"
      ],
      "metadata": {
        "colab": {
          "base_uri": "https://localhost:8080/"
        },
        "id": "xOsSySLxDp07",
        "outputId": "1d329ccb-6ac5-4871-b9d1-f652a646824c"
      },
      "execution_count": null,
      "outputs": [
        {
          "output_type": "stream",
          "name": "stdout",
          "text": [
            "123456789\n"
          ]
        }
      ]
    },
    {
      "cell_type": "markdown",
      "source": [
        "# Question 37: Convert \"snake_case\" to \"camelCase\"\n"
      ],
      "metadata": {
        "id": "pbhsfXqiESfq"
      }
    },
    {
      "cell_type": "code",
      "source": [
        "# in snakecase every words are lowercase seperated by _\n",
        "# in camelcase, frist word is lowercase and every next word starts with capital letter and here no spaces and _\n",
        "\n",
        "\n",
        "text = \"snake_case\"\n",
        "parts = text.split('_')    # ['snake','case']\n",
        "\n",
        "camel_case = parts[0]   # 'snake'\n",
        "\n",
        "for word in parts[1:]:\n",
        "    camel_case += word.capitalize()   # snakeCase\n",
        "\n",
        "print(camel_case)\n",
        "\n"
      ],
      "metadata": {
        "colab": {
          "base_uri": "https://localhost:8080/"
        },
        "id": "bBlAyAO4FXvh",
        "outputId": "8bd2c13a-5bfc-4f83-96d8-1e29b9f38ab2"
      },
      "execution_count": null,
      "outputs": [
        {
          "output_type": "stream",
          "name": "stdout",
          "text": [
            "snakeCase\n"
          ]
        }
      ]
    },
    {
      "cell_type": "markdown",
      "source": [
        "# Question 38: Check if string is a valid palindrome ignoring case: \"A man a plan a canal Panama\"\n"
      ],
      "metadata": {
        "id": "Gv96vmj5H3k-"
      }
    },
    {
      "cell_type": "code",
      "source": [
        "s=\"A man a plan a canal Panama\"\n",
        "\n",
        "g=s.replace(\" \",\"\").lower()   # amanaplanacanalpanama\n",
        "\n",
        "if g==g[::-1]:\n",
        "  print(\"it is Palindrome\")\n",
        "\n",
        "else:\n",
        "  print(\"it is not palindrome\")"
      ],
      "metadata": {
        "colab": {
          "base_uri": "https://localhost:8080/"
        },
        "id": "RZS5FS99Ib1n",
        "outputId": "e397df19-e374-4dd7-938f-0748b424a7e7"
      },
      "execution_count": null,
      "outputs": [
        {
          "output_type": "stream",
          "name": "stdout",
          "text": [
            "it is Palindrome\n"
          ]
        }
      ]
    },
    {
      "cell_type": "markdown",
      "source": [
        "# Question 39: Find the most common word in \"the quick brown fox jumps over the lazy dog\"\n"
      ],
      "metadata": {
        "id": "FD5ub5BxNoex"
      }
    },
    {
      "cell_type": "code",
      "source": [
        "t=\"the quick brown fox jumps over the lazy dog\"\n",
        "\n",
        "words=t.split()\n",
        "\n",
        "result=max(words,key=words.count)  # key=words.count: compares based on how many times each word appears.\n",
        "\n",
        "\n",
        "\n",
        "print(result)"
      ],
      "metadata": {
        "id": "K8l3IpwxNreS",
        "colab": {
          "base_uri": "https://localhost:8080/"
        },
        "outputId": "f818923f-7d9e-47b5-fb8c-af28d362f995"
      },
      "execution_count": null,
      "outputs": [
        {
          "output_type": "stream",
          "name": "stdout",
          "text": [
            "the\n"
          ]
        }
      ]
    },
    {
      "cell_type": "markdown",
      "source": [
        "# Question 40: Generate acronym from \"National Aeronautics and Space Administration\"\n"
      ],
      "metadata": {
        "id": "VXFsLmz61Nvi"
      }
    },
    {
      "cell_type": "code",
      "source": [
        "s=\"National Aeronautics  Space Administration\"\n",
        "\n",
        "words=s.split()\n",
        "acronym = ''\n",
        "for word in words:\n",
        "    first_letter = word[0].upper()\n",
        "    acronym += first_letter\n",
        "\n",
        "\n",
        "\n",
        "print(acronym)"
      ],
      "metadata": {
        "colab": {
          "base_uri": "https://localhost:8080/"
        },
        "id": "CQNtwnXswi9d",
        "outputId": "3765551d-4e2b-402f-e64d-fe8c6ea90adb"
      },
      "execution_count": null,
      "outputs": [
        {
          "output_type": "stream",
          "name": "stdout",
          "text": [
            "NASA\n"
          ]
        }
      ]
    },
    {
      "cell_type": "code",
      "source": [
        "text = \"National Aeronautics Space Administration\"\n",
        "words = text.split()\n",
        "acronym = ''.join(word[0].upper() for word in words)\n",
        "print(acronym)\n"
      ],
      "metadata": {
        "colab": {
          "base_uri": "https://localhost:8080/"
        },
        "id": "6k48eLd1zEID",
        "outputId": "0b75b61e-8536-46b8-88fd-aa6b36b4c10d"
      },
      "execution_count": null,
      "outputs": [
        {
          "output_type": "stream",
          "name": "stdout",
          "text": [
            "NASA\n"
          ]
        }
      ]
    },
    {
      "cell_type": "markdown",
      "source": [
        "# Question 41: Check if string contains balanced parentheses: \"((()))\"\n"
      ],
      "metadata": {
        "id": "2M_uIN7T0DFG"
      }
    },
    {
      "cell_type": "code",
      "source": [
        "text=\"((()))\"\n",
        "count=0\n",
        "balanced=True\n",
        "\n",
        "for char in text:\n",
        "  if char=='(':\n",
        "    count+=1\n",
        "  elif char==')':\n",
        "    count-=1\n",
        "\n",
        "\n",
        "if count!=0:\n",
        "  balanced=False\n",
        "\n",
        "if count==0:\n",
        "  balanced=True\n",
        "\n",
        "print(balanced)"
      ],
      "metadata": {
        "colab": {
          "base_uri": "https://localhost:8080/"
        },
        "id": "MT--_6Eo0FAS",
        "outputId": "2e155d9c-fd05-4260-e5ea-bd664e24ddd8"
      },
      "execution_count": null,
      "outputs": [
        {
          "output_type": "stream",
          "name": "stdout",
          "text": [
            "True\n"
          ]
        }
      ]
    },
    {
      "cell_type": "markdown",
      "source": [
        "# Question 42: Convert \"hello world\" to Morse code\n"
      ],
      "metadata": {
        "id": "f_785SAZAoH2"
      }
    },
    {
      "cell_type": "code",
      "source": [
        "text = \"hello world\"\n",
        "morse_dict = {\n",
        "    'a': '.-',    'b': '-...',  'c': '-.-.',\n",
        "    'd': '-..',   'e': '.',     'f': '..-.',\n",
        "    'g': '--.',   'h': '....',  'i': '..',\n",
        "    'j': '.---',  'k': '-.-',   'l': '.-..',\n",
        "    'm': '--',    'n': '-.',    'o': '---',\n",
        "    'p': '.--.',  'q': '--.-',  'r': '.-.',\n",
        "    's': '...',   't': '-',     'u': '..-',\n",
        "    'v': '...-',  'w': '.--',   'x': '-..-',\n",
        "    'y': '-.--',  'z': '--..',\n",
        "    ' ': '/'  # Slash for space between words\n",
        "}\n",
        "\n",
        "text=text.lower()\n",
        "morse_code=\"\"\n",
        "\n",
        "for i in text:\n",
        "  if i in morse_dict:\n",
        "    morse_code=morse_code+morse_dict[i]+\" \"\n",
        "\n",
        "print(morse_code)"
      ],
      "metadata": {
        "colab": {
          "base_uri": "https://localhost:8080/"
        },
        "id": "8dGeFOQUAmVX",
        "outputId": "de90868b-d20c-4961-a28c-d828311111c4"
      },
      "execution_count": null,
      "outputs": [
        {
          "output_type": "stream",
          "name": "stdout",
          "text": [
            ".... . .-.. .-.. --- / .-- --- .-. .-.. -.. \n"
          ]
        }
      ]
    },
    {
      "cell_type": "markdown",
      "source": [
        "# Question 43: Find the longest common substring between \"programming\" and \"grammar\"\n"
      ],
      "metadata": {
        "id": "r7XQ1KyUBVvS"
      }
    },
    {
      "cell_type": "code",
      "source": [],
      "metadata": {
        "id": "vEH8No5uDz1h"
      },
      "execution_count": null,
      "outputs": []
    },
    {
      "cell_type": "markdown",
      "source": [
        "# Question 44: Check if string is a valid URL: \"https://www.google.com\"\n"
      ],
      "metadata": {
        "id": "cnR9DuaPD5_q"
      }
    },
    {
      "cell_type": "code",
      "source": [
        "URL= \"https://www.google.com\"\n",
        "\n",
        "if URL.startswith(\"https://\") and \".\" in URL:\n",
        "  print(\"it is valid url string\")\n",
        "\n",
        "else:\n",
        "  print(\"it is not valid url string\")\n",
        "\n"
      ],
      "metadata": {
        "colab": {
          "base_uri": "https://localhost:8080/"
        },
        "id": "0cvzRPyzD9lG",
        "outputId": "dcad2837-e7ab-4413-c7fb-9a0a6b8f4064"
      },
      "execution_count": null,
      "outputs": [
        {
          "output_type": "stream",
          "name": "stdout",
          "text": [
            "it is valid url string\n"
          ]
        }
      ]
    },
    {
      "cell_type": "markdown",
      "source": [
        "# Question 45: Extract all words with length > 5 from \"Python programming is amazing and powerful\"\n"
      ],
      "metadata": {
        "id": "3M9kp6zzEqr9"
      }
    },
    {
      "cell_type": "code",
      "source": [
        "s=\"Python programming is amazing and powerful\"\n",
        "words=s.split()\n",
        "result=[]\n",
        "for i in words:\n",
        "  if len(i)>5:\n",
        "    result.append(i)\n",
        "\n",
        "print(result)\n"
      ],
      "metadata": {
        "colab": {
          "base_uri": "https://localhost:8080/"
        },
        "id": "BHwAqdlNEx9L",
        "outputId": "b80621c7-2562-4934-fa3e-bf7e3c94289b"
      },
      "execution_count": null,
      "outputs": [
        {
          "output_type": "stream",
          "name": "stdout",
          "text": [
            "['Python', 'programming', 'amazing', 'powerful']\n"
          ]
        }
      ]
    },
    {
      "cell_type": "markdown",
      "source": [
        "# Question 46: Convert \"hello world\" to Pig Latin\n"
      ],
      "metadata": {
        "id": "-P4l9VYzGL-f"
      }
    },
    {
      "cell_type": "code",
      "source": [
        "string_1 = \"hello world\"\n",
        "words = string_1.split()\n",
        "pig_latin_words = []\n",
        "\n",
        "for word in words:\n",
        "    new_word = word[1:] + word[0] + \"ay\"\n",
        "    pig_latin_words.append(new_word)\n",
        "\n",
        "result = \" \".join(pig_latin_words)\n",
        "print(result)\n"
      ],
      "metadata": {
        "colab": {
          "base_uri": "https://localhost:8080/"
        },
        "id": "iQHdnrFiKhkw",
        "outputId": "70fb0138-c77b-4099-8204-251cfdffe1a6"
      },
      "execution_count": 14,
      "outputs": [
        {
          "output_type": "stream",
          "name": "stdout",
          "text": [
            "ellohay orldway\n"
          ]
        }
      ]
    },
    {
      "cell_type": "markdown",
      "source": [
        "# Question 47: Check if string is a valid IPv4 address: \"192.168.1.1\"\n"
      ],
      "metadata": {
        "id": "1DkjCuP8LHhX"
      }
    },
    {
      "cell_type": "code",
      "source": [
        "ip = \"192.168.1.1\"\n",
        "splited_ip = ip.split(\".\")\n",
        "\n",
        "if len(splited_ip) == 4:  # IPv4 should have 4 parts\n",
        "    valid = True\n",
        "    for i in splited_ip:\n",
        "        if not i.isdigit() or not (0 <= int(i) <= 255):\n",
        "            valid = False\n",
        "            break\n",
        "    if valid:\n",
        "        print(\"It is a valid IPv4 address\")\n",
        "    else:\n",
        "        print(\"It is not a valid IPv4 address\")\n",
        "else:\n",
        "    print(\"It is not a valid IPv4 address\")\n"
      ],
      "metadata": {
        "colab": {
          "base_uri": "https://localhost:8080/"
        },
        "id": "Zekczc9bLNIf",
        "outputId": "f4239bbe-4d8a-4d04-8c46-667fa10b1184"
      },
      "execution_count": 20,
      "outputs": [
        {
          "output_type": "stream",
          "name": "stdout",
          "text": [
            "It is a valid IPv4 address\n"
          ]
        }
      ]
    },
    {
      "cell_type": "markdown",
      "source": [
        "# Question 49: Convert \"hello world\" to ROT13 encoding\n"
      ],
      "metadata": {
        "id": "wC6sP6_1OGRJ"
      }
    },
    {
      "cell_type": "markdown",
      "source": [
        "# Question 50: Check if string is a valid credit card number: \"4532015112830366\"\n",
        "\n"
      ],
      "metadata": {
        "id": "CLqIkoNcP1v8"
      }
    }
  ]
}